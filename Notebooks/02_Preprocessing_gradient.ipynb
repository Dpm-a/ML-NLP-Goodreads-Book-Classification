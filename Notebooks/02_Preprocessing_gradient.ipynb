{
 "cells": [
  {
   "cell_type": "markdown",
   "id": "NH6C12ucdF3N",
   "metadata": {
    "id": "NH6C12ucdF3N",
    "jp-MarkdownHeadingCollapsed": true,
    "tags": []
   },
   "source": [
    "# To run if on Colab"
   ]
  },
  {
   "cell_type": "code",
   "execution_count": 1,
   "id": "dAngZsuQcYEk",
   "metadata": {
    "colab": {
     "base_uri": "https://localhost:8080/",
     "height": 87
    },
    "id": "dAngZsuQcYEk",
    "outputId": "e6ca9ad0-ff59-4d77-fa6c-14c559cc03c4"
   },
   "outputs": [
    {
     "ename": "ModuleNotFoundError",
     "evalue": "No module named 'google.colab'",
     "output_type": "error",
     "traceback": [
      "\u001b[1;31m---------------------------------------------------------------------------\u001b[0m",
      "\u001b[1;31mModuleNotFoundError\u001b[0m                       Traceback (most recent call last)",
      "\u001b[1;32m~\\AppData\\Local\\Temp/ipykernel_11996/635219935.py\u001b[0m in \u001b[0;36m<module>\u001b[1;34m\u001b[0m\n\u001b[1;32m----> 1\u001b[1;33m \u001b[1;32mfrom\u001b[0m \u001b[0mgoogle\u001b[0m\u001b[1;33m.\u001b[0m\u001b[0mcolab\u001b[0m \u001b[1;32mimport\u001b[0m \u001b[0mdrive\u001b[0m\u001b[1;33m\u001b[0m\u001b[1;33m\u001b[0m\u001b[0m\n\u001b[0m\u001b[0;32m      2\u001b[0m \u001b[0mdrive\u001b[0m\u001b[1;33m.\u001b[0m\u001b[0mmount\u001b[0m\u001b[1;33m(\u001b[0m\u001b[1;34m'/content/drive'\u001b[0m\u001b[1;33m)\u001b[0m\u001b[1;33m\u001b[0m\u001b[1;33m\u001b[0m\u001b[0m\n\u001b[0;32m      3\u001b[0m \u001b[1;33m\u001b[0m\u001b[0m\n\u001b[0;32m      4\u001b[0m \u001b[1;32mimport\u001b[0m \u001b[0mshutil\u001b[0m\u001b[1;33m\u001b[0m\u001b[1;33m\u001b[0m\u001b[0m\n\u001b[0;32m      5\u001b[0m \u001b[1;32mimport\u001b[0m \u001b[0mzipfile\u001b[0m\u001b[1;33m\u001b[0m\u001b[1;33m\u001b[0m\u001b[0m\n",
      "\u001b[1;31mModuleNotFoundError\u001b[0m: No module named 'google.colab'"
     ]
    }
   ],
   "source": [
    "from google.colab import drive\n",
    "drive.mount('/content/drive')\n",
    "\n",
    "import shutil\n",
    "import zipfile\n",
    "import os\n",
    "\n",
    "file_name = 'Dataset_TXA.zip'\n",
    "\n",
    "# copying the dataset to the temporary workspace\n",
    "print('Copying Dataset to temporary workspace...')\n",
    "shutil.copyfile('drive/MyDrive/Dataset_TXA.zip', 'Dataset_TXA.zip')\n",
    "print('Copied...')\n",
    "\n",
    "# unzipping the dataset\n",
    "path = 'Dataset'\n",
    "with zipfile.ZipFile(file_name, 'r') as zip_ref:\n",
    "    zip_ref.extractall(path)\n",
    "\n",
    "#moving inside the Dataset folder\n",
    "os.chdir(path)\n",
    "os.getcwd()"
   ]
  },
  {
   "cell_type": "code",
   "execution_count": null,
   "id": "42a94be8-793a-4a89-8d34-039f516b9972",
   "metadata": {
    "colab": {
     "base_uri": "https://localhost:8080/",
     "height": 34
    },
    "id": "42a94be8-793a-4a89-8d34-039f516b9972",
    "outputId": "c0cb2ec5-ebb3-45d5-dac9-3ca98388b5e1"
   },
   "outputs": [],
   "source": [
    "!pip install swifter\n",
    "!pip install wordcloud\n",
    "!pip install gensim\n",
    "!pip install transformers\n",
    "!pip install spacy\n",
    "!spacy download en_core_web_sm\n",
    "\n",
    "# to remove the output of the installation\n",
    "from IPython.display import clear_output\n",
    "clear_output(wait=True)\n",
    "print('Set up complete')"
   ]
  },
  {
   "cell_type": "markdown",
   "id": "3hb8AbWNfPM7",
   "metadata": {
    "id": "3hb8AbWNfPM7"
   },
   "source": [
    "# Importing the Libraries"
   ]
  },
  {
   "cell_type": "code",
   "execution_count": 1,
   "id": "c44bab70-826c-4a4f-b496-855f6c311ce9",
   "metadata": {
    "colab": {
     "base_uri": "https://localhost:8080/"
    },
    "id": "c44bab70-826c-4a4f-b496-855f6c311ce9",
    "outputId": "b3d2b0c3-66bf-4cd7-ef67-fa1ee17feaed",
    "tags": []
   },
   "outputs": [
    {
     "name": "stderr",
     "output_type": "stream",
     "text": [
      "[nltk_data] Downloading package punkt to\n",
      "[nltk_data]     C:\\Users\\daddu\\AppData\\Roaming\\nltk_data...\n",
      "[nltk_data]   Package punkt is already up-to-date!\n",
      "[nltk_data] Downloading package wordnet to\n",
      "[nltk_data]     C:\\Users\\daddu\\AppData\\Roaming\\nltk_data...\n",
      "[nltk_data]   Package wordnet is already up-to-date!\n",
      "[nltk_data] Downloading package omw-1.4 to\n",
      "[nltk_data]     C:\\Users\\daddu\\AppData\\Roaming\\nltk_data...\n",
      "[nltk_data]   Package omw-1.4 is already up-to-date!\n"
     ]
    }
   ],
   "source": [
    "import pandas as pd\n",
    "import numpy as np\n",
    "import matplotlib.pyplot as plt\n",
    "import seaborn as sns\n",
    "\n",
    "import re\n",
    "import time\n",
    "from collections import Counter\n",
    "\n",
    "import requests\n",
    "from bs4 import BeautifulSoup\n",
    "\n",
    "import nltk\n",
    "from nltk import word_tokenize\n",
    "from nltk.corpus import stopwords\n",
    "\n",
    "from gensim.parsing.preprocessing import remove_stopwords, STOPWORDS\n",
    "\n",
    "import torch\n",
    "import swifter\n",
    "from wordcloud import WordCloud\n",
    "from transformers import AutoTokenizer, AutoModelForSequenceClassification\n",
    "\n",
    "# Split the documents into tokens.\n",
    "from nltk.tokenize import RegexpTokenizer\n",
    "\n",
    "# Lemmatize the documents.\n",
    "from nltk.stem.wordnet import WordNetLemmatizer\n",
    "\n",
    "nltk.download('punkt')\n",
    "nltk.download('wordnet')\n",
    "nltk.download('omw-1.4')\n",
    "\n",
    "stop_words = set(STOPWORDS)"
   ]
  },
  {
   "cell_type": "code",
   "execution_count": 2,
   "id": "153ec98c-37dc-410e-898b-145c75354e4a",
   "metadata": {
    "id": "153ec98c-37dc-410e-898b-145c75354e4a"
   },
   "outputs": [],
   "source": [
    "# cleaning different patterns\n",
    "def clean_tokens(tokens):\n",
    "    tokens = re.sub(r'[^\\w\\s]', '', tokens)\n",
    "    tokens = re.sub(r'<.*?>', '', tokens) #removing HTMLS\n",
    "    tokens = re.sub(r\"\\\\\", \"\", tokens) #removing \\ character\n",
    "    tokens = re.sub(r\"\\n\", \"\", tokens)\n",
    "    tokens = re.sub(r\"http\\S+\", \"\", tokens) #removing HTTPS\n",
    "    tokens = re.sub(r'\\b\\d+\\b', '', tokens) #removing numbers\n",
    "    \n",
    "    return tokens.strip().lower()"
   ]
  },
  {
   "cell_type": "code",
   "execution_count": 3,
   "id": "6107b7c0-c636-4197-b25c-c124d19d4162",
   "metadata": {
    "id": "6107b7c0-c636-4197-b25c-c124d19d4162"
   },
   "outputs": [],
   "source": [
    "#cleaning stopwords and words containing non alphanumeric characters\n",
    "def remove_stop_words(column):\n",
    "    return [[word for word in ls if (word not in stop_words) and word.isalpha()] for ls in column]"
   ]
  },
  {
   "cell_type": "markdown",
   "id": "445ceca2-24f5-403f-96c7-064ea862009a",
   "metadata": {
    "id": "445ceca2-24f5-403f-96c7-064ea862009a"
   },
   "source": [
    "# Loading the Training Set"
   ]
  },
  {
   "cell_type": "code",
   "execution_count": 4,
   "id": "e0c0c589-6b00-4784-a23a-9521e6502b05",
   "metadata": {
    "id": "e0c0c589-6b00-4784-a23a-9521e6502b05"
   },
   "outputs": [],
   "source": [
    "df = pd.read_csv(\"gr_training_set.csv\")"
   ]
  },
  {
   "cell_type": "code",
   "execution_count": 5,
   "id": "909cd9a3-7dae-485f-a26c-5e94d0e626e7",
   "metadata": {
    "colab": {
     "base_uri": "https://localhost:8080/",
     "height": 517
    },
    "id": "909cd9a3-7dae-485f-a26c-5e94d0e626e7",
    "outputId": "0534e837-84f4-41bd-b780-99d214d54537"
   },
   "outputs": [
    {
     "data": {
      "text/html": [
       "<div>\n",
       "<style scoped>\n",
       "    .dataframe tbody tr th:only-of-type {\n",
       "        vertical-align: middle;\n",
       "    }\n",
       "\n",
       "    .dataframe tbody tr th {\n",
       "        vertical-align: top;\n",
       "    }\n",
       "\n",
       "    .dataframe thead th {\n",
       "        text-align: right;\n",
       "    }\n",
       "</style>\n",
       "<table border=\"1\" class=\"dataframe\">\n",
       "  <thead>\n",
       "    <tr style=\"text-align: right;\">\n",
       "      <th></th>\n",
       "      <th>user_id</th>\n",
       "      <th>book_id</th>\n",
       "      <th>review_id</th>\n",
       "      <th>rating</th>\n",
       "      <th>review_text</th>\n",
       "      <th>date_added</th>\n",
       "      <th>date_updated</th>\n",
       "      <th>read_at</th>\n",
       "      <th>started_at</th>\n",
       "      <th>n_votes</th>\n",
       "      <th>n_comments</th>\n",
       "      <th>genre</th>\n",
       "    </tr>\n",
       "  </thead>\n",
       "  <tbody>\n",
       "    <tr>\n",
       "      <th>899996</th>\n",
       "      <td>b9450d1c1f97f891c392b1105959b56e</td>\n",
       "      <td>16095092</td>\n",
       "      <td>e979c735276431915d089cfaf446d64f</td>\n",
       "      <td>3</td>\n",
       "      <td>This was a quick read for me. I have read a lo...</td>\n",
       "      <td>Fri Nov 16 22:09:49 -0800 2012</td>\n",
       "      <td>Sat Nov 17 23:38:58 -0800 2012</td>\n",
       "      <td>Sat Nov 17 00:00:00 -0800 2012</td>\n",
       "      <td>Fri Nov 16 00:00:00 -0800 2012</td>\n",
       "      <td>1</td>\n",
       "      <td>1</td>\n",
       "      <td>NaN</td>\n",
       "    </tr>\n",
       "    <tr>\n",
       "      <th>899997</th>\n",
       "      <td>b9450d1c1f97f891c392b1105959b56e</td>\n",
       "      <td>8430896</td>\n",
       "      <td>feb9fe6439f9fbba8a1cce36020ad977</td>\n",
       "      <td>4</td>\n",
       "      <td>** spoiler alert ** \\n 3.5 stars. \\n This book...</td>\n",
       "      <td>Tue Nov 13 05:38:24 -0800 2012</td>\n",
       "      <td>Tue Nov 13 23:29:17 -0800 2012</td>\n",
       "      <td>Tue Nov 13 00:00:00 -0800 2012</td>\n",
       "      <td>Tue Nov 13 00:00:00 -0800 2012</td>\n",
       "      <td>1</td>\n",
       "      <td>0</td>\n",
       "      <td>Young Adult</td>\n",
       "    </tr>\n",
       "    <tr>\n",
       "      <th>899998</th>\n",
       "      <td>b9450d1c1f97f891c392b1105959b56e</td>\n",
       "      <td>12275680</td>\n",
       "      <td>741e29369f70531bfffbd02add86f228</td>\n",
       "      <td>4</td>\n",
       "      <td>** spoiler alert ** \\n Another fun read from M...</td>\n",
       "      <td>Mon Nov 12 05:42:30 -0800 2012</td>\n",
       "      <td>Tue Nov 13 22:32:05 -0800 2012</td>\n",
       "      <td>Tue Nov 13 00:00:00 -0800 2012</td>\n",
       "      <td>Mon Nov 12 00:00:00 -0800 2012</td>\n",
       "      <td>0</td>\n",
       "      <td>0</td>\n",
       "      <td>Mystery</td>\n",
       "    </tr>\n",
       "    <tr>\n",
       "      <th>899999</th>\n",
       "      <td>b9450d1c1f97f891c392b1105959b56e</td>\n",
       "      <td>17005</td>\n",
       "      <td>d55f3a967230940e75a314700caec9a5</td>\n",
       "      <td>3</td>\n",
       "      <td>** spoiler alert ** \\n 3.5 stars \\n I liked it...</td>\n",
       "      <td>Sun Nov 11 00:05:43 -0800 2012</td>\n",
       "      <td>Sun Nov 11 21:59:08 -0800 2012</td>\n",
       "      <td>Sun Nov 11 00:00:00 -0800 2012</td>\n",
       "      <td>Sun Nov 11 00:00:00 -0800 2012</td>\n",
       "      <td>0</td>\n",
       "      <td>0</td>\n",
       "      <td>Young Adult</td>\n",
       "    </tr>\n",
       "  </tbody>\n",
       "</table>\n",
       "</div>"
      ],
      "text/plain": [
       "                                 user_id   book_id  \\\n",
       "899996  b9450d1c1f97f891c392b1105959b56e  16095092   \n",
       "899997  b9450d1c1f97f891c392b1105959b56e   8430896   \n",
       "899998  b9450d1c1f97f891c392b1105959b56e  12275680   \n",
       "899999  b9450d1c1f97f891c392b1105959b56e     17005   \n",
       "\n",
       "                               review_id  rating  \\\n",
       "899996  e979c735276431915d089cfaf446d64f       3   \n",
       "899997  feb9fe6439f9fbba8a1cce36020ad977       4   \n",
       "899998  741e29369f70531bfffbd02add86f228       4   \n",
       "899999  d55f3a967230940e75a314700caec9a5       3   \n",
       "\n",
       "                                              review_text  \\\n",
       "899996  This was a quick read for me. I have read a lo...   \n",
       "899997  ** spoiler alert ** \\n 3.5 stars. \\n This book...   \n",
       "899998  ** spoiler alert ** \\n Another fun read from M...   \n",
       "899999  ** spoiler alert ** \\n 3.5 stars \\n I liked it...   \n",
       "\n",
       "                            date_added                    date_updated  \\\n",
       "899996  Fri Nov 16 22:09:49 -0800 2012  Sat Nov 17 23:38:58 -0800 2012   \n",
       "899997  Tue Nov 13 05:38:24 -0800 2012  Tue Nov 13 23:29:17 -0800 2012   \n",
       "899998  Mon Nov 12 05:42:30 -0800 2012  Tue Nov 13 22:32:05 -0800 2012   \n",
       "899999  Sun Nov 11 00:05:43 -0800 2012  Sun Nov 11 21:59:08 -0800 2012   \n",
       "\n",
       "                               read_at                      started_at  \\\n",
       "899996  Sat Nov 17 00:00:00 -0800 2012  Fri Nov 16 00:00:00 -0800 2012   \n",
       "899997  Tue Nov 13 00:00:00 -0800 2012  Tue Nov 13 00:00:00 -0800 2012   \n",
       "899998  Tue Nov 13 00:00:00 -0800 2012  Mon Nov 12 00:00:00 -0800 2012   \n",
       "899999  Sun Nov 11 00:00:00 -0800 2012  Sun Nov 11 00:00:00 -0800 2012   \n",
       "\n",
       "        n_votes  n_comments        genre  \n",
       "899996        1           1          NaN  \n",
       "899997        1           0  Young Adult  \n",
       "899998        0           0      Mystery  \n",
       "899999        0           0  Young Adult  "
      ]
     },
     "execution_count": 5,
     "metadata": {},
     "output_type": "execute_result"
    }
   ],
   "source": [
    "df.tail(4)"
   ]
  },
  {
   "cell_type": "markdown",
   "id": "53b7qTuCnzqJ",
   "metadata": {
    "id": "53b7qTuCnzqJ",
    "jp-MarkdownHeadingCollapsed": true,
    "tags": []
   },
   "source": [
    "# Checking Users' behaviour\n",
    "If some users reviewed too many books and if the users reviewed the same books more than once"
   ]
  },
  {
   "cell_type": "code",
   "execution_count": 6,
   "id": "G7HVQZV3n_rE",
   "metadata": {
    "id": "G7HVQZV3n_rE"
   },
   "outputs": [],
   "source": [
    "dist_user_reviews = sorted(\n",
    "                            list(df.user_id.value_counts().items()),\n",
    "                           key = lambda x: -x[1]) #sorting on count"
   ]
  },
  {
   "cell_type": "code",
   "execution_count": 7,
   "id": "IT3Zh3ExosZ3",
   "metadata": {
    "colab": {
     "base_uri": "https://localhost:8080/",
     "height": 54
    },
    "id": "IT3Zh3ExosZ3",
    "outputId": "9906dce3-5b4a-45c9-ee7b-635982b151df"
   },
   "outputs": [
    {
     "data": {
      "image/png": "[encoded data removed]",
      "text/plain": [
       "<Figure size 432x288 with 1 Axes>"
      ]
     },
     "metadata": {
      "needs_background": "light"
     },
     "output_type": "display_data"
    }
   ],
   "source": [
    "# conclusion: power law of a few users with lots of reviews\n",
    "plt.plot([x[1] for x in dist_user_reviews])\n",
    "plt.ylabel('Book_Reviewed')\n",
    "plt.xlabel('User_ID')\n",
    "plt.show()"
   ]
  },
  {
   "cell_type": "code",
   "execution_count": 8,
   "id": "PZZkJXPkrG9y",
   "metadata": {
    "colab": {
     "base_uri": "https://localhost:8080/"
    },
    "id": "PZZkJXPkrG9y",
    "outputId": "81cf3686-6d88-4e96-e6b3-ee2c16c8095b"
   },
   "outputs": [
    {
     "data": {
      "text/plain": [
       "user_id                           book_id \n",
       "000a1016fda6008d1edbba720ca00851  178476      1\n",
       "                                  215643      1\n",
       "                                  458034      1\n",
       "                                  3863861     1\n",
       "                                  6040871     1\n",
       "                                             ..\n",
       "ffff7cafdaf5196383cb2efca08fb6fe  27161826    1\n",
       "                                  27272506    1\n",
       "                                  28260587    1\n",
       "                                  28954189    1\n",
       "                                  32571395    1\n",
       "Name: review_id, Length: 900000, dtype: int64"
      ]
     },
     "execution_count": 8,
     "metadata": {},
     "output_type": "execute_result"
    }
   ],
   "source": [
    "book_per_user = df.groupby(['user_id', 'book_id']).count()['review_id']\n",
    "book_per_user"
   ]
  },
  {
   "cell_type": "code",
   "execution_count": 9,
   "id": "DcKzREE8qUAD",
   "metadata": {
    "colab": {
     "base_uri": "https://localhost:8080/"
    },
    "id": "DcKzREE8qUAD",
    "outputId": "d54afa85-8a0f-4ba7-c915-4a3bc0414df5"
   },
   "outputs": [
    {
     "data": {
      "text/plain": [
       "1"
      ]
     },
     "execution_count": 9,
     "metadata": {},
     "output_type": "execute_result"
    }
   ],
   "source": [
    "# no review of the same book\n",
    "book_per_user.max()"
   ]
  },
  {
   "cell_type": "markdown",
   "id": "9660d9a0-43f9-4c79-9d7e-cff94695b44a",
   "metadata": {
    "id": "9660d9a0-43f9-4c79-9d7e-cff94695b44a",
    "jp-MarkdownHeadingCollapsed": true,
    "tags": []
   },
   "source": [
    "# Balancing reviews per book\n",
    "Sampling reviews pertaining to books with too many reviews"
   ]
  },
  {
   "cell_type": "code",
   "execution_count": 10,
   "id": "Z1sDithvmxc2",
   "metadata": {
    "id": "Z1sDithvmxc2"
   },
   "outputs": [],
   "source": [
    "df['n_review_per_book'] = df.groupby('book_id')['book_id'].transform(len)"
   ]
  },
  {
   "cell_type": "code",
   "execution_count": 11,
   "id": "KOaxByXysdn7",
   "metadata": {
    "colab": {
     "base_uri": "https://localhost:8080/",
     "height": 54
    },
    "id": "KOaxByXysdn7",
    "outputId": "d59f650a-5135-4cd1-b234-b28aec3f1e56"
   },
   "outputs": [
    {
     "data": {
      "image/png": "[encoded data removed]",
      "text/plain": [
       "<Figure size 432x288 with 1 Axes>"
      ]
     },
     "metadata": {
      "needs_background": "light"
     },
     "output_type": "display_data"
    }
   ],
   "source": [
    "# too many reviews for some books, they need some balancing\n",
    "reviews_x_book = [x[1] for x in sorted(list(set([(x, y) for x, y in df[['book_id', 'n_review_per_book']].values])),\n",
    "                                       key = lambda x: -x[1])]\n",
    "                                       \n",
    "plt.plot(reviews_x_book)\n",
    "plt.ylabel('Reviews')\n",
    "plt.xlabel('Book_id')\n",
    "plt.show()"
   ]
  },
  {
   "cell_type": "code",
   "execution_count": 12,
   "id": "JmBA62uqvPHj",
   "metadata": {
    "colab": {
     "base_uri": "https://localhost:8080/"
    },
    "id": "JmBA62uqvPHj",
    "outputId": "9c2ef69f-a24d-456b-a7e1-efae31343071"
   },
   "outputs": [
    {
     "data": {
      "text/plain": [
       "35"
      ]
     },
     "execution_count": 12,
     "metadata": {},
     "output_type": "execute_result"
    }
   ],
   "source": [
    "#average number of reviews per book\n",
    "average_rev = int(sum(reviews_x_book) / len(reviews_x_book) // 1)\n",
    "average_rev"
   ]
  },
  {
   "cell_type": "code",
   "execution_count": 13,
   "id": "adYFCWKpwE9U",
   "metadata": {
    "id": "adYFCWKpwE9U"
   },
   "outputs": [],
   "source": [
    "indexes_to_keep = df[df['n_review_per_book'] <= average_rev].index\n",
    "index_sampled = df[df['n_review_per_book'] > average_rev].groupby('book_id').sample(average_rev).index\n",
    "\n",
    "new_indexes = sorted(indexes_to_keep.tolist()+index_sampled.tolist())"
   ]
  },
  {
   "cell_type": "code",
   "execution_count": 14,
   "id": "b-Fkwm1dwvnW",
   "metadata": {
    "colab": {
     "base_uri": "https://localhost:8080/"
    },
    "id": "b-Fkwm1dwvnW",
    "outputId": "38197440-3204-4907-eb4d-fcd9117fc87f"
   },
   "outputs": [
    {
     "data": {
      "text/plain": [
       "501745"
      ]
     },
     "execution_count": 14,
     "metadata": {},
     "output_type": "execute_result"
    }
   ],
   "source": [
    "df = df.loc[new_indexes].reset_index(drop=True)\n",
    "len(df)"
   ]
  },
  {
   "cell_type": "markdown",
   "id": "9NIwfdKWfqbJ",
   "metadata": {
    "id": "9NIwfdKWfqbJ"
   },
   "source": [
    "# Dropping NaN genres"
   ]
  },
  {
   "cell_type": "code",
   "execution_count": 6,
   "id": "e37dd8e7-50e4-4d3f-89cc-2f0e61728dbc",
   "metadata": {
    "colab": {
     "base_uri": "https://localhost:8080/"
    },
    "id": "e37dd8e7-50e4-4d3f-89cc-2f0e61728dbc",
    "outputId": "6615e8b3-ab3c-4395-952c-f222da1a520c"
   },
   "outputs": [
    {
     "name": "stdout",
     "output_type": "stream",
     "text": [
      "NaN values: 181413\n",
      "NaN values: 0\n"
     ]
    }
   ],
   "source": [
    "#Dropping NaN values\n",
    "print(f\"NaN values: {df.genre.isna().sum()}\")\n",
    "df.dropna(subset=['genre'], inplace=True)\n",
    "print(f\"NaN values: {df.genre.isna().sum()}\")"
   ]
  },
  {
   "cell_type": "code",
   "execution_count": 7,
   "id": "bhWD8gT4yrJV",
   "metadata": {
    "colab": {
     "base_uri": "https://localhost:8080/"
    },
    "id": "bhWD8gT4yrJV",
    "outputId": "4dc1b0fe-590c-4271-f8c5-4c6ab288b3c5"
   },
   "outputs": [
    {
     "name": "stdout",
     "output_type": "stream",
     "text": [
      "New Dataset Length: 718587\n"
     ]
    }
   ],
   "source": [
    "df_len = len(df)\n",
    "print(f'New Dataset Length: {df_len}')"
   ]
  },
  {
   "cell_type": "markdown",
   "id": "mduR9Jg3y3T_",
   "metadata": {
    "id": "mduR9Jg3y3T_"
   },
   "source": [
    "# Storing the new training set and cleaning RAM"
   ]
  },
  {
   "cell_type": "code",
   "execution_count": 8,
   "id": "msAXg9Hgy6WG",
   "metadata": {
    "id": "msAXg9Hgy6WG"
   },
   "outputs": [],
   "source": [
    "rev = df[[\"review_text\",\"genre\", \"rating\", \"book_id\"]]\n",
    "#del df"
   ]
  },
  {
   "cell_type": "code",
   "execution_count": 9,
   "id": "8d3ef887-2898-4225-b2a4-0c6656fe4119",
   "metadata": {},
   "outputs": [
    {
     "data": {
      "text/html": [
       "<div>\n",
       "<style scoped>\n",
       "    .dataframe tbody tr th:only-of-type {\n",
       "        vertical-align: middle;\n",
       "    }\n",
       "\n",
       "    .dataframe tbody tr th {\n",
       "        vertical-align: top;\n",
       "    }\n",
       "\n",
       "    .dataframe thead th {\n",
       "        text-align: right;\n",
       "    }\n",
       "</style>\n",
       "<table border=\"1\" class=\"dataframe\">\n",
       "  <thead>\n",
       "    <tr style=\"text-align: right;\">\n",
       "      <th></th>\n",
       "      <th>review_text</th>\n",
       "      <th>genre</th>\n",
       "      <th>rating</th>\n",
       "      <th>book_id</th>\n",
       "    </tr>\n",
       "  </thead>\n",
       "  <tbody>\n",
       "    <tr>\n",
       "      <th>0</th>\n",
       "      <td>This is a special book. It started slow for ab...</td>\n",
       "      <td>Science Fiction</td>\n",
       "      <td>5</td>\n",
       "      <td>18245960</td>\n",
       "    </tr>\n",
       "    <tr>\n",
       "      <th>1</th>\n",
       "      <td>Recommended by Don Katz. Avail for free in Dec...</td>\n",
       "      <td>Classics</td>\n",
       "      <td>3</td>\n",
       "      <td>16981</td>\n",
       "    </tr>\n",
       "    <tr>\n",
       "      <th>2</th>\n",
       "      <td>A fun, fast paced science fiction thriller. I ...</td>\n",
       "      <td>Science Fiction</td>\n",
       "      <td>3</td>\n",
       "      <td>28684704</td>\n",
       "    </tr>\n",
       "    <tr>\n",
       "      <th>3</th>\n",
       "      <td>Recommended reading to understand what is goin...</td>\n",
       "      <td>Nonfiction</td>\n",
       "      <td>0</td>\n",
       "      <td>27161156</td>\n",
       "    </tr>\n",
       "    <tr>\n",
       "      <th>4</th>\n",
       "      <td>I really enjoyed this book, and there is a lot...</td>\n",
       "      <td>Science Fiction</td>\n",
       "      <td>4</td>\n",
       "      <td>25884323</td>\n",
       "    </tr>\n",
       "  </tbody>\n",
       "</table>\n",
       "</div>"
      ],
      "text/plain": [
       "                                         review_text            genre  rating  \\\n",
       "0  This is a special book. It started slow for ab...  Science Fiction       5   \n",
       "1  Recommended by Don Katz. Avail for free in Dec...         Classics       3   \n",
       "2  A fun, fast paced science fiction thriller. I ...  Science Fiction       3   \n",
       "3  Recommended reading to understand what is goin...       Nonfiction       0   \n",
       "4  I really enjoyed this book, and there is a lot...  Science Fiction       4   \n",
       "\n",
       "    book_id  \n",
       "0  18245960  \n",
       "1     16981  \n",
       "2  28684704  \n",
       "3  27161156  \n",
       "4  25884323  "
      ]
     },
     "execution_count": 9,
     "metadata": {},
     "output_type": "execute_result"
    }
   ],
   "source": [
    "rev.head()"
   ]
  },
  {
   "cell_type": "code",
   "execution_count": 10,
   "id": "812bca9b-7145-4952-af89-e3205cb9045a",
   "metadata": {},
   "outputs": [
    {
     "data": {
      "text/plain": [
       "718587"
      ]
     },
     "execution_count": 10,
     "metadata": {},
     "output_type": "execute_result"
    }
   ],
   "source": [
    "len(rev)"
   ]
  },
  {
   "cell_type": "markdown",
   "id": "ee60a3b1-00c8-4ae5-b4ba-1b1539ac3b9f",
   "metadata": {
    "id": "ee60a3b1-00c8-4ae5-b4ba-1b1539ac3b9f"
   },
   "source": [
    "# Balancing the genres"
   ]
  },
  {
   "cell_type": "code",
   "execution_count": 11,
   "id": "c5e5384d-5a13-4e31-841b-5ea7932fa1d6",
   "metadata": {
    "colab": {
     "base_uri": "https://localhost:8080/"
    },
    "id": "c5e5384d-5a13-4e31-841b-5ea7932fa1d6",
    "outputId": "e52d3cea-208d-4872-e0f8-1ccfd576c4d1",
    "tags": []
   },
   "outputs": [
    {
     "data": {
      "text/plain": [
       "[(0, ('Fantasy', 195266)),\n",
       " (1, ('Romance', 161726)),\n",
       " (2, ('Young Adult', 127018)),\n",
       " (3, ('Fiction', 46510)),\n",
       " (4, ('Science Fiction', 31945)),\n",
       " (5, ('Sequential Art', 26561)),\n",
       " (6, ('Mystery', 22738)),\n",
       " (7, ('Historical', 17993)),\n",
       " (8, ('Classics', 14684)),\n",
       " (9, ('Horror', 14285)),\n",
       " (10, ('Nonfiction', 9514)),\n",
       " (11, ('New Adult', 8976)),\n",
       " (12, ('Paranormal', 5294)),\n",
       " (13, ('Dark', 5144)),\n",
       " (14, ('Thriller', 4305)),\n",
       " (15, ('Childrens', 4182)),\n",
       " (16, ('Erotica', 3054)),\n",
       " (17, ('Contemporary', 2539)),\n",
       " (18, ('Womens Fiction', 2416)),\n",
       " (19, ('Short Stories', 1964)),\n",
       " (20, ('LGBT', 1748)),\n",
       " (21, ('Adult Fiction', 1690)),\n",
       " (22, ('Sports', 1350)),\n",
       " (23, ('Media Tie In', 1320)),\n",
       " (24, ('Humor', 1123)),\n",
       " (25, ('Poetry', 1090)),\n",
       " (26, ('History', 557)),\n",
       " (27, ('Plays', 452)),\n",
       " (28, ('Christian Fiction', 318)),\n",
       " (29, ('Realistic Fiction', 289)),\n",
       " (30, ('Autobiography', 243)),\n",
       " (31, ('Reference', 196)),\n",
       " (32, ('Science', 175)),\n",
       " (33, ('Anthologies', 146)),\n",
       " (34, ('Polyamorous', 146)),\n",
       " (35, ('War', 142)),\n",
       " (36, ('Holiday', 123)),\n",
       " (37, ('Mythology', 110)),\n",
       " (38, ('Philosophy', 109)),\n",
       " (39, ('Crime', 93)),\n",
       " (40, ('Adventure', 91)),\n",
       " (41, ('Psychology', 85)),\n",
       " (42, ('Language', 84)),\n",
       " (43, ('Food and Drink', 67)),\n",
       " (44, ('Fan Fiction', 66)),\n",
       " (45, ('Shapeshifters', 65)),\n",
       " (46, ('Westerns', 64)),\n",
       " (47, ('Category Romance', 53)),\n",
       " (48, ('Religion', 41)),\n",
       " (49, ('Academic', 37)),\n",
       " (50, ('Sociology', 35)),\n",
       " (51, ('Cultural', 31)),\n",
       " (52, ('Biography', 30)),\n",
       " (53, ('Christian', 29)),\n",
       " (54, ('Music', 27)),\n",
       " (55, ('Audiobook', 27)),\n",
       " (56, ('Business', 24)),\n",
       " (57, ('Warfare', 23)),\n",
       " (58, ('Health', 20)),\n",
       " (59, ('Suspense', 16)),\n",
       " (60, ('Magical Realism', 14)),\n",
       " (61, ('Writing', 10)),\n",
       " (62, ('Superheroes', 10)),\n",
       " (63, ('Comics', 10)),\n",
       " (64, ('Science Fiction Fantasy', 9)),\n",
       " (65, ('Novella', 9)),\n",
       " (66, ('Economics', 9)),\n",
       " (67, ('Politics', 8)),\n",
       " (68, ('Humanities', 8)),\n",
       " (69, ('Social Movements', 8)),\n",
       " (70, ('Apocalyptic', 8)),\n",
       " (71, ('Parenting', 8)),\n",
       " (72, ('Animals', 7)),\n",
       " (73, ('Novels', 7)),\n",
       " (74, ('Retellings', 7)),\n",
       " (75, ('Couture', 6))]"
      ]
     },
     "execution_count": 11,
     "metadata": {},
     "output_type": "execute_result"
    }
   ],
   "source": [
    "list(enumerate(rev.genre.value_counts().items()))"
   ]
  },
  {
   "cell_type": "code",
   "execution_count": 12,
   "id": "dd746519-f9d4-4302-b634-64129f8cf761",
   "metadata": {
    "tags": []
   },
   "outputs": [],
   "source": [
    "new_genres = { frozenset({\"Fantasy\", \"Superheroes\", \"Shapeshifters\", \"Science Fiction Fantasy\"}) :\"Fantasy\" ,\n",
    "               frozenset({\"Romance\", \"Erotica\", \"Polyamorous\", \"Category Romance\"}) : \"Romance\",\n",
    "               frozenset({\"Fiction\", \"Young Adult\", \"New Adult\", \"Womens Fiction\", \n",
    "                          \"Adult Fiction\", \"Christian Fiction\", \"Realistic Fiction\",\n",
    "                          \"Fan Fiction\", \"Magical Realism\"}) : \"Fiction\",\n",
    "               frozenset({\"Sequential Art\", \"Music\", \"Couture\"}) : \"Art\",\n",
    "               frozenset({\"Thriller\", \"Mystery\", \"Crime\"}) : \"Thriller\",\n",
    "               frozenset({\"Science Fiction\"}) : \"Science Fiction\",\n",
    "               frozenset({\"Horror\", \"Paranormal\", \"Dark\", \"Suspense\"}) : \"Horror\",\n",
    "               frozenset({\"Classics\", \"Contemporary\", \"Poetry\", \"Plays\"}) : \"Literature\",\n",
    "               frozenset({\"Nonfiction\", \"Autobiography\", \"Biography\"}) : \"NonFiction\",\n",
    "               frozenset({\"Historical\", \"History\", \"War\", \"Mythology\"}) : \"History\",\n",
    "             }"
   ]
  },
  {
   "cell_type": "code",
   "execution_count": 13,
   "id": "478b17bc-d3ab-44af-8feb-c84173ebf4c6",
   "metadata": {
    "tags": []
   },
   "outputs": [
    {
     "data": {
      "text/plain": [
       "{'Shapeshifters': 'Fantasy',\n",
       " 'Science Fiction Fantasy': 'Fantasy',\n",
       " 'Superheroes': 'Fantasy',\n",
       " 'Fantasy': 'Fantasy',\n",
       " 'Romance': 'Romance',\n",
       " 'Category Romance': 'Romance',\n",
       " 'Erotica': 'Romance',\n",
       " 'Polyamorous': 'Romance',\n",
       " 'New Adult': 'Fiction',\n",
       " 'Womens Fiction': 'Fiction',\n",
       " 'Realistic Fiction': 'Fiction',\n",
       " 'Fiction': 'Fiction',\n",
       " 'Fan Fiction': 'Fiction',\n",
       " 'Magical Realism': 'Fiction',\n",
       " 'Adult Fiction': 'Fiction',\n",
       " 'Young Adult': 'Fiction',\n",
       " 'Christian Fiction': 'Fiction',\n",
       " 'Music': 'Art',\n",
       " 'Couture': 'Art',\n",
       " 'Sequential Art': 'Art',\n",
       " 'Mystery': 'Thriller',\n",
       " 'Thriller': 'Thriller',\n",
       " 'Crime': 'Thriller',\n",
       " 'Science Fiction': 'Science Fiction',\n",
       " 'Dark': 'Horror',\n",
       " 'Suspense': 'Horror',\n",
       " 'Paranormal': 'Horror',\n",
       " 'Horror': 'Horror',\n",
       " 'Plays': 'Literature',\n",
       " 'Contemporary': 'Literature',\n",
       " 'Classics': 'Literature',\n",
       " 'Poetry': 'Literature',\n",
       " 'Nonfiction': 'NonFiction',\n",
       " 'Autobiography': 'NonFiction',\n",
       " 'Biography': 'NonFiction',\n",
       " 'History': 'History',\n",
       " 'Historical': 'History',\n",
       " 'Mythology': 'History',\n",
       " 'War': 'History'}"
      ]
     },
     "execution_count": 13,
     "metadata": {},
     "output_type": "execute_result"
    }
   ],
   "source": [
    "#list of genres that can't be aggregate\n",
    "genres_to_keep_dict = {genre:val for lista,val in new_genres.items() for genre in lista}\n",
    "genres_to_keep_dict"
   ]
  },
  {
   "cell_type": "code",
   "execution_count": 14,
   "id": "44f37875-133f-4665-9c50-9561bff5ea4a",
   "metadata": {},
   "outputs": [
    {
     "name": "stdout",
     "output_type": "stream",
     "text": [
      "Initial rows: 718587\n",
      "Filtered len: 705394\n"
     ]
    }
   ],
   "source": [
    "print(f\"Initial rows: {len(rev)}\")\n",
    "rev = rev[rev.genre.isin(genres_to_keep_dict.keys())].reset_index(drop=True)\n",
    "print(f\"Filtered len: {len(rev)}\")"
   ]
  },
  {
   "cell_type": "code",
   "execution_count": 15,
   "id": "c1a716a0-079b-4537-ad56-10a437eb0212",
   "metadata": {},
   "outputs": [
    {
     "data": {
      "text/html": [
       "<div>\n",
       "<style scoped>\n",
       "    .dataframe tbody tr th:only-of-type {\n",
       "        vertical-align: middle;\n",
       "    }\n",
       "\n",
       "    .dataframe tbody tr th {\n",
       "        vertical-align: top;\n",
       "    }\n",
       "\n",
       "    .dataframe thead th {\n",
       "        text-align: right;\n",
       "    }\n",
       "</style>\n",
       "<table border=\"1\" class=\"dataframe\">\n",
       "  <thead>\n",
       "    <tr style=\"text-align: right;\">\n",
       "      <th></th>\n",
       "      <th>review_text</th>\n",
       "      <th>genre</th>\n",
       "      <th>rating</th>\n",
       "      <th>book_id</th>\n",
       "    </tr>\n",
       "  </thead>\n",
       "  <tbody>\n",
       "    <tr>\n",
       "      <th>0</th>\n",
       "      <td>This is a special book. It started slow for ab...</td>\n",
       "      <td>Science Fiction</td>\n",
       "      <td>5</td>\n",
       "      <td>18245960</td>\n",
       "    </tr>\n",
       "    <tr>\n",
       "      <th>1</th>\n",
       "      <td>Recommended by Don Katz. Avail for free in Dec...</td>\n",
       "      <td>Literature</td>\n",
       "      <td>3</td>\n",
       "      <td>16981</td>\n",
       "    </tr>\n",
       "    <tr>\n",
       "      <th>2</th>\n",
       "      <td>A fun, fast paced science fiction thriller. I ...</td>\n",
       "      <td>Science Fiction</td>\n",
       "      <td>3</td>\n",
       "      <td>28684704</td>\n",
       "    </tr>\n",
       "    <tr>\n",
       "      <th>3</th>\n",
       "      <td>Recommended reading to understand what is goin...</td>\n",
       "      <td>NonFiction</td>\n",
       "      <td>0</td>\n",
       "      <td>27161156</td>\n",
       "    </tr>\n",
       "    <tr>\n",
       "      <th>4</th>\n",
       "      <td>I really enjoyed this book, and there is a lot...</td>\n",
       "      <td>Science Fiction</td>\n",
       "      <td>4</td>\n",
       "      <td>25884323</td>\n",
       "    </tr>\n",
       "  </tbody>\n",
       "</table>\n",
       "</div>"
      ],
      "text/plain": [
       "                                         review_text            genre  rating  \\\n",
       "0  This is a special book. It started slow for ab...  Science Fiction       5   \n",
       "1  Recommended by Don Katz. Avail for free in Dec...       Literature       3   \n",
       "2  A fun, fast paced science fiction thriller. I ...  Science Fiction       3   \n",
       "3  Recommended reading to understand what is goin...       NonFiction       0   \n",
       "4  I really enjoyed this book, and there is a lot...  Science Fiction       4   \n",
       "\n",
       "    book_id  \n",
       "0  18245960  \n",
       "1     16981  \n",
       "2  28684704  \n",
       "3  27161156  \n",
       "4  25884323  "
      ]
     },
     "execution_count": 15,
     "metadata": {},
     "output_type": "execute_result"
    }
   ],
   "source": [
    "rev.genre = rev.genre.map(lambda genere: genres_to_keep_dict[genere])\n",
    "rev.head()"
   ]
  },
  {
   "cell_type": "code",
   "execution_count": 16,
   "id": "45e1b424-81d8-4118-80b4-c1e31f9c4452",
   "metadata": {},
   "outputs": [
    {
     "data": {
      "text/plain": [
       "Fantasy            195350\n",
       "Fiction            187297\n",
       "Romance            164979\n",
       "Science Fiction     31945\n",
       "Thriller            27136\n",
       "Art                 26594\n",
       "Horror              24739\n",
       "History             18802\n",
       "Literature          18765\n",
       "NonFiction           9787\n",
       "Name: genre, dtype: int64"
      ]
     },
     "execution_count": 16,
     "metadata": {},
     "output_type": "execute_result"
    }
   ],
   "source": [
    "rev.genre.value_counts()"
   ]
  },
  {
   "cell_type": "markdown",
   "id": "91581b6b-6ecc-48dd-8b13-63f8fc911f86",
   "metadata": {
    "id": "91581b6b-6ecc-48dd-8b13-63f8fc911f86"
   },
   "source": [
    "# Class Undersampling"
   ]
  },
  {
   "cell_type": "code",
   "execution_count": 17,
   "id": "4d261a01-2998-4b14-8012-fa21c5769188",
   "metadata": {
    "id": "4d261a01-2998-4b14-8012-fa21c5769188"
   },
   "outputs": [],
   "source": [
    "n = 2000\n",
    "msk = rev.groupby('genre')['genre'].transform(len) >= n\n",
    "rev2 = pd.concat((rev[msk].groupby('genre').sample(n=n), rev[~msk]), ignore_index=True)"
   ]
  },
  {
   "cell_type": "code",
   "execution_count": 18,
   "id": "30b4e53d-520a-4e89-bd8a-67e694164784",
   "metadata": {
    "colab": {
     "base_uri": "https://localhost:8080/"
    },
    "id": "30b4e53d-520a-4e89-bd8a-67e694164784",
    "outputId": "b811e3c5-c477-44c0-c27e-fa6be17e8597",
    "tags": []
   },
   "outputs": [
    {
     "data": {
      "text/plain": [
       "Art                2000\n",
       "Fantasy            2000\n",
       "Fiction            2000\n",
       "History            2000\n",
       "Horror             2000\n",
       "Literature         2000\n",
       "NonFiction         2000\n",
       "Romance            2000\n",
       "Science Fiction    2000\n",
       "Thriller           2000\n",
       "Name: genre, dtype: int64"
      ]
     },
     "execution_count": 18,
     "metadata": {},
     "output_type": "execute_result"
    }
   ],
   "source": [
    "rev2.genre.value_counts()"
   ]
  },
  {
   "cell_type": "markdown",
   "id": "b23c8140-8ef8-42a7-8327-e9dfdf78971a",
   "metadata": {
    "id": "b23c8140-8ef8-42a7-8327-e9dfdf78971a"
   },
   "source": [
    "# Plotting Genres distribution"
   ]
  },
  {
   "cell_type": "code",
   "execution_count": 19,
   "id": "15c42336-3448-41fd-9455-7faebed8d812",
   "metadata": {
    "colab": {
     "base_uri": "https://localhost:8080/",
     "height": 364
    },
    "id": "15c42336-3448-41fd-9455-7faebed8d812",
    "outputId": "e28303d6-2c92-4800-bba9-6f80132d0187"
   },
   "outputs": [
    {
     "data": {
      "image/png": "[encoded data removed]",
      "text/plain": [
       "<Figure size 432x288 with 1 Axes>"
      ]
     },
     "metadata": {
      "needs_background": "light"
     },
     "output_type": "display_data"
    }
   ],
   "source": [
    "sns.barplot([x for x in rev.genre.value_counts().index],\n",
    "            [y for y in rev.genre.value_counts().values],\n",
    "            alpha=0.9, palette=\"RdBu\", edgecolor=\"black\")\n",
    "\n",
    "plt.title('Genre Distribution - Before',fontsize=14)\n",
    "plt.ylabel('Number of Occurrences', fontsize=12)\n",
    "plt.xlabel('Classes', fontsize=12)\n",
    "plt.xticks(rotation=80)\n",
    "plt.show()"
   ]
  },
  {
   "cell_type": "code",
   "execution_count": 20,
   "id": "722f9d68-a21a-4a20-9f90-2d56098bfdb9",
   "metadata": {
    "colab": {
     "base_uri": "https://localhost:8080/",
     "height": 360
    },
    "id": "722f9d68-a21a-4a20-9f90-2d56098bfdb9",
    "outputId": "0d04f262-2c66-4cbe-ee61-1258d215bb9f"
   },
   "outputs": [
    {
     "data": {
      "image/png": "[encoded data removed]",
      "text/plain": [
       "<Figure size 432x288 with 1 Axes>"
      ]
     },
     "metadata": {
      "needs_background": "light"
     },
     "output_type": "display_data"
    }
   ],
   "source": [
    "sns.barplot([x for x in rev2.genre.value_counts().index],\n",
    "            [y for y in rev2.genre.value_counts().values],\n",
    "            alpha=0.9, palette=\"RdBu\", edgecolor=\"black\")\n",
    "\n",
    "plt.title('Genre Distribution - After',fontsize=14)\n",
    "plt.ylabel('Number of Occurrences', fontsize=12)\n",
    "plt.xlabel('Classes', fontsize=8)\n",
    "plt.xticks(rotation=80)\n",
    "plt.show()"
   ]
  },
  {
   "cell_type": "code",
   "execution_count": 21,
   "id": "3d69eec1-a84f-49f7-985f-93c514836bd2",
   "metadata": {
    "colab": {
     "base_uri": "https://localhost:8080/",
     "height": 238,
     "referenced_widgets": [
      "34a011cc1f7a4ebebb7aa23e49d95cda",
      "4c5f2d18e39f4138a9d941831a7eb9ff",
      "c16082b9958642bf832a2fce6b858e78",
      "8bf1c230757f42c1ac98b8e8eb4d5277",
      "cdcacdb316fb49b5bfe6e89701dc408b",
      "12ae648a5e1e4fd8a46db54edb4ef4bf",
      "d26e131225bf4f37bc001c210ae77133",
      "b23e04a0504141f490ba13a13a01dc3f",
      "5578ba393eca46c88609625630972ae5",
      "a8024ba84ad94ae49711373335589223",
      "9e0cc85a99624c55a88642a3bb071e05"
     ]
    },
    "id": "3d69eec1-a84f-49f7-985f-93c514836bd2",
    "outputId": "98e860c2-a782-41c1-b1de-607d46fbe3bd"
   },
   "outputs": [
    {
     "data": {
      "application/vnd.jupyter.widget-view+json": {
       "model_id": "510f6617b4bc47449515c343254ed6a3",
       "version_major": 2,
       "version_minor": 0
      },
      "text/plain": [
       "Pandas Apply:   0%|          | 0/20000 [00:00<?, ?it/s]"
      ]
     },
     "metadata": {},
     "output_type": "display_data"
    },
    {
     "data": {
      "text/html": [
       "<div>\n",
       "<style scoped>\n",
       "    .dataframe tbody tr th:only-of-type {\n",
       "        vertical-align: middle;\n",
       "    }\n",
       "\n",
       "    .dataframe tbody tr th {\n",
       "        vertical-align: top;\n",
       "    }\n",
       "\n",
       "    .dataframe thead th {\n",
       "        text-align: right;\n",
       "    }\n",
       "</style>\n",
       "<table border=\"1\" class=\"dataframe\">\n",
       "  <thead>\n",
       "    <tr style=\"text-align: right;\">\n",
       "      <th></th>\n",
       "      <th>review_text</th>\n",
       "      <th>genre</th>\n",
       "      <th>rating</th>\n",
       "      <th>book_id</th>\n",
       "    </tr>\n",
       "  </thead>\n",
       "  <tbody>\n",
       "    <tr>\n",
       "      <th>0</th>\n",
       "      <td>i wasnt really expecting to enjoy this as much...</td>\n",
       "      <td>Art</td>\n",
       "      <td>5</td>\n",
       "      <td>6839093</td>\n",
       "    </tr>\n",
       "    <tr>\n",
       "      <th>1</th>\n",
       "      <td>still really good but not quite as good as sai...</td>\n",
       "      <td>Art</td>\n",
       "      <td>3</td>\n",
       "      <td>17210471</td>\n",
       "    </tr>\n",
       "    <tr>\n",
       "      <th>2</th>\n",
       "      <td>a gripping and eerie conclusion to my alltime ...</td>\n",
       "      <td>Art</td>\n",
       "      <td>5</td>\n",
       "      <td>445046</td>\n",
       "    </tr>\n",
       "    <tr>\n",
       "      <th>3</th>\n",
       "      <td>thompson uses his illustrations to convey feel...</td>\n",
       "      <td>Art</td>\n",
       "      <td>5</td>\n",
       "      <td>25179</td>\n",
       "    </tr>\n",
       "    <tr>\n",
       "      <th>4</th>\n",
       "      <td>i liked the illustrations much better than the...</td>\n",
       "      <td>Art</td>\n",
       "      <td>3</td>\n",
       "      <td>2795053</td>\n",
       "    </tr>\n",
       "  </tbody>\n",
       "</table>\n",
       "</div>"
      ],
      "text/plain": [
       "                                         review_text genre  rating   book_id\n",
       "0  i wasnt really expecting to enjoy this as much...   Art       5   6839093\n",
       "1  still really good but not quite as good as sai...   Art       3  17210471\n",
       "2  a gripping and eerie conclusion to my alltime ...   Art       5    445046\n",
       "3  thompson uses his illustrations to convey feel...   Art       5     25179\n",
       "4  i liked the illustrations much better than the...   Art       3   2795053"
      ]
     },
     "execution_count": 21,
     "metadata": {},
     "output_type": "execute_result"
    }
   ],
   "source": [
    "#cleaning review_text col\n",
    "rev = rev2\n",
    "rev.review_text = rev.review_text.swifter.apply(lambda x: clean_tokens(x))\n",
    "rev.head()"
   ]
  },
  {
   "cell_type": "markdown",
   "id": "f5c12e26-d4ea-4554-b896-20a7ff5d7083",
   "metadata": {
    "id": "f5c12e26-d4ea-4554-b896-20a7ff5d7083"
   },
   "source": [
    "# Tokeninzing Text"
   ]
  },
  {
   "cell_type": "code",
   "execution_count": 22,
   "id": "eb3d2055-903a-4ae9-b525-599ed3edb061",
   "metadata": {
    "colab": {
     "base_uri": "https://localhost:8080/",
     "height": 369,
     "referenced_widgets": [
      "e163c006ae08495793429fe747136d93",
      "4f7ddeb6f69d424c8e0c6dffcabefce5",
      "3cc755abe42e4a42bcabe7d7a006f7a4",
      "7ca6fa51080949d0a869330d4c426075",
      "6b5dc09fa0aa4cd5ae0412e4c3b96dd3",
      "cc2312d6967140e6bc3cbb8d3b6fecab",
      "51ab0a3337ee4653a4e809398aab4187",
      "e179867f06be4a2f8fe662cb5afb0a23",
      "15a35f297701414aaa4d155526acd9d0",
      "cad8e02a2f6446afb59b016b508632f1",
      "e68c7f872e5e40f6b848b96a129830fb"
     ]
    },
    "id": "eb3d2055-903a-4ae9-b525-599ed3edb061",
    "outputId": "62cb2b52-8fd1-4535-ed71-0c648fbb1f75",
    "tags": []
   },
   "outputs": [
    {
     "data": {
      "application/vnd.jupyter.widget-view+json": {
       "model_id": "010d1efdf77942869709b3d625125a4f",
       "version_major": 2,
       "version_minor": 0
      },
      "text/plain": [
       "Pandas Apply:   0%|          | 0/20000 [00:00<?, ?it/s]"
      ]
     },
     "metadata": {},
     "output_type": "display_data"
    },
    {
     "data": {
      "text/html": [
       "<div>\n",
       "<style scoped>\n",
       "    .dataframe tbody tr th:only-of-type {\n",
       "        vertical-align: middle;\n",
       "    }\n",
       "\n",
       "    .dataframe tbody tr th {\n",
       "        vertical-align: top;\n",
       "    }\n",
       "\n",
       "    .dataframe thead th {\n",
       "        text-align: right;\n",
       "    }\n",
       "</style>\n",
       "<table border=\"1\" class=\"dataframe\">\n",
       "  <thead>\n",
       "    <tr style=\"text-align: right;\">\n",
       "      <th></th>\n",
       "      <th>review_text</th>\n",
       "      <th>genre</th>\n",
       "      <th>rating</th>\n",
       "      <th>book_id</th>\n",
       "      <th>tokenized_text</th>\n",
       "    </tr>\n",
       "  </thead>\n",
       "  <tbody>\n",
       "    <tr>\n",
       "      <th>0</th>\n",
       "      <td>i wasnt really expecting to enjoy this as much...</td>\n",
       "      <td>Art</td>\n",
       "      <td>5</td>\n",
       "      <td>6839093</td>\n",
       "      <td>[i, wasnt, really, expecting, to, enjoy, this,...</td>\n",
       "    </tr>\n",
       "    <tr>\n",
       "      <th>1</th>\n",
       "      <td>still really good but not quite as good as sai...</td>\n",
       "      <td>Art</td>\n",
       "      <td>3</td>\n",
       "      <td>17210471</td>\n",
       "      <td>[still, really, good, but, not, quite, as, goo...</td>\n",
       "    </tr>\n",
       "    <tr>\n",
       "      <th>2</th>\n",
       "      <td>a gripping and eerie conclusion to my alltime ...</td>\n",
       "      <td>Art</td>\n",
       "      <td>5</td>\n",
       "      <td>445046</td>\n",
       "      <td>[a, gripping, and, eerie, conclusion, to, my, ...</td>\n",
       "    </tr>\n",
       "    <tr>\n",
       "      <th>3</th>\n",
       "      <td>thompson uses his illustrations to convey feel...</td>\n",
       "      <td>Art</td>\n",
       "      <td>5</td>\n",
       "      <td>25179</td>\n",
       "      <td>[thompson, uses, his, illustrations, to, conve...</td>\n",
       "    </tr>\n",
       "    <tr>\n",
       "      <th>4</th>\n",
       "      <td>i liked the illustrations much better than the...</td>\n",
       "      <td>Art</td>\n",
       "      <td>3</td>\n",
       "      <td>2795053</td>\n",
       "      <td>[i, liked, the, illustrations, much, better, t...</td>\n",
       "    </tr>\n",
       "  </tbody>\n",
       "</table>\n",
       "</div>"
      ],
      "text/plain": [
       "                                         review_text genre  rating   book_id  \\\n",
       "0  i wasnt really expecting to enjoy this as much...   Art       5   6839093   \n",
       "1  still really good but not quite as good as sai...   Art       3  17210471   \n",
       "2  a gripping and eerie conclusion to my alltime ...   Art       5    445046   \n",
       "3  thompson uses his illustrations to convey feel...   Art       5     25179   \n",
       "4  i liked the illustrations much better than the...   Art       3   2795053   \n",
       "\n",
       "                                      tokenized_text  \n",
       "0  [i, wasnt, really, expecting, to, enjoy, this,...  \n",
       "1  [still, really, good, but, not, quite, as, goo...  \n",
       "2  [a, gripping, and, eerie, conclusion, to, my, ...  \n",
       "3  [thompson, uses, his, illustrations, to, conve...  \n",
       "4  [i, liked, the, illustrations, much, better, t...  "
      ]
     },
     "execution_count": 22,
     "metadata": {},
     "output_type": "execute_result"
    }
   ],
   "source": [
    "rev[\"tokenized_text\"] = rev.review_text.swifter.apply(lambda x: word_tokenize(x))\n",
    "rev.head()"
   ]
  },
  {
   "cell_type": "code",
   "execution_count": 23,
   "id": "a8b8ca4e-0f08-477b-9acb-6d8f5b03beee",
   "metadata": {
    "colab": {
     "base_uri": "https://localhost:8080/"
    },
    "id": "a8b8ca4e-0f08-477b-9acb-6d8f5b03beee",
    "outputId": "3c012905-9d29-4d7b-caba-13b8adc960bf"
   },
   "outputs": [
    {
     "name": "stdout",
     "output_type": "stream",
     "text": [
      "Token list len before: 42\n",
      "Token list len after: 14\n"
     ]
    }
   ],
   "source": [
    "# Removing Stop Words\n",
    "print(f\"Token list len before: {len(rev.tokenized_text[0])}\")\n",
    "rev[\"fixed_tokenized_text\"] = remove_stop_words(rev[\"tokenized_text\"])\n",
    "print(f\"Token list len after: {len(rev.fixed_tokenized_text[0])}\")"
   ]
  },
  {
   "cell_type": "code",
   "execution_count": 24,
   "id": "315ab0d1-2039-4633-a7f3-e49ca3befa95",
   "metadata": {
    "colab": {
     "base_uri": "https://localhost:8080/",
     "height": 389
    },
    "id": "315ab0d1-2039-4633-a7f3-e49ca3befa95",
    "outputId": "e8450d97-f046-4706-bf4f-ca818f979fca"
   },
   "outputs": [
    {
     "data": {
      "text/html": [
       "<div>\n",
       "<style scoped>\n",
       "    .dataframe tbody tr th:only-of-type {\n",
       "        vertical-align: middle;\n",
       "    }\n",
       "\n",
       "    .dataframe tbody tr th {\n",
       "        vertical-align: top;\n",
       "    }\n",
       "\n",
       "    .dataframe thead th {\n",
       "        text-align: right;\n",
       "    }\n",
       "</style>\n",
       "<table border=\"1\" class=\"dataframe\">\n",
       "  <thead>\n",
       "    <tr style=\"text-align: right;\">\n",
       "      <th></th>\n",
       "      <th>review_text</th>\n",
       "      <th>genre</th>\n",
       "      <th>rating</th>\n",
       "      <th>book_id</th>\n",
       "      <th>tokenized_text</th>\n",
       "      <th>fixed_tokenized_text</th>\n",
       "    </tr>\n",
       "  </thead>\n",
       "  <tbody>\n",
       "    <tr>\n",
       "      <th>0</th>\n",
       "      <td>i wasnt really expecting to enjoy this as much...</td>\n",
       "      <td>Art</td>\n",
       "      <td>5</td>\n",
       "      <td>6839093</td>\n",
       "      <td>[i, wasnt, really, expecting, to, enjoy, this,...</td>\n",
       "      <td>[wasnt, expecting, enjoy, definitely, gory, th...</td>\n",
       "    </tr>\n",
       "    <tr>\n",
       "      <th>1</th>\n",
       "      <td>still really good but not quite as good as sai...</td>\n",
       "      <td>Art</td>\n",
       "      <td>3</td>\n",
       "      <td>17210471</td>\n",
       "      <td>[still, really, good, but, not, quite, as, goo...</td>\n",
       "      <td>[good, good, saints, ends, waaaaaay, abruptly,...</td>\n",
       "    </tr>\n",
       "    <tr>\n",
       "      <th>2</th>\n",
       "      <td>a gripping and eerie conclusion to my alltime ...</td>\n",
       "      <td>Art</td>\n",
       "      <td>5</td>\n",
       "      <td>445046</td>\n",
       "      <td>[a, gripping, and, eerie, conclusion, to, my, ...</td>\n",
       "      <td>[gripping, eerie, conclusion, alltime, favorit...</td>\n",
       "    </tr>\n",
       "    <tr>\n",
       "      <th>3</th>\n",
       "      <td>thompson uses his illustrations to convey feel...</td>\n",
       "      <td>Art</td>\n",
       "      <td>5</td>\n",
       "      <td>25179</td>\n",
       "      <td>[thompson, uses, his, illustrations, to, conve...</td>\n",
       "      <td>[thompson, uses, illustrations, convey, feelin...</td>\n",
       "    </tr>\n",
       "    <tr>\n",
       "      <th>4</th>\n",
       "      <td>i liked the illustrations much better than the...</td>\n",
       "      <td>Art</td>\n",
       "      <td>3</td>\n",
       "      <td>2795053</td>\n",
       "      <td>[i, liked, the, illustrations, much, better, t...</td>\n",
       "      <td>[liked, illustrations, better, characters]</td>\n",
       "    </tr>\n",
       "  </tbody>\n",
       "</table>\n",
       "</div>"
      ],
      "text/plain": [
       "                                         review_text genre  rating   book_id  \\\n",
       "0  i wasnt really expecting to enjoy this as much...   Art       5   6839093   \n",
       "1  still really good but not quite as good as sai...   Art       3  17210471   \n",
       "2  a gripping and eerie conclusion to my alltime ...   Art       5    445046   \n",
       "3  thompson uses his illustrations to convey feel...   Art       5     25179   \n",
       "4  i liked the illustrations much better than the...   Art       3   2795053   \n",
       "\n",
       "                                      tokenized_text  \\\n",
       "0  [i, wasnt, really, expecting, to, enjoy, this,...   \n",
       "1  [still, really, good, but, not, quite, as, goo...   \n",
       "2  [a, gripping, and, eerie, conclusion, to, my, ...   \n",
       "3  [thompson, uses, his, illustrations, to, conve...   \n",
       "4  [i, liked, the, illustrations, much, better, t...   \n",
       "\n",
       "                                fixed_tokenized_text  \n",
       "0  [wasnt, expecting, enjoy, definitely, gory, th...  \n",
       "1  [good, good, saints, ends, waaaaaay, abruptly,...  \n",
       "2  [gripping, eerie, conclusion, alltime, favorit...  \n",
       "3  [thompson, uses, illustrations, convey, feelin...  \n",
       "4         [liked, illustrations, better, characters]  "
      ]
     },
     "execution_count": 24,
     "metadata": {},
     "output_type": "execute_result"
    }
   ],
   "source": [
    "rev.head()"
   ]
  },
  {
   "cell_type": "code",
   "execution_count": 25,
   "id": "eyd-IF4BLb5Q",
   "metadata": {
    "colab": {
     "base_uri": "https://localhost:8080/"
    },
    "id": "eyd-IF4BLb5Q",
    "outputId": "819f7bbd-78dd-4b62-bb04-cda995b5d702"
   },
   "outputs": [
    {
     "data": {
      "text/plain": [
       "1"
      ]
     },
     "execution_count": 25,
     "metadata": {},
     "output_type": "execute_result"
    }
   ],
   "source": [
    "# minimum length of the remaining words of the fixed tokenized text \n",
    "min([min(x) for x in rev[\"fixed_tokenized_text\"].map(lambda x: ([len(el) for el in x])) if x != []])"
   ]
  },
  {
   "cell_type": "code",
   "execution_count": 26,
   "id": "UyUPHOTyL3oH",
   "metadata": {
    "id": "UyUPHOTyL3oH"
   },
   "outputs": [],
   "source": [
    "#filtering the words with a length less than 4\n",
    "rev[\"fixed_tokenized_text\"] = rev[\"fixed_tokenized_text\"].map(lambda x: [el for el in x if len(el) > 3])"
   ]
  },
  {
   "cell_type": "code",
   "execution_count": 27,
   "id": "RSJ0nWNBOaNA",
   "metadata": {
    "colab": {
     "base_uri": "https://localhost:8080/"
    },
    "id": "RSJ0nWNBOaNA",
    "outputId": "35b68532-73e8-47cb-ca96-4d7eacec87e3"
   },
   "outputs": [
    {
     "data": {
      "text/plain": [
       "4"
      ]
     },
     "execution_count": 27,
     "metadata": {},
     "output_type": "execute_result"
    }
   ],
   "source": [
    "# minimum length of the remaining words of the fixed tokenized text after update\n",
    "min([min(x) for x in rev[\"fixed_tokenized_text\"].map(lambda x: ([len(el) for el in x])) if x != []])"
   ]
  },
  {
   "cell_type": "markdown",
   "id": "7e69c030-b013-4131-b52b-9db4d0997c3b",
   "metadata": {
    "id": "7e69c030-b013-4131-b52b-9db4d0997c3b"
   },
   "source": [
    "### Extracting vocabulary "
   ]
  },
  {
   "cell_type": "code",
   "execution_count": 28,
   "id": "a8433e0e-18ec-41bf-8c78-79773a92a5cb",
   "metadata": {
    "id": "a8433e0e-18ec-41bf-8c78-79773a92a5cb"
   },
   "outputs": [],
   "source": [
    "dict_count = dict(sorted(nltk.FreqDist([parola for testo in rev[\"fixed_tokenized_text\"] for parola in testo]).items(), \n",
    "                         key=lambda x: x[1], reverse=True))"
   ]
  },
  {
   "cell_type": "code",
   "execution_count": 29,
   "id": "82hfipVBQCd4",
   "metadata": {
    "colab": {
     "base_uri": "https://localhost:8080/"
    },
    "id": "82hfipVBQCd4",
    "outputId": "9fe71c3c-cf79-44f0-d43e-6b1303d2fcde"
   },
   "outputs": [
    {
     "data": {
      "text/plain": [
       "[('book', 33813),\n",
       " ('read', 15918),\n",
       " ('like', 15351),\n",
       " ('story', 14348),\n",
       " ('love', 9534),\n",
       " ('characters', 9126)]"
      ]
     },
     "execution_count": 29,
     "metadata": {},
     "output_type": "execute_result"
    }
   ],
   "source": [
    "list(dict_count.items())[:6]"
   ]
  },
  {
   "cell_type": "code",
   "execution_count": 30,
   "id": "2S0Qnf0XO95Z",
   "metadata": {
    "id": "2S0Qnf0XO95Z"
   },
   "outputs": [],
   "source": [
    "# filtering out the extreme of the distribution\n",
    "maximum_threshold = np.quantile(list(dict_count.values()), 0.99)"
   ]
  },
  {
   "cell_type": "code",
   "execution_count": 31,
   "id": "fc84328f-3dc6-486d-8a60-54f3c177dd0c",
   "metadata": {
    "id": "fc84328f-3dc6-486d-8a60-54f3c177dd0c",
    "tags": []
   },
   "outputs": [],
   "source": [
    "dict_count_fixed = {k:v for k,v in dict_count.items() if v > 5 and v < maximum_threshold}\n",
    "# dict_count_fixed"
   ]
  },
  {
   "cell_type": "code",
   "execution_count": 32,
   "id": "6355d73a-7fda-4ee8-9055-d621128f5df8",
   "metadata": {
    "colab": {
     "base_uri": "https://localhost:8080/"
    },
    "id": "6355d73a-7fda-4ee8-9055-d621128f5df8",
    "outputId": "431a6a71-59d4-4f51-d059-825cf6e9a5ba",
    "tags": []
   },
   "outputs": [
    {
     "data": {
      "text/plain": [
       "16203"
      ]
     },
     "execution_count": 32,
     "metadata": {},
     "output_type": "execute_result"
    }
   ],
   "source": [
    "vocabulary = set(dict_count_fixed.keys())\n",
    "# vocabulary\n",
    "len(vocabulary)"
   ]
  },
  {
   "cell_type": "markdown",
   "id": "decb5bc9-c195-448f-8b92-9a9a34b4f0f3",
   "metadata": {},
   "source": [
    "# Topic Distribution"
   ]
  },
  {
   "cell_type": "code",
   "execution_count": 33,
   "id": "a90e5a66-ccf2-4839-b81e-7bc9b250ee43",
   "metadata": {},
   "outputs": [],
   "source": [
    "#!pip install umap-learn\n",
    "from sklearn.feature_extraction.text import TfidfVectorizer\n",
    "from yellowbrick.text import UMAPVisualizer"
   ]
  },
  {
   "cell_type": "code",
   "execution_count": 34,
   "id": "339e3ca4-d717-4d90-bc17-2327dc7dd82c",
   "metadata": {},
   "outputs": [
    {
     "name": "stderr",
     "output_type": "stream",
     "text": [
      "*c* argument looks like a single numeric RGB or RGBA sequence, which should be avoided as value-mapping will have precedence in case its length matches with *x* & *y*.  Please use the *color* keyword-argument or provide a 2D array with a single row if you intend to specify the same RGB or RGBA value for all points.\n",
      "*c* argument looks like a single numeric RGB or RGBA sequence, which should be avoided as value-mapping will have precedence in case its length matches with *x* & *y*.  Please use the *color* keyword-argument or provide a 2D array with a single row if you intend to specify the same RGB or RGBA value for all points.\n",
      "*c* argument looks like a single numeric RGB or RGBA sequence, which should be avoided as value-mapping will have precedence in case its length matches with *x* & *y*.  Please use the *color* keyword-argument or provide a 2D array with a single row if you intend to specify the same RGB or RGBA value for all points.\n",
      "*c* argument looks like a single numeric RGB or RGBA sequence, which should be avoided as value-mapping will have precedence in case its length matches with *x* & *y*.  Please use the *color* keyword-argument or provide a 2D array with a single row if you intend to specify the same RGB or RGBA value for all points.\n",
      "*c* argument looks like a single numeric RGB or RGBA sequence, which should be avoided as value-mapping will have precedence in case its length matches with *x* & *y*.  Please use the *color* keyword-argument or provide a 2D array with a single row if you intend to specify the same RGB or RGBA value for all points.\n",
      "*c* argument looks like a single numeric RGB or RGBA sequence, which should be avoided as value-mapping will have precedence in case its length matches with *x* & *y*.  Please use the *color* keyword-argument or provide a 2D array with a single row if you intend to specify the same RGB or RGBA value for all points.\n",
      "*c* argument looks like a single numeric RGB or RGBA sequence, which should be avoided as value-mapping will have precedence in case its length matches with *x* & *y*.  Please use the *color* keyword-argument or provide a 2D array with a single row if you intend to specify the same RGB or RGBA value for all points.\n",
      "*c* argument looks like a single numeric RGB or RGBA sequence, which should be avoided as value-mapping will have precedence in case its length matches with *x* & *y*.  Please use the *color* keyword-argument or provide a 2D array with a single row if you intend to specify the same RGB or RGBA value for all points.\n",
      "*c* argument looks like a single numeric RGB or RGBA sequence, which should be avoided as value-mapping will have precedence in case its length matches with *x* & *y*.  Please use the *color* keyword-argument or provide a 2D array with a single row if you intend to specify the same RGB or RGBA value for all points.\n",
      "*c* argument looks like a single numeric RGB or RGBA sequence, which should be avoided as value-mapping will have precedence in case its length matches with *x* & *y*.  Please use the *color* keyword-argument or provide a 2D array with a single row if you intend to specify the same RGB or RGBA value for all points.\n"
     ]
    },
    {
     "data": {
      "image/png": "[encoded data removed]",
      "text/plain": [
       "<Figure size 576x396 with 1 Axes>"
      ]
     },
     "metadata": {},
     "output_type": "display_data"
    }
   ],
   "source": [
    "corpus = rev['review_text']\n",
    "labels = rev['genre']\n",
    "\n",
    "tfidf = TfidfVectorizer()\n",
    "umap = UMAPVisualizer()\n",
    "\n",
    "docs = tfidf.fit_transform(corpus)\n",
    "umap.fit(docs, labels)\n",
    "\n",
    "umap.show()\n",
    "plt.show()"
   ]
  },
  {
   "cell_type": "code",
   "execution_count": null,
   "id": "a189d867-a61b-4ae7-aded-9fd3cdf62238",
   "metadata": {},
   "outputs": [],
   "source": []
  },
  {
   "cell_type": "code",
   "execution_count": null,
   "id": "891923ee-f4e3-48f4-9c6e-1766a45d56aa",
   "metadata": {},
   "outputs": [],
   "source": []
  },
  {
   "cell_type": "code",
   "execution_count": null,
   "id": "b96715f0-1b8d-422c-8180-107ba9e0ca4a",
   "metadata": {},
   "outputs": [],
   "source": []
  },
  {
   "cell_type": "code",
   "execution_count": null,
   "id": "24f8e138-f629-4b15-8548-823558a1e39f",
   "metadata": {},
   "outputs": [],
   "source": []
  },
  {
   "cell_type": "markdown",
   "id": "34fffb15-da6b-4e3c-be27-5d78204cd0c7",
   "metadata": {
    "id": "34fffb15-da6b-4e3c-be27-5d78204cd0c7",
    "tags": []
   },
   "source": [
    "# Sentiment Analysis on Sample"
   ]
  },
  {
   "cell_type": "code",
   "execution_count": 140,
   "id": "56d58b04-8020-495a-afb5-f55d76e42b0d",
   "metadata": {
    "colab": {
     "base_uri": "https://localhost:8080/",
     "height": 177,
     "referenced_widgets": [
      "5cc3ba07da7e4f5096713b18ade1b749",
      "1f978dc0335948a99dc8d9745a812894",
      "5d3200d89cfd49349e185b10a13b097b",
      "9f5134aa048e4d8ea3bec7b860f0efc8",
      "c2c4a29cd0a14f5cbd6f239c2eeb021d",
      "cf091171bb7a4801929ab91fdb64d875",
      "947fc13f72cc464e9a231637bdb6e76c",
      "ec26102afc2c4fe08336928b9e893df8",
      "879a6128f9a14dfcab485f33b696a49d",
      "d160eee486be496682d1cb0c807401df",
      "bb00397c91cd45c783e9e6d977300f47",
      "fefcb508b9ba47e8b0bac4a3c08af2f5",
      "5d48b6542e394c3fb29f0c321098056e",
      "1646eca0254e4e0686850cd4f30dd768",
      "40f08d6ac9a844bd9b6422fce38c0fc6",
      "76d88fbd34d14d079bac9243fc41e3cc",
      "ab3aa2f69f3d474d8bbd908e5e27a226",
      "72aa94b04924452a85cbd94b0336aeed",
      "ebfab4eb00dc4923b428a7d21e6c6c77",
      "a36ebfba56224de49a2867ad32335d41",
      "4a59da7991dc4bf088a859bc4ff9511c",
      "c710a41a01074dbc8a0f4b94f6121a58",
      "aeb026611d884bb9bb53c1048623b3a0",
      "a5fa71551f104398ac9123884f113fe7",
      "847bd0f583e94124ba6f6d889823492c",
      "b17f5fe4b99d4171bb3f7a738a47ad5d",
      "ee2f0e534d1c4aebb7907a718954803f",
      "990de591b15a4a309437be81a2109765",
      "a3803a82d4a1453cb76b5e4aaee0c396",
      "f7277390403245729ae2dadc2b1a05ad",
      "ed40854ab6884dbbaf189ce4e442404c",
      "4645eeaa9d6446ff8c89e7a470afcb98",
      "a88faa06a90046cb9c25758b80d2daca",
      "47152ec61dca4554b2c196ccf54aa240",
      "f93489683849481280912c4df369123e",
      "7a99bb59e1e14b23a164282c2e5333b9",
      "e5d6de5d5633402992cb472e5f27563c",
      "189da214ebd446efbb9e73804a6cf2f0",
      "ea792bd604464de8a8b5cc8c1a356c71",
      "83c0aff01c37433bafc87694439995ea",
      "0d791bf6683d4ce2b70e55d931fccee5",
      "84623198a958440f9b6d7b5c677eccc3",
      "8f6c5bcdb9fc406794b77558891438bc",
      "2a1a3aac211a44d393f10a68d34172b4",
      "54beee9f1a2343e982b815261cae9aba",
      "02f172d71a244b4994373477205761ea",
      "bc208e790dea4a0aa4cb85232edc163c",
      "656d31e91e6947ae9cb24bcc53be6547",
      "c2ba2a58d67e46b385fa9bf66ca9195f",
      "5517256681c148e8912cd0adba4f53b0",
      "7f0a1252040b4e7b8063ea86c66dac7d",
      "fc7acb8ad9e046a78913348dd415e1e4",
      "a0053d3c30694333836afc9de5f8f13a",
      "230434fcae324bd5a3ed1fff81e5883d",
      "b29070e672f448bbbcc26c07e37a17f9"
     ]
    },
    "id": "56d58b04-8020-495a-afb5-f55d76e42b0d",
    "outputId": "4ae51f3b-f271-4742-9732-edf1bc0813b7"
   },
   "outputs": [],
   "source": [
    "tokenizer = AutoTokenizer.from_pretrained('nlptown/bert-base-multilingual-uncased-sentiment')\n",
    "model = AutoModelForSequenceClassification.from_pretrained('nlptown/bert-base-multilingual-uncased-sentiment')\n",
    "\n",
    "def sentiment_score(review):\n",
    "    tokens = tokenizer.encode(review, return_tensors='pt')\n",
    "    result = model(tokens)\n",
    "    return int(torch.argmax(result.logits))+1"
   ]
  },
  {
   "cell_type": "code",
   "execution_count": 141,
   "id": "Ij6sA0sFRTRF",
   "metadata": {
    "id": "Ij6sA0sFRTRF"
   },
   "outputs": [],
   "source": [
    "sample_sentiment = rev[\"fixed_tokenized_text\"].sample(500, random_state = 42)\n",
    "sample_sentiment = sample_sentiment.apply(lambda x: ' '.join(x))\n",
    "index_sample = sample_sentiment.index"
   ]
  },
  {
   "cell_type": "code",
   "execution_count": 142,
   "id": "ZR_O_rMxQwrx",
   "metadata": {
    "colab": {
     "base_uri": "https://localhost:8080/"
    },
    "id": "ZR_O_rMxQwrx",
    "outputId": "09af8d61-bed0-45f8-ee15-a11247e64072"
   },
   "outputs": [
    {
     "name": "stdout",
     "output_type": "stream",
     "text": [
      "1.0032196044921875\n"
     ]
    }
   ],
   "source": [
    "start = time.time()\n",
    "sentiment_score(sample_sentiment.loc[index_sample[0]])\n",
    "end = time.time()\n",
    "print(end-start)"
   ]
  },
  {
   "cell_type": "code",
   "execution_count": 143,
   "id": "0a0abdad-1aa7-4e3e-b4ba-bd2791bf0c3c",
   "metadata": {
    "colab": {
     "base_uri": "https://localhost:8080/",
     "height": 49,
     "referenced_widgets": [
      "fefd3bd8d9174a7bac32cf76c2c1854c",
      "3d15b835f8c74d7c90c9fb1f134cfa43",
      "e09ea9a2e7794cf7a7f526b6d487fcad",
      "ef462b09644b45ceaf80fc2d0786bf13",
      "42d1c9b6df0d4368a92887a4c0fc81e7",
      "5562d126c1874de595747c2eae8f7a83",
      "5cd749aeb83148e9ac04da362beea8a6",
      "96242ea193d84f749d69fb8548ca14ae",
      "2dc9f8d2f1374458b7775a7b018c474c",
      "b9956b096dfb42fda9057f3a430a04f7",
      "cb976717145d43468f0c3488c5b842c1"
     ]
    },
    "id": "0a0abdad-1aa7-4e3e-b4ba-bd2791bf0c3c",
    "outputId": "6e00b16d-d142-4b23-dad3-f3cfc9c4fdb7"
   },
   "outputs": [
    {
     "data": {
      "application/vnd.jupyter.widget-view+json": {
       "model_id": "eb1e138e967b48138ecf2d29197ef83a",
       "version_major": 2,
       "version_minor": 0
      },
      "text/plain": [
       "Pandas Apply:   0%|          | 0/500 [00:00<?, ?it/s]"
      ]
     },
     "metadata": {},
     "output_type": "display_data"
    }
   ],
   "source": [
    "sentiment_result = sample_sentiment.swifter.apply(lambda x: sentiment_score(x[:512]))"
   ]
  },
  {
   "cell_type": "code",
   "execution_count": 161,
   "id": "xv2PXQ55Taks",
   "metadata": {
    "id": "xv2PXQ55Taks"
   },
   "outputs": [],
   "source": [
    "sentiment_df = pd.concat((rev['review_text'].loc[index_sample], sentiment_result), axis= 1).rename(columns={\"fixed_tokenized_text\":\"sentiment\"}).reset_index(drop=True)"
   ]
  },
  {
   "cell_type": "code",
   "execution_count": 162,
   "id": "ceffbf40-fcb4-4259-a547-48ba6fd326d0",
   "metadata": {},
   "outputs": [
    {
     "data": {
      "text/html": [
       "<div>\n",
       "<style scoped>\n",
       "    .dataframe tbody tr th:only-of-type {\n",
       "        vertical-align: middle;\n",
       "    }\n",
       "\n",
       "    .dataframe tbody tr th {\n",
       "        vertical-align: top;\n",
       "    }\n",
       "\n",
       "    .dataframe thead th {\n",
       "        text-align: right;\n",
       "    }\n",
       "</style>\n",
       "<table border=\"1\" class=\"dataframe\">\n",
       "  <thead>\n",
       "    <tr style=\"text-align: right;\">\n",
       "      <th></th>\n",
       "      <th>review_text</th>\n",
       "      <th>sentiment</th>\n",
       "    </tr>\n",
       "  </thead>\n",
       "  <tbody>\n",
       "    <tr>\n",
       "      <th>0</th>\n",
       "      <td>under any normal circumstances id never ever c...</td>\n",
       "      <td>2</td>\n",
       "    </tr>\n",
       "    <tr>\n",
       "      <th>1</th>\n",
       "      <td>holy cow this book totally lived up to the hyp...</td>\n",
       "      <td>5</td>\n",
       "    </tr>\n",
       "    <tr>\n",
       "      <th>2</th>\n",
       "      <td>tegen was too much of a bitch for me to enjoy ...</td>\n",
       "      <td>4</td>\n",
       "    </tr>\n",
       "    <tr>\n",
       "      <th>3</th>\n",
       "      <td>i love clint sofuckingmuch</td>\n",
       "      <td>5</td>\n",
       "    </tr>\n",
       "    <tr>\n",
       "      <th>4</th>\n",
       "      <td>this book gave me a lot to not think about  it...</td>\n",
       "      <td>2</td>\n",
       "    </tr>\n",
       "  </tbody>\n",
       "</table>\n",
       "</div>"
      ],
      "text/plain": [
       "                                         review_text  sentiment\n",
       "0  under any normal circumstances id never ever c...          2\n",
       "1  holy cow this book totally lived up to the hyp...          5\n",
       "2  tegen was too much of a bitch for me to enjoy ...          4\n",
       "3                         i love clint sofuckingmuch          5\n",
       "4  this book gave me a lot to not think about  it...          2"
      ]
     },
     "execution_count": 162,
     "metadata": {},
     "output_type": "execute_result"
    }
   ],
   "source": [
    "sentiment_df.head()"
   ]
  },
  {
   "cell_type": "code",
   "execution_count": 168,
   "id": "QltzNK3IVYte",
   "metadata": {
    "colab": {
     "base_uri": "https://localhost:8080/"
    },
    "id": "QltzNK3IVYte",
    "outputId": "7da30eb6-604f-4078-a0a6-7f360b3b970a"
   },
   "outputs": [
    {
     "data": {
      "text/plain": [
       "('under any normal circumstances id never ever consider reading a ya or according to some na  new adult novel about a teenage girl having a relationship with her teacher but this has had such rave reviews on goodreads i was persuaded into giving it a look then i read the first page and i really liked it which explains why its stuck around my toread list so long descriptions like this   it was the kind of greenhouse august heat that feels positively jurassic everything was melting a little the liquid black sky the silver gelpenned stars the neon lights bleeding color everywhere   seemed perfectly pitched lyrical and lovely at the same time as actually sounding like the way a teenager would express themselves  but then i started reading on and it all went downhill into the usual things that annoy me about ya the bynumbers teenspeak and conversely a character who seems to have the life experience wisdom and sexual jadedness of a 35yearold but is meant to be  it seems by all accounts to be a superior example of the genre  but it doesnt transcend the genre',\n",
       " 2)"
      ]
     },
     "execution_count": 168,
     "metadata": {},
     "output_type": "execute_result"
    }
   ],
   "source": [
    "sentiment_df.loc[sentiment_df.index[0]]['review_text'], sentiment_df.loc[sentiment_df.index[0]]['sentiment']"
   ]
  },
  {
   "cell_type": "code",
   "execution_count": 169,
   "id": "kKSrKos4VMrc",
   "metadata": {
    "colab": {
     "base_uri": "https://localhost:8080/"
    },
    "id": "kKSrKos4VMrc",
    "outputId": "1c3a5806-1b89-49fa-e055-4df199d7f8d1"
   },
   "outputs": [
    {
     "data": {
      "text/plain": [
       "('holy cow this book totally lived up to the hype for me ill be honestit sat on my tbr shelf for quite a while before i convinced myself to pick it up and read it mostly because i was afraid of that hype actually i tend to become resistant to doing said hyped thingmeabobber however i was hugely satisfied with this storyand want more ill even ask nicely my favorite part of the story besides the amazing worldbuilding and fantastic story was the friendship between the two girls in fact my only big quibble with this book is that we didnt get enough of them seriously lets ditch the povs of the boys and stick with the girls that would make me ecstatic excellent ya fantasy  stars',\n",
       " 5)"
      ]
     },
     "execution_count": 169,
     "metadata": {},
     "output_type": "execute_result"
    }
   ],
   "source": [
    "sentiment_df.loc[sentiment_df.index[1]]['review_text'], sentiment_df.loc[sentiment_df.index[1]]['sentiment']"
   ]
  },
  {
   "cell_type": "markdown",
   "id": "3c642285-e881-4b39-bbd3-4240284b318c",
   "metadata": {
    "id": "3c642285-e881-4b39-bbd3-4240284b318c",
    "jp-MarkdownHeadingCollapsed": true,
    "tags": []
   },
   "source": [
    "# Spacy"
   ]
  },
  {
   "cell_type": "code",
   "execution_count": null,
   "id": "bbefe44a-bf9c-4b78-a1d7-9946d9a6dc62",
   "metadata": {
    "id": "bbefe44a-bf9c-4b78-a1d7-9946d9a6dc62"
   },
   "outputs": [],
   "source": [
    "import spacy\n",
    "\n",
    "# Load English tokenizer, tagger, parser and NER\n",
    "nlp = spacy.load(\"en_core_web_sm\")"
   ]
  },
  {
   "cell_type": "code",
   "execution_count": null,
   "id": "97aaf449-441e-48e8-829e-caa0d53c6cc9",
   "metadata": {
    "id": "97aaf449-441e-48e8-829e-caa0d53c6cc9",
    "outputId": "93eddaab-0054-43e4-f8cc-694bfacaad55"
   },
   "outputs": [],
   "source": [
    "doc = nlp(\" \".join(rev.fixed_tokenized_text[1]))\n",
    "print(doc[:100])"
   ]
  },
  {
   "cell_type": "markdown",
   "id": "9aca1ae1-3b6d-44e2-82a1-7a3a3cfd04c3",
   "metadata": {
    "id": "9aca1ae1-3b6d-44e2-82a1-7a3a3cfd04c3"
   },
   "source": [
    "### Entities"
   ]
  },
  {
   "cell_type": "code",
   "execution_count": null,
   "id": "ede1fb54-65c9-4103-916e-408f4278e19d",
   "metadata": {
    "id": "ede1fb54-65c9-4103-916e-408f4278e19d",
    "outputId": "dccb6ddd-13b0-4af8-dcdb-9a0305d7b36d"
   },
   "outputs": [],
   "source": [
    "for entity in doc.ents:\n",
    "    print(entity.text, entity.label_)"
   ]
  },
  {
   "cell_type": "code",
   "execution_count": null,
   "id": "a134f8f2-62ca-4d52-800a-2fc32d014d3b",
   "metadata": {
    "id": "a134f8f2-62ca-4d52-800a-2fc32d014d3b",
    "outputId": "60c1b53a-8130-41f8-d5f2-7a10561f87ac"
   },
   "outputs": [],
   "source": [
    "doc.ents"
   ]
  },
  {
   "cell_type": "code",
   "execution_count": null,
   "id": "2746378b-10d0-42ac-8a18-6cdbde4766a4",
   "metadata": {
    "id": "2746378b-10d0-42ac-8a18-6cdbde4766a4",
    "outputId": "fbdb28a6-9b3f-4532-d5d8-20ab210c2a86"
   },
   "outputs": [],
   "source": [
    "from spacy import displacy\n",
    "\n",
    "displacy.render(doc, style=\"ent\")"
   ]
  },
  {
   "cell_type": "markdown",
   "id": "1efc72f4-d560-4414-bb7b-91b103d07015",
   "metadata": {
    "id": "1efc72f4-d560-4414-bb7b-91b103d07015",
    "jp-MarkdownHeadingCollapsed": true,
    "tags": []
   },
   "source": [
    "# WorldCloud"
   ]
  },
  {
   "cell_type": "code",
   "execution_count": null,
   "id": "1602dc6b-3dd6-44ea-9593-d19fffd5e628",
   "metadata": {
    "id": "1602dc6b-3dd6-44ea-9593-d19fffd5e628"
   },
   "outputs": [],
   "source": [
    "def plot_cloud_rating(df, rating):\n",
    "    review = rev[rev.rating == rating][\"review_text\"]\n",
    "    \n",
    "    wordcloud = WordCloud(width=800, height=400, background_color=\"white\").generate(review.values[0])\n",
    "    plt.figure(figsize=(15,6))\n",
    "    plt.imshow(wordcloud, interpolation=\"bilinear\")\n",
    "    plt.axis(\"off\")\n",
    "    plt.show()"
   ]
  },
  {
   "cell_type": "code",
   "execution_count": null,
   "id": "8f47abaf-6c30-4dbe-906d-d4c84b476d90",
   "metadata": {
    "id": "8f47abaf-6c30-4dbe-906d-d4c84b476d90",
    "outputId": "f1f0fa3c-d968-4304-cf35-dfac31e354c2"
   },
   "outputs": [],
   "source": [
    "review = rev[rev.rating == 1][\"review_text\"]\n",
    "review[:5]"
   ]
  },
  {
   "cell_type": "code",
   "execution_count": null,
   "id": "6dd79fff-9384-42df-9a17-693c36291258",
   "metadata": {
    "id": "6dd79fff-9384-42df-9a17-693c36291258",
    "outputId": "b35a62e3-086f-45a3-aeea-bdfcef70409c"
   },
   "outputs": [],
   "source": [
    "plot_cloud_rating(rev, 5)"
   ]
  },
  {
   "cell_type": "code",
   "execution_count": null,
   "id": "7a6567b7-e11e-4eda-bb18-e9415eaf756b",
   "metadata": {
    "id": "7a6567b7-e11e-4eda-bb18-e9415eaf756b"
   },
   "outputs": [],
   "source": [
    "def frequency_per_genre(df, genre):\n",
    "    df_review = df[df.genre == genre]\n",
    "    \n",
    "    tokenized_text = word_tokenize(\" \".join([el for el in df_review[\"review_text\"]]))\n",
    "    \n",
    "    frequency_distribution = dict(sorted(nltk.FreqDist(\n",
    "    [parola for parola in tokenized_text if parola not in stop_words and parola.isalpha()]).items(), \n",
    "                                     key=lambda x:x[1], \n",
    "                                     reverse= True))\n",
    "    return frequency_distribution\n",
    "    \n",
    "def plot_cloud_genre(df, genre = None, freq_dist_new = None):\n",
    "    if not freq_dist_new:\n",
    "        freq_dist_new = frequency_per_genre(df, genre)\n",
    "    \n",
    "    wordcloud = WordCloud(width=800, height=400, background_color=\"white\").generate_from_frequencies(freq_dist_new)\n",
    "    plt.figure(figsize=(15,6))\n",
    "    plt.imshow(wordcloud, interpolation=\"bilinear\")\n",
    "    plt.axis(\"off\")\n",
    "    plt.show()"
   ]
  },
  {
   "cell_type": "code",
   "execution_count": null,
   "id": "016b092c-3575-475c-b378-54f2ebc2f425",
   "metadata": {
    "id": "016b092c-3575-475c-b378-54f2ebc2f425",
    "outputId": "7f58f224-a2a6-4445-8e1c-300a8dc4cbda"
   },
   "outputs": [],
   "source": [
    "plot_cloud_genre(rev, \"Science Fiction\")"
   ]
  },
  {
   "cell_type": "code",
   "execution_count": null,
   "id": "4096724a-3b11-48e9-9f49-cf99b3ecac14",
   "metadata": {
    "id": "4096724a-3b11-48e9-9f49-cf99b3ecac14",
    "outputId": "dfc41c82-6459-4117-9971-c5b4edb58044"
   },
   "outputs": [],
   "source": [
    "wordcloud = WordCloud(width=800, height=400, background_color=\"white\").generate_from_text(\" \".join([parola for lista in rev[rev.genre == \"Science Fiction\"][\"fixed_tokenized_text\"] for parola in lista]))\n",
    "plt.figure(figsize=(15,6))\n",
    "plt.imshow(wordcloud, interpolation=\"bilinear\")\n",
    "plt.axis(\"off\")\n",
    "plt.show()"
   ]
  },
  {
   "cell_type": "code",
   "execution_count": null,
   "id": "a4639e0a-4820-4d32-b06a-64d316f04090",
   "metadata": {
    "id": "a4639e0a-4820-4d32-b06a-64d316f04090",
    "outputId": "7ce9ed0f-f021-4447-e5a7-3ae289ca26e4",
    "tags": []
   },
   "outputs": [],
   "source": [
    "wordcloud = WordCloud(width=800, height=400, background_color=\"white\").generate_from_text(\" \".join([el for el in rev[rev.genre == \"Romance\"][\"review_text\"]]))\n",
    "plt.figure(figsize=(15,6))\n",
    "plt.imshow(wordcloud, interpolation=\"bilinear\")\n",
    "plt.axis(\"off\")\n",
    "plt.show()"
   ]
  }
 ],
 "metadata": {
  "colab": {
   "provenance": [],
   "toc_visible": true
  },
  "kernelspec": {
   "display_name": "Python 3 (ipykernel)",
   "language": "python",
   "name": "python3"
  },
  "language_info": {
   "codemirror_mode": {
    "name": "ipython",
    "version": 3
   },
   "file_extension": ".py",
   "mimetype": "text/x-python",
   "name": "python",
   "nbconvert_exporter": "python",
   "pygments_lexer": "ipython3",
   "version": "3.9.13"
  },
  "widgets": {
   "application/vnd.jupyter.widget-state+json": {
    "02f172d71a244b4994373477205761ea": {
     "model_module": "@jupyter-widgets/controls",
     "model_module_version": "1.5.0",
     "model_name": "HTMLModel",
     "state": {
      "_dom_classes": [],
      "_model_module": "@jupyter-widgets/controls",
      "_model_module_version": "1.5.0",
      "_model_name": "HTMLModel",
      "_view_count": null,
      "_view_module": "@jupyter-widgets/controls",
      "_view_module_version": "1.5.0",
      "_view_name": "HTMLView",
      "description": "",
      "description_tooltip": null,
      "layout": "IPY_MODEL_5517256681c148e8912cd0adba4f53b0",
      "placeholder": "​",
      "style": "IPY_MODEL_7f0a1252040b4e7b8063ea86c66dac7d",
      "value": "Downloading: 100%"
     }
    },
    "0d791bf6683d4ce2b70e55d931fccee5": {
     "model_module": "@jupyter-widgets/base",
     "model_module_version": "1.2.0",
     "model_name": "LayoutModel",
     "state": {
      "_model_module": "@jupyter-widgets/base",
      "_model_module_version": "1.2.0",
      "_model_name": "LayoutModel",
      "_view_count": null,
      "_view_module": "@jupyter-widgets/base",
      "_view_module_version": "1.2.0",
      "_view_name": "LayoutView",
      "align_content": null,
      "align_items": null,
      "align_self": null,
      "border": null,
      "bottom": null,
      "display": null,
      "flex": null,
      "flex_flow": null,
      "grid_area": null,
      "grid_auto_columns": null,
      "grid_auto_flow": null,
      "grid_auto_rows": null,
      "grid_column": null,
      "grid_gap": null,
      "grid_row": null,
      "grid_template_areas": null,
      "grid_template_columns": null,
      "grid_template_rows": null,
      "height": null,
      "justify_content": null,
      "justify_items": null,
      "left": null,
      "margin": null,
      "max_height": null,
      "max_width": null,
      "min_height": null,
      "min_width": null,
      "object_fit": null,
      "object_position": null,
      "order": null,
      "overflow": null,
      "overflow_x": null,
      "overflow_y": null,
      "padding": null,
      "right": null,
      "top": null,
      "visibility": null,
      "width": null
     }
    },
    "12ae648a5e1e4fd8a46db54edb4ef4bf": {
     "model_module": "@jupyter-widgets/base",
     "model_module_version": "1.2.0",
     "model_name": "LayoutModel",
     "state": {
      "_model_module": "@jupyter-widgets/base",
      "_model_module_version": "1.2.0",
      "_model_name": "LayoutModel",
      "_view_count": null,
      "_view_module": "@jupyter-widgets/base",
      "_view_module_version": "1.2.0",
      "_view_name": "LayoutView",
      "align_content": null,
      "align_items": null,
      "align_self": null,
      "border": null,
      "bottom": null,
      "display": null,
      "flex": null,
      "flex_flow": null,
      "grid_area": null,
      "grid_auto_columns": null,
      "grid_auto_flow": null,
      "grid_auto_rows": null,
      "grid_column": null,
      "grid_gap": null,
      "grid_row": null,
      "grid_template_areas": null,
      "grid_template_columns": null,
      "grid_template_rows": null,
      "height": null,
      "justify_content": null,
      "justify_items": null,
      "left": null,
      "margin": null,
      "max_height": null,
      "max_width": null,
      "min_height": null,
      "min_width": null,
      "object_fit": null,
      "object_position": null,
      "order": null,
      "overflow": null,
      "overflow_x": null,
      "overflow_y": null,
      "padding": null,
      "right": null,
      "top": null,
      "visibility": null,
      "width": null
     }
    },
    "15a35f297701414aaa4d155526acd9d0": {
     "model_module": "@jupyter-widgets/controls",
     "model_module_version": "1.5.0",
     "model_name": "ProgressStyleModel",
     "state": {
      "_model_module": "@jupyter-widgets/controls",
      "_model_module_version": "1.5.0",
      "_model_name": "ProgressStyleModel",
      "_view_count": null,
      "_view_module": "@jupyter-widgets/base",
      "_view_module_version": "1.2.0",
      "_view_name": "StyleView",
      "bar_color": null,
      "description_width": ""
     }
    },
    "1646eca0254e4e0686850cd4f30dd768": {
     "model_module": "@jupyter-widgets/controls",
     "model_module_version": "1.5.0",
     "model_name": "FloatProgressModel",
     "state": {
      "_dom_classes": [],
      "_model_module": "@jupyter-widgets/controls",
      "_model_module_version": "1.5.0",
      "_model_name": "FloatProgressModel",
      "_view_count": null,
      "_view_module": "@jupyter-widgets/controls",
      "_view_module_version": "1.5.0",
      "_view_name": "ProgressView",
      "bar_style": "success",
      "description": "",
      "description_tooltip": null,
      "layout": "IPY_MODEL_ebfab4eb00dc4923b428a7d21e6c6c77",
      "max": 953,
      "min": 0,
      "orientation": "horizontal",
      "style": "IPY_MODEL_a36ebfba56224de49a2867ad32335d41",
      "value": 953
     }
    },
    "189da214ebd446efbb9e73804a6cf2f0": {
     "model_module": "@jupyter-widgets/base",
     "model_module_version": "1.2.0",
     "model_name": "LayoutModel",
     "state": {
      "_model_module": "@jupyter-widgets/base",
      "_model_module_version": "1.2.0",
      "_model_name": "LayoutModel",
      "_view_count": null,
      "_view_module": "@jupyter-widgets/base",
      "_view_module_version": "1.2.0",
      "_view_name": "LayoutView",
      "align_content": null,
      "align_items": null,
      "align_self": null,
      "border": null,
      "bottom": null,
      "display": null,
      "flex": null,
      "flex_flow": null,
      "grid_area": null,
      "grid_auto_columns": null,
      "grid_auto_flow": null,
      "grid_auto_rows": null,
      "grid_column": null,
      "grid_gap": null,
      "grid_row": null,
      "grid_template_areas": null,
      "grid_template_columns": null,
      "grid_template_rows": null,
      "height": null,
      "justify_content": null,
      "justify_items": null,
      "left": null,
      "margin": null,
      "max_height": null,
      "max_width": null,
      "min_height": null,
      "min_width": null,
      "object_fit": null,
      "object_position": null,
      "order": null,
      "overflow": null,
      "overflow_x": null,
      "overflow_y": null,
      "padding": null,
      "right": null,
      "top": null,
      "visibility": null,
      "width": null
     }
    },
    "1f978dc0335948a99dc8d9745a812894": {
     "model_module": "@jupyter-widgets/controls",
     "model_module_version": "1.5.0",
     "model_name": "HTMLModel",
     "state": {
      "_dom_classes": [],
      "_model_module": "@jupyter-widgets/controls",
      "_model_module_version": "1.5.0",
      "_model_name": "HTMLModel",
      "_view_count": null,
      "_view_module": "@jupyter-widgets/controls",
      "_view_module_version": "1.5.0",
      "_view_name": "HTMLView",
      "description": "",
      "description_tooltip": null,
      "layout": "IPY_MODEL_cf091171bb7a4801929ab91fdb64d875",
      "placeholder": "​",
      "style": "IPY_MODEL_947fc13f72cc464e9a231637bdb6e76c",
      "value": "Downloading: 100%"
     }
    },
    "230434fcae324bd5a3ed1fff81e5883d": {
     "model_module": "@jupyter-widgets/base",
     "model_module_version": "1.2.0",
     "model_name": "LayoutModel",
     "state": {
      "_model_module": "@jupyter-widgets/base",
      "_model_module_version": "1.2.0",
      "_model_name": "LayoutModel",
      "_view_count": null,
      "_view_module": "@jupyter-widgets/base",
      "_view_module_version": "1.2.0",
      "_view_name": "LayoutView",
      "align_content": null,
      "align_items": null,
      "align_self": null,
      "border": null,
      "bottom": null,
      "display": null,
      "flex": null,
      "flex_flow": null,
      "grid_area": null,
      "grid_auto_columns": null,
      "grid_auto_flow": null,
      "grid_auto_rows": null,
      "grid_column": null,
      "grid_gap": null,
      "grid_row": null,
      "grid_template_areas": null,
      "grid_template_columns": null,
      "grid_template_rows": null,
      "height": null,
      "justify_content": null,
      "justify_items": null,
      "left": null,
      "margin": null,
      "max_height": null,
      "max_width": null,
      "min_height": null,
      "min_width": null,
      "object_fit": null,
      "object_position": null,
      "order": null,
      "overflow": null,
      "overflow_x": null,
      "overflow_y": null,
      "padding": null,
      "right": null,
      "top": null,
      "visibility": null,
      "width": null
     }
    },
    "2a1a3aac211a44d393f10a68d34172b4": {
     "model_module": "@jupyter-widgets/controls",
     "model_module_version": "1.5.0",
     "model_name": "DescriptionStyleModel",
     "state": {
      "_model_module": "@jupyter-widgets/controls",
      "_model_module_version": "1.5.0",
      "_model_name": "DescriptionStyleModel",
      "_view_count": null,
      "_view_module": "@jupyter-widgets/base",
      "_view_module_version": "1.2.0",
      "_view_name": "StyleView",
      "description_width": ""
     }
    },
    "2dc9f8d2f1374458b7775a7b018c474c": {
     "model_module": "@jupyter-widgets/controls",
     "model_module_version": "1.5.0",
     "model_name": "ProgressStyleModel",
     "state": {
      "_model_module": "@jupyter-widgets/controls",
      "_model_module_version": "1.5.0",
      "_model_name": "ProgressStyleModel",
      "_view_count": null,
      "_view_module": "@jupyter-widgets/base",
      "_view_module_version": "1.2.0",
      "_view_name": "StyleView",
      "bar_color": null,
      "description_width": ""
     }
    },
    "34a011cc1f7a4ebebb7aa23e49d95cda": {
     "model_module": "@jupyter-widgets/controls",
     "model_module_version": "1.5.0",
     "model_name": "HBoxModel",
     "state": {
      "_dom_classes": [],
      "_model_module": "@jupyter-widgets/controls",
      "_model_module_version": "1.5.0",
      "_model_name": "HBoxModel",
      "_view_count": null,
      "_view_module": "@jupyter-widgets/controls",
      "_view_module_version": "1.5.0",
      "_view_name": "HBoxView",
      "box_style": "",
      "children": [
       "IPY_MODEL_4c5f2d18e39f4138a9d941831a7eb9ff",
       "IPY_MODEL_c16082b9958642bf832a2fce6b858e78",
       "IPY_MODEL_8bf1c230757f42c1ac98b8e8eb4d5277"
      ],
      "layout": "IPY_MODEL_cdcacdb316fb49b5bfe6e89701dc408b"
     }
    },
    "3cc755abe42e4a42bcabe7d7a006f7a4": {
     "model_module": "@jupyter-widgets/controls",
     "model_module_version": "1.5.0",
     "model_name": "FloatProgressModel",
     "state": {
      "_dom_classes": [],
      "_model_module": "@jupyter-widgets/controls",
      "_model_module_version": "1.5.0",
      "_model_name": "FloatProgressModel",
      "_view_count": null,
      "_view_module": "@jupyter-widgets/controls",
      "_view_module_version": "1.5.0",
      "_view_name": "ProgressView",
      "bar_style": "success",
      "description": "",
      "description_tooltip": null,
      "layout": "IPY_MODEL_e179867f06be4a2f8fe662cb5afb0a23",
      "max": 17000,
      "min": 0,
      "orientation": "horizontal",
      "style": "IPY_MODEL_15a35f297701414aaa4d155526acd9d0",
      "value": 17000
     }
    },
    "3d15b835f8c74d7c90c9fb1f134cfa43": {
     "model_module": "@jupyter-widgets/controls",
     "model_module_version": "1.5.0",
     "model_name": "HTMLModel",
     "state": {
      "_dom_classes": [],
      "_model_module": "@jupyter-widgets/controls",
      "_model_module_version": "1.5.0",
      "_model_name": "HTMLModel",
      "_view_count": null,
      "_view_module": "@jupyter-widgets/controls",
      "_view_module_version": "1.5.0",
      "_view_name": "HTMLView",
      "description": "",
      "description_tooltip": null,
      "layout": "IPY_MODEL_5562d126c1874de595747c2eae8f7a83",
      "placeholder": "​",
      "style": "IPY_MODEL_5cd749aeb83148e9ac04da362beea8a6",
      "value": "Pandas Apply: 100%"
     }
    },
    "40f08d6ac9a844bd9b6422fce38c0fc6": {
     "model_module": "@jupyter-widgets/controls",
     "model_module_version": "1.5.0",
     "model_name": "HTMLModel",
     "state": {
      "_dom_classes": [],
      "_model_module": "@jupyter-widgets/controls",
      "_model_module_version": "1.5.0",
      "_model_name": "HTMLModel",
      "_view_count": null,
      "_view_module": "@jupyter-widgets/controls",
      "_view_module_version": "1.5.0",
      "_view_name": "HTMLView",
      "description": "",
      "description_tooltip": null,
      "layout": "IPY_MODEL_4a59da7991dc4bf088a859bc4ff9511c",
      "placeholder": "​",
      "style": "IPY_MODEL_c710a41a01074dbc8a0f4b94f6121a58",
      "value": " 953/953 [00:00&lt;00:00, 23.9kB/s]"
     }
    },
    "42d1c9b6df0d4368a92887a4c0fc81e7": {
     "model_module": "@jupyter-widgets/base",
     "model_module_version": "1.2.0",
     "model_name": "LayoutModel",
     "state": {
      "_model_module": "@jupyter-widgets/base",
      "_model_module_version": "1.2.0",
      "_model_name": "LayoutModel",
      "_view_count": null,
      "_view_module": "@jupyter-widgets/base",
      "_view_module_version": "1.2.0",
      "_view_name": "LayoutView",
      "align_content": null,
      "align_items": null,
      "align_self": null,
      "border": null,
      "bottom": null,
      "display": null,
      "flex": null,
      "flex_flow": null,
      "grid_area": null,
      "grid_auto_columns": null,
      "grid_auto_flow": null,
      "grid_auto_rows": null,
      "grid_column": null,
      "grid_gap": null,
      "grid_row": null,
      "grid_template_areas": null,
      "grid_template_columns": null,
      "grid_template_rows": null,
      "height": null,
      "justify_content": null,
      "justify_items": null,
      "left": null,
      "margin": null,
      "max_height": null,
      "max_width": null,
      "min_height": null,
      "min_width": null,
      "object_fit": null,
      "object_position": null,
      "order": null,
      "overflow": null,
      "overflow_x": null,
      "overflow_y": null,
      "padding": null,
      "right": null,
      "top": null,
      "visibility": null,
      "width": null
     }
    },
    "4645eeaa9d6446ff8c89e7a470afcb98": {
     "model_module": "@jupyter-widgets/base",
     "model_module_version": "1.2.0",
     "model_name": "LayoutModel",
     "state": {
      "_model_module": "@jupyter-widgets/base",
      "_model_module_version": "1.2.0",
      "_model_name": "LayoutModel",
      "_view_count": null,
      "_view_module": "@jupyter-widgets/base",
      "_view_module_version": "1.2.0",
      "_view_name": "LayoutView",
      "align_content": null,
      "align_items": null,
      "align_self": null,
      "border": null,
      "bottom": null,
      "display": null,
      "flex": null,
      "flex_flow": null,
      "grid_area": null,
      "grid_auto_columns": null,
      "grid_auto_flow": null,
      "grid_auto_rows": null,
      "grid_column": null,
      "grid_gap": null,
      "grid_row": null,
      "grid_template_areas": null,
      "grid_template_columns": null,
      "grid_template_rows": null,
      "height": null,
      "justify_content": null,
      "justify_items": null,
      "left": null,
      "margin": null,
      "max_height": null,
      "max_width": null,
      "min_height": null,
      "min_width": null,
      "object_fit": null,
      "object_position": null,
      "order": null,
      "overflow": null,
      "overflow_x": null,
      "overflow_y": null,
      "padding": null,
      "right": null,
      "top": null,
      "visibility": null,
      "width": null
     }
    },
    "47152ec61dca4554b2c196ccf54aa240": {
     "model_module": "@jupyter-widgets/controls",
     "model_module_version": "1.5.0",
     "model_name": "HBoxModel",
     "state": {
      "_dom_classes": [],
      "_model_module": "@jupyter-widgets/controls",
      "_model_module_version": "1.5.0",
      "_model_name": "HBoxModel",
      "_view_count": null,
      "_view_module": "@jupyter-widgets/controls",
      "_view_module_version": "1.5.0",
      "_view_name": "HBoxView",
      "box_style": "",
      "children": [
       "IPY_MODEL_f93489683849481280912c4df369123e",
       "IPY_MODEL_7a99bb59e1e14b23a164282c2e5333b9",
       "IPY_MODEL_e5d6de5d5633402992cb472e5f27563c"
      ],
      "layout": "IPY_MODEL_189da214ebd446efbb9e73804a6cf2f0"
     }
    },
    "4a59da7991dc4bf088a859bc4ff9511c": {
     "model_module": "@jupyter-widgets/base",
     "model_module_version": "1.2.0",
     "model_name": "LayoutModel",
     "state": {
      "_model_module": "@jupyter-widgets/base",
      "_model_module_version": "1.2.0",
      "_model_name": "LayoutModel",
      "_view_count": null,
      "_view_module": "@jupyter-widgets/base",
      "_view_module_version": "1.2.0",
      "_view_name": "LayoutView",
      "align_content": null,
      "align_items": null,
      "align_self": null,
      "border": null,
      "bottom": null,
      "display": null,
      "flex": null,
      "flex_flow": null,
      "grid_area": null,
      "grid_auto_columns": null,
      "grid_auto_flow": null,
      "grid_auto_rows": null,
      "grid_column": null,
      "grid_gap": null,
      "grid_row": null,
      "grid_template_areas": null,
      "grid_template_columns": null,
      "grid_template_rows": null,
      "height": null,
      "justify_content": null,
      "justify_items": null,
      "left": null,
      "margin": null,
      "max_height": null,
      "max_width": null,
      "min_height": null,
      "min_width": null,
      "object_fit": null,
      "object_position": null,
      "order": null,
      "overflow": null,
      "overflow_x": null,
      "overflow_y": null,
      "padding": null,
      "right": null,
      "top": null,
      "visibility": null,
      "width": null
     }
    },
    "4c5f2d18e39f4138a9d941831a7eb9ff": {
     "model_module": "@jupyter-widgets/controls",
     "model_module_version": "1.5.0",
     "model_name": "HTMLModel",
     "state": {
      "_dom_classes": [],
      "_model_module": "@jupyter-widgets/controls",
      "_model_module_version": "1.5.0",
      "_model_name": "HTMLModel",
      "_view_count": null,
      "_view_module": "@jupyter-widgets/controls",
      "_view_module_version": "1.5.0",
      "_view_name": "HTMLView",
      "description": "",
      "description_tooltip": null,
      "layout": "IPY_MODEL_12ae648a5e1e4fd8a46db54edb4ef4bf",
      "placeholder": "​",
      "style": "IPY_MODEL_d26e131225bf4f37bc001c210ae77133",
      "value": "Pandas Apply: 100%"
     }
    },
    "4f7ddeb6f69d424c8e0c6dffcabefce5": {
     "model_module": "@jupyter-widgets/controls",
     "model_module_version": "1.5.0",
     "model_name": "HTMLModel",
     "state": {
      "_dom_classes": [],
      "_model_module": "@jupyter-widgets/controls",
      "_model_module_version": "1.5.0",
      "_model_name": "HTMLModel",
      "_view_count": null,
      "_view_module": "@jupyter-widgets/controls",
      "_view_module_version": "1.5.0",
      "_view_name": "HTMLView",
      "description": "",
      "description_tooltip": null,
      "layout": "IPY_MODEL_cc2312d6967140e6bc3cbb8d3b6fecab",
      "placeholder": "​",
      "style": "IPY_MODEL_51ab0a3337ee4653a4e809398aab4187",
      "value": "Pandas Apply: 100%"
     }
    },
    "51ab0a3337ee4653a4e809398aab4187": {
     "model_module": "@jupyter-widgets/controls",
     "model_module_version": "1.5.0",
     "model_name": "DescriptionStyleModel",
     "state": {
      "_model_module": "@jupyter-widgets/controls",
      "_model_module_version": "1.5.0",
      "_model_name": "DescriptionStyleModel",
      "_view_count": null,
      "_view_module": "@jupyter-widgets/base",
      "_view_module_version": "1.2.0",
      "_view_name": "StyleView",
      "description_width": ""
     }
    },
    "54beee9f1a2343e982b815261cae9aba": {
     "model_module": "@jupyter-widgets/controls",
     "model_module_version": "1.5.0",
     "model_name": "HBoxModel",
     "state": {
      "_dom_classes": [],
      "_model_module": "@jupyter-widgets/controls",
      "_model_module_version": "1.5.0",
      "_model_name": "HBoxModel",
      "_view_count": null,
      "_view_module": "@jupyter-widgets/controls",
      "_view_module_version": "1.5.0",
      "_view_name": "HBoxView",
      "box_style": "",
      "children": [
       "IPY_MODEL_02f172d71a244b4994373477205761ea",
       "IPY_MODEL_bc208e790dea4a0aa4cb85232edc163c",
       "IPY_MODEL_656d31e91e6947ae9cb24bcc53be6547"
      ],
      "layout": "IPY_MODEL_c2ba2a58d67e46b385fa9bf66ca9195f"
     }
    },
    "5517256681c148e8912cd0adba4f53b0": {
     "model_module": "@jupyter-widgets/base",
     "model_module_version": "1.2.0",
     "model_name": "LayoutModel",
     "state": {
      "_model_module": "@jupyter-widgets/base",
      "_model_module_version": "1.2.0",
      "_model_name": "LayoutModel",
      "_view_count": null,
      "_view_module": "@jupyter-widgets/base",
      "_view_module_version": "1.2.0",
      "_view_name": "LayoutView",
      "align_content": null,
      "align_items": null,
      "align_self": null,
      "border": null,
      "bottom": null,
      "display": null,
      "flex": null,
      "flex_flow": null,
      "grid_area": null,
      "grid_auto_columns": null,
      "grid_auto_flow": null,
      "grid_auto_rows": null,
      "grid_column": null,
      "grid_gap": null,
      "grid_row": null,
      "grid_template_areas": null,
      "grid_template_columns": null,
      "grid_template_rows": null,
      "height": null,
      "justify_content": null,
      "justify_items": null,
      "left": null,
      "margin": null,
      "max_height": null,
      "max_width": null,
      "min_height": null,
      "min_width": null,
      "object_fit": null,
      "object_position": null,
      "order": null,
      "overflow": null,
      "overflow_x": null,
      "overflow_y": null,
      "padding": null,
      "right": null,
      "top": null,
      "visibility": null,
      "width": null
     }
    },
    "5562d126c1874de595747c2eae8f7a83": {
     "model_module": "@jupyter-widgets/base",
     "model_module_version": "1.2.0",
     "model_name": "LayoutModel",
     "state": {
      "_model_module": "@jupyter-widgets/base",
      "_model_module_version": "1.2.0",
      "_model_name": "LayoutModel",
      "_view_count": null,
      "_view_module": "@jupyter-widgets/base",
      "_view_module_version": "1.2.0",
      "_view_name": "LayoutView",
      "align_content": null,
      "align_items": null,
      "align_self": null,
      "border": null,
      "bottom": null,
      "display": null,
      "flex": null,
      "flex_flow": null,
      "grid_area": null,
      "grid_auto_columns": null,
      "grid_auto_flow": null,
      "grid_auto_rows": null,
      "grid_column": null,
      "grid_gap": null,
      "grid_row": null,
      "grid_template_areas": null,
      "grid_template_columns": null,
      "grid_template_rows": null,
      "height": null,
      "justify_content": null,
      "justify_items": null,
      "left": null,
      "margin": null,
      "max_height": null,
      "max_width": null,
      "min_height": null,
      "min_width": null,
      "object_fit": null,
      "object_position": null,
      "order": null,
      "overflow": null,
      "overflow_x": null,
      "overflow_y": null,
      "padding": null,
      "right": null,
      "top": null,
      "visibility": null,
      "width": null
     }
    },
    "5578ba393eca46c88609625630972ae5": {
     "model_module": "@jupyter-widgets/controls",
     "model_module_version": "1.5.0",
     "model_name": "ProgressStyleModel",
     "state": {
      "_model_module": "@jupyter-widgets/controls",
      "_model_module_version": "1.5.0",
      "_model_name": "ProgressStyleModel",
      "_view_count": null,
      "_view_module": "@jupyter-widgets/base",
      "_view_module_version": "1.2.0",
      "_view_name": "StyleView",
      "bar_color": null,
      "description_width": ""
     }
    },
    "5cc3ba07da7e4f5096713b18ade1b749": {
     "model_module": "@jupyter-widgets/controls",
     "model_module_version": "1.5.0",
     "model_name": "HBoxModel",
     "state": {
      "_dom_classes": [],
      "_model_module": "@jupyter-widgets/controls",
      "_model_module_version": "1.5.0",
      "_model_name": "HBoxModel",
      "_view_count": null,
      "_view_module": "@jupyter-widgets/controls",
      "_view_module_version": "1.5.0",
      "_view_name": "HBoxView",
      "box_style": "",
      "children": [
       "IPY_MODEL_1f978dc0335948a99dc8d9745a812894",
       "IPY_MODEL_5d3200d89cfd49349e185b10a13b097b",
       "IPY_MODEL_9f5134aa048e4d8ea3bec7b860f0efc8"
      ],
      "layout": "IPY_MODEL_c2c4a29cd0a14f5cbd6f239c2eeb021d"
     }
    },
    "5cd749aeb83148e9ac04da362beea8a6": {
     "model_module": "@jupyter-widgets/controls",
     "model_module_version": "1.5.0",
     "model_name": "DescriptionStyleModel",
     "state": {
      "_model_module": "@jupyter-widgets/controls",
      "_model_module_version": "1.5.0",
      "_model_name": "DescriptionStyleModel",
      "_view_count": null,
      "_view_module": "@jupyter-widgets/base",
      "_view_module_version": "1.2.0",
      "_view_name": "StyleView",
      "description_width": ""
     }
    },
    "5d3200d89cfd49349e185b10a13b097b": {
     "model_module": "@jupyter-widgets/controls",
     "model_module_version": "1.5.0",
     "model_name": "FloatProgressModel",
     "state": {
      "_dom_classes": [],
      "_model_module": "@jupyter-widgets/controls",
      "_model_module_version": "1.5.0",
      "_model_name": "FloatProgressModel",
      "_view_count": null,
      "_view_module": "@jupyter-widgets/controls",
      "_view_module_version": "1.5.0",
      "_view_name": "ProgressView",
      "bar_style": "success",
      "description": "",
      "description_tooltip": null,
      "layout": "IPY_MODEL_ec26102afc2c4fe08336928b9e893df8",
      "max": 39,
      "min": 0,
      "orientation": "horizontal",
      "style": "IPY_MODEL_879a6128f9a14dfcab485f33b696a49d",
      "value": 39
     }
    },
    "5d48b6542e394c3fb29f0c321098056e": {
     "model_module": "@jupyter-widgets/controls",
     "model_module_version": "1.5.0",
     "model_name": "HTMLModel",
     "state": {
      "_dom_classes": [],
      "_model_module": "@jupyter-widgets/controls",
      "_model_module_version": "1.5.0",
      "_model_name": "HTMLModel",
      "_view_count": null,
      "_view_module": "@jupyter-widgets/controls",
      "_view_module_version": "1.5.0",
      "_view_name": "HTMLView",
      "description": "",
      "description_tooltip": null,
      "layout": "IPY_MODEL_ab3aa2f69f3d474d8bbd908e5e27a226",
      "placeholder": "​",
      "style": "IPY_MODEL_72aa94b04924452a85cbd94b0336aeed",
      "value": "Downloading: 100%"
     }
    },
    "656d31e91e6947ae9cb24bcc53be6547": {
     "model_module": "@jupyter-widgets/controls",
     "model_module_version": "1.5.0",
     "model_name": "HTMLModel",
     "state": {
      "_dom_classes": [],
      "_model_module": "@jupyter-widgets/controls",
      "_model_module_version": "1.5.0",
      "_model_name": "HTMLModel",
      "_view_count": null,
      "_view_module": "@jupyter-widgets/controls",
      "_view_module_version": "1.5.0",
      "_view_name": "HTMLView",
      "description": "",
      "description_tooltip": null,
      "layout": "IPY_MODEL_230434fcae324bd5a3ed1fff81e5883d",
      "placeholder": "​",
      "style": "IPY_MODEL_b29070e672f448bbbcc26c07e37a17f9",
      "value": " 669M/669M [00:19&lt;00:00, 35.6MB/s]"
     }
    },
    "6b5dc09fa0aa4cd5ae0412e4c3b96dd3": {
     "model_module": "@jupyter-widgets/base",
     "model_module_version": "1.2.0",
     "model_name": "LayoutModel",
     "state": {
      "_model_module": "@jupyter-widgets/base",
      "_model_module_version": "1.2.0",
      "_model_name": "LayoutModel",
      "_view_count": null,
      "_view_module": "@jupyter-widgets/base",
      "_view_module_version": "1.2.0",
      "_view_name": "LayoutView",
      "align_content": null,
      "align_items": null,
      "align_self": null,
      "border": null,
      "bottom": null,
      "display": null,
      "flex": null,
      "flex_flow": null,
      "grid_area": null,
      "grid_auto_columns": null,
      "grid_auto_flow": null,
      "grid_auto_rows": null,
      "grid_column": null,
      "grid_gap": null,
      "grid_row": null,
      "grid_template_areas": null,
      "grid_template_columns": null,
      "grid_template_rows": null,
      "height": null,
      "justify_content": null,
      "justify_items": null,
      "left": null,
      "margin": null,
      "max_height": null,
      "max_width": null,
      "min_height": null,
      "min_width": null,
      "object_fit": null,
      "object_position": null,
      "order": null,
      "overflow": null,
      "overflow_x": null,
      "overflow_y": null,
      "padding": null,
      "right": null,
      "top": null,
      "visibility": null,
      "width": null
     }
    },
    "72aa94b04924452a85cbd94b0336aeed": {
     "model_module": "@jupyter-widgets/controls",
     "model_module_version": "1.5.0",
     "model_name": "DescriptionStyleModel",
     "state": {
      "_model_module": "@jupyter-widgets/controls",
      "_model_module_version": "1.5.0",
      "_model_name": "DescriptionStyleModel",
      "_view_count": null,
      "_view_module": "@jupyter-widgets/base",
      "_view_module_version": "1.2.0",
      "_view_name": "StyleView",
      "description_width": ""
     }
    },
    "76d88fbd34d14d079bac9243fc41e3cc": {
     "model_module": "@jupyter-widgets/base",
     "model_module_version": "1.2.0",
     "model_name": "LayoutModel",
     "state": {
      "_model_module": "@jupyter-widgets/base",
      "_model_module_version": "1.2.0",
      "_model_name": "LayoutModel",
      "_view_count": null,
      "_view_module": "@jupyter-widgets/base",
      "_view_module_version": "1.2.0",
      "_view_name": "LayoutView",
      "align_content": null,
      "align_items": null,
      "align_self": null,
      "border": null,
      "bottom": null,
      "display": null,
      "flex": null,
      "flex_flow": null,
      "grid_area": null,
      "grid_auto_columns": null,
      "grid_auto_flow": null,
      "grid_auto_rows": null,
      "grid_column": null,
      "grid_gap": null,
      "grid_row": null,
      "grid_template_areas": null,
      "grid_template_columns": null,
      "grid_template_rows": null,
      "height": null,
      "justify_content": null,
      "justify_items": null,
      "left": null,
      "margin": null,
      "max_height": null,
      "max_width": null,
      "min_height": null,
      "min_width": null,
      "object_fit": null,
      "object_position": null,
      "order": null,
      "overflow": null,
      "overflow_x": null,
      "overflow_y": null,
      "padding": null,
      "right": null,
      "top": null,
      "visibility": null,
      "width": null
     }
    },
    "7a99bb59e1e14b23a164282c2e5333b9": {
     "model_module": "@jupyter-widgets/controls",
     "model_module_version": "1.5.0",
     "model_name": "FloatProgressModel",
     "state": {
      "_dom_classes": [],
      "_model_module": "@jupyter-widgets/controls",
      "_model_module_version": "1.5.0",
      "_model_name": "FloatProgressModel",
      "_view_count": null,
      "_view_module": "@jupyter-widgets/controls",
      "_view_module_version": "1.5.0",
      "_view_name": "ProgressView",
      "bar_style": "success",
      "description": "",
      "description_tooltip": null,
      "layout": "IPY_MODEL_0d791bf6683d4ce2b70e55d931fccee5",
      "max": 112,
      "min": 0,
      "orientation": "horizontal",
      "style": "IPY_MODEL_84623198a958440f9b6d7b5c677eccc3",
      "value": 112
     }
    },
    "7ca6fa51080949d0a869330d4c426075": {
     "model_module": "@jupyter-widgets/controls",
     "model_module_version": "1.5.0",
     "model_name": "HTMLModel",
     "state": {
      "_dom_classes": [],
      "_model_module": "@jupyter-widgets/controls",
      "_model_module_version": "1.5.0",
      "_model_name": "HTMLModel",
      "_view_count": null,
      "_view_module": "@jupyter-widgets/controls",
      "_view_module_version": "1.5.0",
      "_view_name": "HTMLView",
      "description": "",
      "description_tooltip": null,
      "layout": "IPY_MODEL_cad8e02a2f6446afb59b016b508632f1",
      "placeholder": "​",
      "style": "IPY_MODEL_e68c7f872e5e40f6b848b96a129830fb",
      "value": " 17000/17000 [00:23&lt;00:00, 1295.83it/s]"
     }
    },
    "7f0a1252040b4e7b8063ea86c66dac7d": {
     "model_module": "@jupyter-widgets/controls",
     "model_module_version": "1.5.0",
     "model_name": "DescriptionStyleModel",
     "state": {
      "_model_module": "@jupyter-widgets/controls",
      "_model_module_version": "1.5.0",
      "_model_name": "DescriptionStyleModel",
      "_view_count": null,
      "_view_module": "@jupyter-widgets/base",
      "_view_module_version": "1.2.0",
      "_view_name": "StyleView",
      "description_width": ""
     }
    },
    "83c0aff01c37433bafc87694439995ea": {
     "model_module": "@jupyter-widgets/controls",
     "model_module_version": "1.5.0",
     "model_name": "DescriptionStyleModel",
     "state": {
      "_model_module": "@jupyter-widgets/controls",
      "_model_module_version": "1.5.0",
      "_model_name": "DescriptionStyleModel",
      "_view_count": null,
      "_view_module": "@jupyter-widgets/base",
      "_view_module_version": "1.2.0",
      "_view_name": "StyleView",
      "description_width": ""
     }
    },
    "84623198a958440f9b6d7b5c677eccc3": {
     "model_module": "@jupyter-widgets/controls",
     "model_module_version": "1.5.0",
     "model_name": "ProgressStyleModel",
     "state": {
      "_model_module": "@jupyter-widgets/controls",
      "_model_module_version": "1.5.0",
      "_model_name": "ProgressStyleModel",
      "_view_count": null,
      "_view_module": "@jupyter-widgets/base",
      "_view_module_version": "1.2.0",
      "_view_name": "StyleView",
      "bar_color": null,
      "description_width": ""
     }
    },
    "847bd0f583e94124ba6f6d889823492c": {
     "model_module": "@jupyter-widgets/controls",
     "model_module_version": "1.5.0",
     "model_name": "FloatProgressModel",
     "state": {
      "_dom_classes": [],
      "_model_module": "@jupyter-widgets/controls",
      "_model_module_version": "1.5.0",
      "_model_name": "FloatProgressModel",
      "_view_count": null,
      "_view_module": "@jupyter-widgets/controls",
      "_view_module_version": "1.5.0",
      "_view_name": "ProgressView",
      "bar_style": "success",
      "description": "",
      "description_tooltip": null,
      "layout": "IPY_MODEL_f7277390403245729ae2dadc2b1a05ad",
      "max": 871891,
      "min": 0,
      "orientation": "horizontal",
      "style": "IPY_MODEL_ed40854ab6884dbbaf189ce4e442404c",
      "value": 871891
     }
    },
    "879a6128f9a14dfcab485f33b696a49d": {
     "model_module": "@jupyter-widgets/controls",
     "model_module_version": "1.5.0",
     "model_name": "ProgressStyleModel",
     "state": {
      "_model_module": "@jupyter-widgets/controls",
      "_model_module_version": "1.5.0",
      "_model_name": "ProgressStyleModel",
      "_view_count": null,
      "_view_module": "@jupyter-widgets/base",
      "_view_module_version": "1.2.0",
      "_view_name": "StyleView",
      "bar_color": null,
      "description_width": ""
     }
    },
    "8bf1c230757f42c1ac98b8e8eb4d5277": {
     "model_module": "@jupyter-widgets/controls",
     "model_module_version": "1.5.0",
     "model_name": "HTMLModel",
     "state": {
      "_dom_classes": [],
      "_model_module": "@jupyter-widgets/controls",
      "_model_module_version": "1.5.0",
      "_model_name": "HTMLModel",
      "_view_count": null,
      "_view_module": "@jupyter-widgets/controls",
      "_view_module_version": "1.5.0",
      "_view_name": "HTMLView",
      "description": "",
      "description_tooltip": null,
      "layout": "IPY_MODEL_a8024ba84ad94ae49711373335589223",
      "placeholder": "​",
      "style": "IPY_MODEL_9e0cc85a99624c55a88642a3bb071e05",
      "value": " 17000/17000 [00:02&lt;00:00, 6942.73it/s]"
     }
    },
    "8f6c5bcdb9fc406794b77558891438bc": {
     "model_module": "@jupyter-widgets/base",
     "model_module_version": "1.2.0",
     "model_name": "LayoutModel",
     "state": {
      "_model_module": "@jupyter-widgets/base",
      "_model_module_version": "1.2.0",
      "_model_name": "LayoutModel",
      "_view_count": null,
      "_view_module": "@jupyter-widgets/base",
      "_view_module_version": "1.2.0",
      "_view_name": "LayoutView",
      "align_content": null,
      "align_items": null,
      "align_self": null,
      "border": null,
      "bottom": null,
      "display": null,
      "flex": null,
      "flex_flow": null,
      "grid_area": null,
      "grid_auto_columns": null,
      "grid_auto_flow": null,
      "grid_auto_rows": null,
      "grid_column": null,
      "grid_gap": null,
      "grid_row": null,
      "grid_template_areas": null,
      "grid_template_columns": null,
      "grid_template_rows": null,
      "height": null,
      "justify_content": null,
      "justify_items": null,
      "left": null,
      "margin": null,
      "max_height": null,
      "max_width": null,
      "min_height": null,
      "min_width": null,
      "object_fit": null,
      "object_position": null,
      "order": null,
      "overflow": null,
      "overflow_x": null,
      "overflow_y": null,
      "padding": null,
      "right": null,
      "top": null,
      "visibility": null,
      "width": null
     }
    },
    "947fc13f72cc464e9a231637bdb6e76c": {
     "model_module": "@jupyter-widgets/controls",
     "model_module_version": "1.5.0",
     "model_name": "DescriptionStyleModel",
     "state": {
      "_model_module": "@jupyter-widgets/controls",
      "_model_module_version": "1.5.0",
      "_model_name": "DescriptionStyleModel",
      "_view_count": null,
      "_view_module": "@jupyter-widgets/base",
      "_view_module_version": "1.2.0",
      "_view_name": "StyleView",
      "description_width": ""
     }
    },
    "96242ea193d84f749d69fb8548ca14ae": {
     "model_module": "@jupyter-widgets/base",
     "model_module_version": "1.2.0",
     "model_name": "LayoutModel",
     "state": {
      "_model_module": "@jupyter-widgets/base",
      "_model_module_version": "1.2.0",
      "_model_name": "LayoutModel",
      "_view_count": null,
      "_view_module": "@jupyter-widgets/base",
      "_view_module_version": "1.2.0",
      "_view_name": "LayoutView",
      "align_content": null,
      "align_items": null,
      "align_self": null,
      "border": null,
      "bottom": null,
      "display": null,
      "flex": null,
      "flex_flow": null,
      "grid_area": null,
      "grid_auto_columns": null,
      "grid_auto_flow": null,
      "grid_auto_rows": null,
      "grid_column": null,
      "grid_gap": null,
      "grid_row": null,
      "grid_template_areas": null,
      "grid_template_columns": null,
      "grid_template_rows": null,
      "height": null,
      "justify_content": null,
      "justify_items": null,
      "left": null,
      "margin": null,
      "max_height": null,
      "max_width": null,
      "min_height": null,
      "min_width": null,
      "object_fit": null,
      "object_position": null,
      "order": null,
      "overflow": null,
      "overflow_x": null,
      "overflow_y": null,
      "padding": null,
      "right": null,
      "top": null,
      "visibility": null,
      "width": null
     }
    },
    "990de591b15a4a309437be81a2109765": {
     "model_module": "@jupyter-widgets/base",
     "model_module_version": "1.2.0",
     "model_name": "LayoutModel",
     "state": {
      "_model_module": "@jupyter-widgets/base",
      "_model_module_version": "1.2.0",
      "_model_name": "LayoutModel",
      "_view_count": null,
      "_view_module": "@jupyter-widgets/base",
      "_view_module_version": "1.2.0",
      "_view_name": "LayoutView",
      "align_content": null,
      "align_items": null,
      "align_self": null,
      "border": null,
      "bottom": null,
      "display": null,
      "flex": null,
      "flex_flow": null,
      "grid_area": null,
      "grid_auto_columns": null,
      "grid_auto_flow": null,
      "grid_auto_rows": null,
      "grid_column": null,
      "grid_gap": null,
      "grid_row": null,
      "grid_template_areas": null,
      "grid_template_columns": null,
      "grid_template_rows": null,
      "height": null,
      "justify_content": null,
      "justify_items": null,
      "left": null,
      "margin": null,
      "max_height": null,
      "max_width": null,
      "min_height": null,
      "min_width": null,
      "object_fit": null,
      "object_position": null,
      "order": null,
      "overflow": null,
      "overflow_x": null,
      "overflow_y": null,
      "padding": null,
      "right": null,
      "top": null,
      "visibility": null,
      "width": null
     }
    },
    "9e0cc85a99624c55a88642a3bb071e05": {
     "model_module": "@jupyter-widgets/controls",
     "model_module_version": "1.5.0",
     "model_name": "DescriptionStyleModel",
     "state": {
      "_model_module": "@jupyter-widgets/controls",
      "_model_module_version": "1.5.0",
      "_model_name": "DescriptionStyleModel",
      "_view_count": null,
      "_view_module": "@jupyter-widgets/base",
      "_view_module_version": "1.2.0",
      "_view_name": "StyleView",
      "description_width": ""
     }
    },
    "9f5134aa048e4d8ea3bec7b860f0efc8": {
     "model_module": "@jupyter-widgets/controls",
     "model_module_version": "1.5.0",
     "model_name": "HTMLModel",
     "state": {
      "_dom_classes": [],
      "_model_module": "@jupyter-widgets/controls",
      "_model_module_version": "1.5.0",
      "_model_name": "HTMLModel",
      "_view_count": null,
      "_view_module": "@jupyter-widgets/controls",
      "_view_module_version": "1.5.0",
      "_view_name": "HTMLView",
      "description": "",
      "description_tooltip": null,
      "layout": "IPY_MODEL_d160eee486be496682d1cb0c807401df",
      "placeholder": "​",
      "style": "IPY_MODEL_bb00397c91cd45c783e9e6d977300f47",
      "value": " 39.0/39.0 [00:00&lt;00:00, 985B/s]"
     }
    },
    "a0053d3c30694333836afc9de5f8f13a": {
     "model_module": "@jupyter-widgets/controls",
     "model_module_version": "1.5.0",
     "model_name": "ProgressStyleModel",
     "state": {
      "_model_module": "@jupyter-widgets/controls",
      "_model_module_version": "1.5.0",
      "_model_name": "ProgressStyleModel",
      "_view_count": null,
      "_view_module": "@jupyter-widgets/base",
      "_view_module_version": "1.2.0",
      "_view_name": "StyleView",
      "bar_color": null,
      "description_width": ""
     }
    },
    "a36ebfba56224de49a2867ad32335d41": {
     "model_module": "@jupyter-widgets/controls",
     "model_module_version": "1.5.0",
     "model_name": "ProgressStyleModel",
     "state": {
      "_model_module": "@jupyter-widgets/controls",
      "_model_module_version": "1.5.0",
      "_model_name": "ProgressStyleModel",
      "_view_count": null,
      "_view_module": "@jupyter-widgets/base",
      "_view_module_version": "1.2.0",
      "_view_name": "StyleView",
      "bar_color": null,
      "description_width": ""
     }
    },
    "a3803a82d4a1453cb76b5e4aaee0c396": {
     "model_module": "@jupyter-widgets/controls",
     "model_module_version": "1.5.0",
     "model_name": "DescriptionStyleModel",
     "state": {
      "_model_module": "@jupyter-widgets/controls",
      "_model_module_version": "1.5.0",
      "_model_name": "DescriptionStyleModel",
      "_view_count": null,
      "_view_module": "@jupyter-widgets/base",
      "_view_module_version": "1.2.0",
      "_view_name": "StyleView",
      "description_width": ""
     }
    },
    "a5fa71551f104398ac9123884f113fe7": {
     "model_module": "@jupyter-widgets/controls",
     "model_module_version": "1.5.0",
     "model_name": "HTMLModel",
     "state": {
      "_dom_classes": [],
      "_model_module": "@jupyter-widgets/controls",
      "_model_module_version": "1.5.0",
      "_model_name": "HTMLModel",
      "_view_count": null,
      "_view_module": "@jupyter-widgets/controls",
      "_view_module_version": "1.5.0",
      "_view_name": "HTMLView",
      "description": "",
      "description_tooltip": null,
      "layout": "IPY_MODEL_990de591b15a4a309437be81a2109765",
      "placeholder": "​",
      "style": "IPY_MODEL_a3803a82d4a1453cb76b5e4aaee0c396",
      "value": "Downloading: 100%"
     }
    },
    "a8024ba84ad94ae49711373335589223": {
     "model_module": "@jupyter-widgets/base",
     "model_module_version": "1.2.0",
     "model_name": "LayoutModel",
     "state": {
      "_model_module": "@jupyter-widgets/base",
      "_model_module_version": "1.2.0",
      "_model_name": "LayoutModel",
      "_view_count": null,
      "_view_module": "@jupyter-widgets/base",
      "_view_module_version": "1.2.0",
      "_view_name": "LayoutView",
      "align_content": null,
      "align_items": null,
      "align_self": null,
      "border": null,
      "bottom": null,
      "display": null,
      "flex": null,
      "flex_flow": null,
      "grid_area": null,
      "grid_auto_columns": null,
      "grid_auto_flow": null,
      "grid_auto_rows": null,
      "grid_column": null,
      "grid_gap": null,
      "grid_row": null,
      "grid_template_areas": null,
      "grid_template_columns": null,
      "grid_template_rows": null,
      "height": null,
      "justify_content": null,
      "justify_items": null,
      "left": null,
      "margin": null,
      "max_height": null,
      "max_width": null,
      "min_height": null,
      "min_width": null,
      "object_fit": null,
      "object_position": null,
      "order": null,
      "overflow": null,
      "overflow_x": null,
      "overflow_y": null,
      "padding": null,
      "right": null,
      "top": null,
      "visibility": null,
      "width": null
     }
    },
    "a88faa06a90046cb9c25758b80d2daca": {
     "model_module": "@jupyter-widgets/controls",
     "model_module_version": "1.5.0",
     "model_name": "DescriptionStyleModel",
     "state": {
      "_model_module": "@jupyter-widgets/controls",
      "_model_module_version": "1.5.0",
      "_model_name": "DescriptionStyleModel",
      "_view_count": null,
      "_view_module": "@jupyter-widgets/base",
      "_view_module_version": "1.2.0",
      "_view_name": "StyleView",
      "description_width": ""
     }
    },
    "ab3aa2f69f3d474d8bbd908e5e27a226": {
     "model_module": "@jupyter-widgets/base",
     "model_module_version": "1.2.0",
     "model_name": "LayoutModel",
     "state": {
      "_model_module": "@jupyter-widgets/base",
      "_model_module_version": "1.2.0",
      "_model_name": "LayoutModel",
      "_view_count": null,
      "_view_module": "@jupyter-widgets/base",
      "_view_module_version": "1.2.0",
      "_view_name": "LayoutView",
      "align_content": null,
      "align_items": null,
      "align_self": null,
      "border": null,
      "bottom": null,
      "display": null,
      "flex": null,
      "flex_flow": null,
      "grid_area": null,
      "grid_auto_columns": null,
      "grid_auto_flow": null,
      "grid_auto_rows": null,
      "grid_column": null,
      "grid_gap": null,
      "grid_row": null,
      "grid_template_areas": null,
      "grid_template_columns": null,
      "grid_template_rows": null,
      "height": null,
      "justify_content": null,
      "justify_items": null,
      "left": null,
      "margin": null,
      "max_height": null,
      "max_width": null,
      "min_height": null,
      "min_width": null,
      "object_fit": null,
      "object_position": null,
      "order": null,
      "overflow": null,
      "overflow_x": null,
      "overflow_y": null,
      "padding": null,
      "right": null,
      "top": null,
      "visibility": null,
      "width": null
     }
    },
    "aeb026611d884bb9bb53c1048623b3a0": {
     "model_module": "@jupyter-widgets/controls",
     "model_module_version": "1.5.0",
     "model_name": "HBoxModel",
     "state": {
      "_dom_classes": [],
      "_model_module": "@jupyter-widgets/controls",
      "_model_module_version": "1.5.0",
      "_model_name": "HBoxModel",
      "_view_count": null,
      "_view_module": "@jupyter-widgets/controls",
      "_view_module_version": "1.5.0",
      "_view_name": "HBoxView",
      "box_style": "",
      "children": [
       "IPY_MODEL_a5fa71551f104398ac9123884f113fe7",
       "IPY_MODEL_847bd0f583e94124ba6f6d889823492c",
       "IPY_MODEL_b17f5fe4b99d4171bb3f7a738a47ad5d"
      ],
      "layout": "IPY_MODEL_ee2f0e534d1c4aebb7907a718954803f"
     }
    },
    "b17f5fe4b99d4171bb3f7a738a47ad5d": {
     "model_module": "@jupyter-widgets/controls",
     "model_module_version": "1.5.0",
     "model_name": "HTMLModel",
     "state": {
      "_dom_classes": [],
      "_model_module": "@jupyter-widgets/controls",
      "_model_module_version": "1.5.0",
      "_model_name": "HTMLModel",
      "_view_count": null,
      "_view_module": "@jupyter-widgets/controls",
      "_view_module_version": "1.5.0",
      "_view_name": "HTMLView",
      "description": "",
      "description_tooltip": null,
      "layout": "IPY_MODEL_4645eeaa9d6446ff8c89e7a470afcb98",
      "placeholder": "​",
      "style": "IPY_MODEL_a88faa06a90046cb9c25758b80d2daca",
      "value": " 872k/872k [00:00&lt;00:00, 1.52MB/s]"
     }
    },
    "b23e04a0504141f490ba13a13a01dc3f": {
     "model_module": "@jupyter-widgets/base",
     "model_module_version": "1.2.0",
     "model_name": "LayoutModel",
     "state": {
      "_model_module": "@jupyter-widgets/base",
      "_model_module_version": "1.2.0",
      "_model_name": "LayoutModel",
      "_view_count": null,
      "_view_module": "@jupyter-widgets/base",
      "_view_module_version": "1.2.0",
      "_view_name": "LayoutView",
      "align_content": null,
      "align_items": null,
      "align_self": null,
      "border": null,
      "bottom": null,
      "display": null,
      "flex": null,
      "flex_flow": null,
      "grid_area": null,
      "grid_auto_columns": null,
      "grid_auto_flow": null,
      "grid_auto_rows": null,
      "grid_column": null,
      "grid_gap": null,
      "grid_row": null,
      "grid_template_areas": null,
      "grid_template_columns": null,
      "grid_template_rows": null,
      "height": null,
      "justify_content": null,
      "justify_items": null,
      "left": null,
      "margin": null,
      "max_height": null,
      "max_width": null,
      "min_height": null,
      "min_width": null,
      "object_fit": null,
      "object_position": null,
      "order": null,
      "overflow": null,
      "overflow_x": null,
      "overflow_y": null,
      "padding": null,
      "right": null,
      "top": null,
      "visibility": null,
      "width": null
     }
    },
    "b29070e672f448bbbcc26c07e37a17f9": {
     "model_module": "@jupyter-widgets/controls",
     "model_module_version": "1.5.0",
     "model_name": "DescriptionStyleModel",
     "state": {
      "_model_module": "@jupyter-widgets/controls",
      "_model_module_version": "1.5.0",
      "_model_name": "DescriptionStyleModel",
      "_view_count": null,
      "_view_module": "@jupyter-widgets/base",
      "_view_module_version": "1.2.0",
      "_view_name": "StyleView",
      "description_width": ""
     }
    },
    "b9956b096dfb42fda9057f3a430a04f7": {
     "model_module": "@jupyter-widgets/base",
     "model_module_version": "1.2.0",
     "model_name": "LayoutModel",
     "state": {
      "_model_module": "@jupyter-widgets/base",
      "_model_module_version": "1.2.0",
      "_model_name": "LayoutModel",
      "_view_count": null,
      "_view_module": "@jupyter-widgets/base",
      "_view_module_version": "1.2.0",
      "_view_name": "LayoutView",
      "align_content": null,
      "align_items": null,
      "align_self": null,
      "border": null,
      "bottom": null,
      "display": null,
      "flex": null,
      "flex_flow": null,
      "grid_area": null,
      "grid_auto_columns": null,
      "grid_auto_flow": null,
      "grid_auto_rows": null,
      "grid_column": null,
      "grid_gap": null,
      "grid_row": null,
      "grid_template_areas": null,
      "grid_template_columns": null,
      "grid_template_rows": null,
      "height": null,
      "justify_content": null,
      "justify_items": null,
      "left": null,
      "margin": null,
      "max_height": null,
      "max_width": null,
      "min_height": null,
      "min_width": null,
      "object_fit": null,
      "object_position": null,
      "order": null,
      "overflow": null,
      "overflow_x": null,
      "overflow_y": null,
      "padding": null,
      "right": null,
      "top": null,
      "visibility": null,
      "width": null
     }
    },
    "bb00397c91cd45c783e9e6d977300f47": {
     "model_module": "@jupyter-widgets/controls",
     "model_module_version": "1.5.0",
     "model_name": "DescriptionStyleModel",
     "state": {
      "_model_module": "@jupyter-widgets/controls",
      "_model_module_version": "1.5.0",
      "_model_name": "DescriptionStyleModel",
      "_view_count": null,
      "_view_module": "@jupyter-widgets/base",
      "_view_module_version": "1.2.0",
      "_view_name": "StyleView",
      "description_width": ""
     }
    },
    "bc208e790dea4a0aa4cb85232edc163c": {
     "model_module": "@jupyter-widgets/controls",
     "model_module_version": "1.5.0",
     "model_name": "FloatProgressModel",
     "state": {
      "_dom_classes": [],
      "_model_module": "@jupyter-widgets/controls",
      "_model_module_version": "1.5.0",
      "_model_name": "FloatProgressModel",
      "_view_count": null,
      "_view_module": "@jupyter-widgets/controls",
      "_view_module_version": "1.5.0",
      "_view_name": "ProgressView",
      "bar_style": "success",
      "description": "",
      "description_tooltip": null,
      "layout": "IPY_MODEL_fc7acb8ad9e046a78913348dd415e1e4",
      "max": 669491321,
      "min": 0,
      "orientation": "horizontal",
      "style": "IPY_MODEL_a0053d3c30694333836afc9de5f8f13a",
      "value": 669491321
     }
    },
    "c16082b9958642bf832a2fce6b858e78": {
     "model_module": "@jupyter-widgets/controls",
     "model_module_version": "1.5.0",
     "model_name": "FloatProgressModel",
     "state": {
      "_dom_classes": [],
      "_model_module": "@jupyter-widgets/controls",
      "_model_module_version": "1.5.0",
      "_model_name": "FloatProgressModel",
      "_view_count": null,
      "_view_module": "@jupyter-widgets/controls",
      "_view_module_version": "1.5.0",
      "_view_name": "ProgressView",
      "bar_style": "success",
      "description": "",
      "description_tooltip": null,
      "layout": "IPY_MODEL_b23e04a0504141f490ba13a13a01dc3f",
      "max": 17000,
      "min": 0,
      "orientation": "horizontal",
      "style": "IPY_MODEL_5578ba393eca46c88609625630972ae5",
      "value": 17000
     }
    },
    "c2ba2a58d67e46b385fa9bf66ca9195f": {
     "model_module": "@jupyter-widgets/base",
     "model_module_version": "1.2.0",
     "model_name": "LayoutModel",
     "state": {
      "_model_module": "@jupyter-widgets/base",
      "_model_module_version": "1.2.0",
      "_model_name": "LayoutModel",
      "_view_count": null,
      "_view_module": "@jupyter-widgets/base",
      "_view_module_version": "1.2.0",
      "_view_name": "LayoutView",
      "align_content": null,
      "align_items": null,
      "align_self": null,
      "border": null,
      "bottom": null,
      "display": null,
      "flex": null,
      "flex_flow": null,
      "grid_area": null,
      "grid_auto_columns": null,
      "grid_auto_flow": null,
      "grid_auto_rows": null,
      "grid_column": null,
      "grid_gap": null,
      "grid_row": null,
      "grid_template_areas": null,
      "grid_template_columns": null,
      "grid_template_rows": null,
      "height": null,
      "justify_content": null,
      "justify_items": null,
      "left": null,
      "margin": null,
      "max_height": null,
      "max_width": null,
      "min_height": null,
      "min_width": null,
      "object_fit": null,
      "object_position": null,
      "order": null,
      "overflow": null,
      "overflow_x": null,
      "overflow_y": null,
      "padding": null,
      "right": null,
      "top": null,
      "visibility": null,
      "width": null
     }
    },
    "c2c4a29cd0a14f5cbd6f239c2eeb021d": {
     "model_module": "@jupyter-widgets/base",
     "model_module_version": "1.2.0",
     "model_name": "LayoutModel",
     "state": {
      "_model_module": "@jupyter-widgets/base",
      "_model_module_version": "1.2.0",
      "_model_name": "LayoutModel",
      "_view_count": null,
      "_view_module": "@jupyter-widgets/base",
      "_view_module_version": "1.2.0",
      "_view_name": "LayoutView",
      "align_content": null,
      "align_items": null,
      "align_self": null,
      "border": null,
      "bottom": null,
      "display": null,
      "flex": null,
      "flex_flow": null,
      "grid_area": null,
      "grid_auto_columns": null,
      "grid_auto_flow": null,
      "grid_auto_rows": null,
      "grid_column": null,
      "grid_gap": null,
      "grid_row": null,
      "grid_template_areas": null,
      "grid_template_columns": null,
      "grid_template_rows": null,
      "height": null,
      "justify_content": null,
      "justify_items": null,
      "left": null,
      "margin": null,
      "max_height": null,
      "max_width": null,
      "min_height": null,
      "min_width": null,
      "object_fit": null,
      "object_position": null,
      "order": null,
      "overflow": null,
      "overflow_x": null,
      "overflow_y": null,
      "padding": null,
      "right": null,
      "top": null,
      "visibility": null,
      "width": null
     }
    },
    "c710a41a01074dbc8a0f4b94f6121a58": {
     "model_module": "@jupyter-widgets/controls",
     "model_module_version": "1.5.0",
     "model_name": "DescriptionStyleModel",
     "state": {
      "_model_module": "@jupyter-widgets/controls",
      "_model_module_version": "1.5.0",
      "_model_name": "DescriptionStyleModel",
      "_view_count": null,
      "_view_module": "@jupyter-widgets/base",
      "_view_module_version": "1.2.0",
      "_view_name": "StyleView",
      "description_width": ""
     }
    },
    "cad8e02a2f6446afb59b016b508632f1": {
     "model_module": "@jupyter-widgets/base",
     "model_module_version": "1.2.0",
     "model_name": "LayoutModel",
     "state": {
      "_model_module": "@jupyter-widgets/base",
      "_model_module_version": "1.2.0",
      "_model_name": "LayoutModel",
      "_view_count": null,
      "_view_module": "@jupyter-widgets/base",
      "_view_module_version": "1.2.0",
      "_view_name": "LayoutView",
      "align_content": null,
      "align_items": null,
      "align_self": null,
      "border": null,
      "bottom": null,
      "display": null,
      "flex": null,
      "flex_flow": null,
      "grid_area": null,
      "grid_auto_columns": null,
      "grid_auto_flow": null,
      "grid_auto_rows": null,
      "grid_column": null,
      "grid_gap": null,
      "grid_row": null,
      "grid_template_areas": null,
      "grid_template_columns": null,
      "grid_template_rows": null,
      "height": null,
      "justify_content": null,
      "justify_items": null,
      "left": null,
      "margin": null,
      "max_height": null,
      "max_width": null,
      "min_height": null,
      "min_width": null,
      "object_fit": null,
      "object_position": null,
      "order": null,
      "overflow": null,
      "overflow_x": null,
      "overflow_y": null,
      "padding": null,
      "right": null,
      "top": null,
      "visibility": null,
      "width": null
     }
    },
    "cb976717145d43468f0c3488c5b842c1": {
     "model_module": "@jupyter-widgets/controls",
     "model_module_version": "1.5.0",
     "model_name": "DescriptionStyleModel",
     "state": {
      "_model_module": "@jupyter-widgets/controls",
      "_model_module_version": "1.5.0",
      "_model_name": "DescriptionStyleModel",
      "_view_count": null,
      "_view_module": "@jupyter-widgets/base",
      "_view_module_version": "1.2.0",
      "_view_name": "StyleView",
      "description_width": ""
     }
    },
    "cc2312d6967140e6bc3cbb8d3b6fecab": {
     "model_module": "@jupyter-widgets/base",
     "model_module_version": "1.2.0",
     "model_name": "LayoutModel",
     "state": {
      "_model_module": "@jupyter-widgets/base",
      "_model_module_version": "1.2.0",
      "_model_name": "LayoutModel",
      "_view_count": null,
      "_view_module": "@jupyter-widgets/base",
      "_view_module_version": "1.2.0",
      "_view_name": "LayoutView",
      "align_content": null,
      "align_items": null,
      "align_self": null,
      "border": null,
      "bottom": null,
      "display": null,
      "flex": null,
      "flex_flow": null,
      "grid_area": null,
      "grid_auto_columns": null,
      "grid_auto_flow": null,
      "grid_auto_rows": null,
      "grid_column": null,
      "grid_gap": null,
      "grid_row": null,
      "grid_template_areas": null,
      "grid_template_columns": null,
      "grid_template_rows": null,
      "height": null,
      "justify_content": null,
      "justify_items": null,
      "left": null,
      "margin": null,
      "max_height": null,
      "max_width": null,
      "min_height": null,
      "min_width": null,
      "object_fit": null,
      "object_position": null,
      "order": null,
      "overflow": null,
      "overflow_x": null,
      "overflow_y": null,
      "padding": null,
      "right": null,
      "top": null,
      "visibility": null,
      "width": null
     }
    },
    "cdcacdb316fb49b5bfe6e89701dc408b": {
     "model_module": "@jupyter-widgets/base",
     "model_module_version": "1.2.0",
     "model_name": "LayoutModel",
     "state": {
      "_model_module": "@jupyter-widgets/base",
      "_model_module_version": "1.2.0",
      "_model_name": "LayoutModel",
      "_view_count": null,
      "_view_module": "@jupyter-widgets/base",
      "_view_module_version": "1.2.0",
      "_view_name": "LayoutView",
      "align_content": null,
      "align_items": null,
      "align_self": null,
      "border": null,
      "bottom": null,
      "display": null,
      "flex": null,
      "flex_flow": null,
      "grid_area": null,
      "grid_auto_columns": null,
      "grid_auto_flow": null,
      "grid_auto_rows": null,
      "grid_column": null,
      "grid_gap": null,
      "grid_row": null,
      "grid_template_areas": null,
      "grid_template_columns": null,
      "grid_template_rows": null,
      "height": null,
      "justify_content": null,
      "justify_items": null,
      "left": null,
      "margin": null,
      "max_height": null,
      "max_width": null,
      "min_height": null,
      "min_width": null,
      "object_fit": null,
      "object_position": null,
      "order": null,
      "overflow": null,
      "overflow_x": null,
      "overflow_y": null,
      "padding": null,
      "right": null,
      "top": null,
      "visibility": null,
      "width": null
     }
    },
    "cf091171bb7a4801929ab91fdb64d875": {
     "model_module": "@jupyter-widgets/base",
     "model_module_version": "1.2.0",
     "model_name": "LayoutModel",
     "state": {
      "_model_module": "@jupyter-widgets/base",
      "_model_module_version": "1.2.0",
      "_model_name": "LayoutModel",
      "_view_count": null,
      "_view_module": "@jupyter-widgets/base",
      "_view_module_version": "1.2.0",
      "_view_name": "LayoutView",
      "align_content": null,
      "align_items": null,
      "align_self": null,
      "border": null,
      "bottom": null,
      "display": null,
      "flex": null,
      "flex_flow": null,
      "grid_area": null,
      "grid_auto_columns": null,
      "grid_auto_flow": null,
      "grid_auto_rows": null,
      "grid_column": null,
      "grid_gap": null,
      "grid_row": null,
      "grid_template_areas": null,
      "grid_template_columns": null,
      "grid_template_rows": null,
      "height": null,
      "justify_content": null,
      "justify_items": null,
      "left": null,
      "margin": null,
      "max_height": null,
      "max_width": null,
      "min_height": null,
      "min_width": null,
      "object_fit": null,
      "object_position": null,
      "order": null,
      "overflow": null,
      "overflow_x": null,
      "overflow_y": null,
      "padding": null,
      "right": null,
      "top": null,
      "visibility": null,
      "width": null
     }
    },
    "d160eee486be496682d1cb0c807401df": {
     "model_module": "@jupyter-widgets/base",
     "model_module_version": "1.2.0",
     "model_name": "LayoutModel",
     "state": {
      "_model_module": "@jupyter-widgets/base",
      "_model_module_version": "1.2.0",
      "_model_name": "LayoutModel",
      "_view_count": null,
      "_view_module": "@jupyter-widgets/base",
      "_view_module_version": "1.2.0",
      "_view_name": "LayoutView",
      "align_content": null,
      "align_items": null,
      "align_self": null,
      "border": null,
      "bottom": null,
      "display": null,
      "flex": null,
      "flex_flow": null,
      "grid_area": null,
      "grid_auto_columns": null,
      "grid_auto_flow": null,
      "grid_auto_rows": null,
      "grid_column": null,
      "grid_gap": null,
      "grid_row": null,
      "grid_template_areas": null,
      "grid_template_columns": null,
      "grid_template_rows": null,
      "height": null,
      "justify_content": null,
      "justify_items": null,
      "left": null,
      "margin": null,
      "max_height": null,
      "max_width": null,
      "min_height": null,
      "min_width": null,
      "object_fit": null,
      "object_position": null,
      "order": null,
      "overflow": null,
      "overflow_x": null,
      "overflow_y": null,
      "padding": null,
      "right": null,
      "top": null,
      "visibility": null,
      "width": null
     }
    },
    "d26e131225bf4f37bc001c210ae77133": {
     "model_module": "@jupyter-widgets/controls",
     "model_module_version": "1.5.0",
     "model_name": "DescriptionStyleModel",
     "state": {
      "_model_module": "@jupyter-widgets/controls",
      "_model_module_version": "1.5.0",
      "_model_name": "DescriptionStyleModel",
      "_view_count": null,
      "_view_module": "@jupyter-widgets/base",
      "_view_module_version": "1.2.0",
      "_view_name": "StyleView",
      "description_width": ""
     }
    },
    "e09ea9a2e7794cf7a7f526b6d487fcad": {
     "model_module": "@jupyter-widgets/controls",
     "model_module_version": "1.5.0",
     "model_name": "FloatProgressModel",
     "state": {
      "_dom_classes": [],
      "_model_module": "@jupyter-widgets/controls",
      "_model_module_version": "1.5.0",
      "_model_name": "FloatProgressModel",
      "_view_count": null,
      "_view_module": "@jupyter-widgets/controls",
      "_view_module_version": "1.5.0",
      "_view_name": "ProgressView",
      "bar_style": "success",
      "description": "",
      "description_tooltip": null,
      "layout": "IPY_MODEL_96242ea193d84f749d69fb8548ca14ae",
      "max": 500,
      "min": 0,
      "orientation": "horizontal",
      "style": "IPY_MODEL_2dc9f8d2f1374458b7775a7b018c474c",
      "value": 500
     }
    },
    "e163c006ae08495793429fe747136d93": {
     "model_module": "@jupyter-widgets/controls",
     "model_module_version": "1.5.0",
     "model_name": "HBoxModel",
     "state": {
      "_dom_classes": [],
      "_model_module": "@jupyter-widgets/controls",
      "_model_module_version": "1.5.0",
      "_model_name": "HBoxModel",
      "_view_count": null,
      "_view_module": "@jupyter-widgets/controls",
      "_view_module_version": "1.5.0",
      "_view_name": "HBoxView",
      "box_style": "",
      "children": [
       "IPY_MODEL_4f7ddeb6f69d424c8e0c6dffcabefce5",
       "IPY_MODEL_3cc755abe42e4a42bcabe7d7a006f7a4",
       "IPY_MODEL_7ca6fa51080949d0a869330d4c426075"
      ],
      "layout": "IPY_MODEL_6b5dc09fa0aa4cd5ae0412e4c3b96dd3"
     }
    },
    "e179867f06be4a2f8fe662cb5afb0a23": {
     "model_module": "@jupyter-widgets/base",
     "model_module_version": "1.2.0",
     "model_name": "LayoutModel",
     "state": {
      "_model_module": "@jupyter-widgets/base",
      "_model_module_version": "1.2.0",
      "_model_name": "LayoutModel",
      "_view_count": null,
      "_view_module": "@jupyter-widgets/base",
      "_view_module_version": "1.2.0",
      "_view_name": "LayoutView",
      "align_content": null,
      "align_items": null,
      "align_self": null,
      "border": null,
      "bottom": null,
      "display": null,
      "flex": null,
      "flex_flow": null,
      "grid_area": null,
      "grid_auto_columns": null,
      "grid_auto_flow": null,
      "grid_auto_rows": null,
      "grid_column": null,
      "grid_gap": null,
      "grid_row": null,
      "grid_template_areas": null,
      "grid_template_columns": null,
      "grid_template_rows": null,
      "height": null,
      "justify_content": null,
      "justify_items": null,
      "left": null,
      "margin": null,
      "max_height": null,
      "max_width": null,
      "min_height": null,
      "min_width": null,
      "object_fit": null,
      "object_position": null,
      "order": null,
      "overflow": null,
      "overflow_x": null,
      "overflow_y": null,
      "padding": null,
      "right": null,
      "top": null,
      "visibility": null,
      "width": null
     }
    },
    "e5d6de5d5633402992cb472e5f27563c": {
     "model_module": "@jupyter-widgets/controls",
     "model_module_version": "1.5.0",
     "model_name": "HTMLModel",
     "state": {
      "_dom_classes": [],
      "_model_module": "@jupyter-widgets/controls",
      "_model_module_version": "1.5.0",
      "_model_name": "HTMLModel",
      "_view_count": null,
      "_view_module": "@jupyter-widgets/controls",
      "_view_module_version": "1.5.0",
      "_view_name": "HTMLView",
      "description": "",
      "description_tooltip": null,
      "layout": "IPY_MODEL_8f6c5bcdb9fc406794b77558891438bc",
      "placeholder": "​",
      "style": "IPY_MODEL_2a1a3aac211a44d393f10a68d34172b4",
      "value": " 112/112 [00:00&lt;00:00, 2.02kB/s]"
     }
    },
    "e68c7f872e5e40f6b848b96a129830fb": {
     "model_module": "@jupyter-widgets/controls",
     "model_module_version": "1.5.0",
     "model_name": "DescriptionStyleModel",
     "state": {
      "_model_module": "@jupyter-widgets/controls",
      "_model_module_version": "1.5.0",
      "_model_name": "DescriptionStyleModel",
      "_view_count": null,
      "_view_module": "@jupyter-widgets/base",
      "_view_module_version": "1.2.0",
      "_view_name": "StyleView",
      "description_width": ""
     }
    },
    "ea792bd604464de8a8b5cc8c1a356c71": {
     "model_module": "@jupyter-widgets/base",
     "model_module_version": "1.2.0",
     "model_name": "LayoutModel",
     "state": {
      "_model_module": "@jupyter-widgets/base",
      "_model_module_version": "1.2.0",
      "_model_name": "LayoutModel",
      "_view_count": null,
      "_view_module": "@jupyter-widgets/base",
      "_view_module_version": "1.2.0",
      "_view_name": "LayoutView",
      "align_content": null,
      "align_items": null,
      "align_self": null,
      "border": null,
      "bottom": null,
      "display": null,
      "flex": null,
      "flex_flow": null,
      "grid_area": null,
      "grid_auto_columns": null,
      "grid_auto_flow": null,
      "grid_auto_rows": null,
      "grid_column": null,
      "grid_gap": null,
      "grid_row": null,
      "grid_template_areas": null,
      "grid_template_columns": null,
      "grid_template_rows": null,
      "height": null,
      "justify_content": null,
      "justify_items": null,
      "left": null,
      "margin": null,
      "max_height": null,
      "max_width": null,
      "min_height": null,
      "min_width": null,
      "object_fit": null,
      "object_position": null,
      "order": null,
      "overflow": null,
      "overflow_x": null,
      "overflow_y": null,
      "padding": null,
      "right": null,
      "top": null,
      "visibility": null,
      "width": null
     }
    },
    "ebfab4eb00dc4923b428a7d21e6c6c77": {
     "model_module": "@jupyter-widgets/base",
     "model_module_version": "1.2.0",
     "model_name": "LayoutModel",
     "state": {
      "_model_module": "@jupyter-widgets/base",
      "_model_module_version": "1.2.0",
      "_model_name": "LayoutModel",
      "_view_count": null,
      "_view_module": "@jupyter-widgets/base",
      "_view_module_version": "1.2.0",
      "_view_name": "LayoutView",
      "align_content": null,
      "align_items": null,
      "align_self": null,
      "border": null,
      "bottom": null,
      "display": null,
      "flex": null,
      "flex_flow": null,
      "grid_area": null,
      "grid_auto_columns": null,
      "grid_auto_flow": null,
      "grid_auto_rows": null,
      "grid_column": null,
      "grid_gap": null,
      "grid_row": null,
      "grid_template_areas": null,
      "grid_template_columns": null,
      "grid_template_rows": null,
      "height": null,
      "justify_content": null,
      "justify_items": null,
      "left": null,
      "margin": null,
      "max_height": null,
      "max_width": null,
      "min_height": null,
      "min_width": null,
      "object_fit": null,
      "object_position": null,
      "order": null,
      "overflow": null,
      "overflow_x": null,
      "overflow_y": null,
      "padding": null,
      "right": null,
      "top": null,
      "visibility": null,
      "width": null
     }
    },
    "ec26102afc2c4fe08336928b9e893df8": {
     "model_module": "@jupyter-widgets/base",
     "model_module_version": "1.2.0",
     "model_name": "LayoutModel",
     "state": {
      "_model_module": "@jupyter-widgets/base",
      "_model_module_version": "1.2.0",
      "_model_name": "LayoutModel",
      "_view_count": null,
      "_view_module": "@jupyter-widgets/base",
      "_view_module_version": "1.2.0",
      "_view_name": "LayoutView",
      "align_content": null,
      "align_items": null,
      "align_self": null,
      "border": null,
      "bottom": null,
      "display": null,
      "flex": null,
      "flex_flow": null,
      "grid_area": null,
      "grid_auto_columns": null,
      "grid_auto_flow": null,
      "grid_auto_rows": null,
      "grid_column": null,
      "grid_gap": null,
      "grid_row": null,
      "grid_template_areas": null,
      "grid_template_columns": null,
      "grid_template_rows": null,
      "height": null,
      "justify_content": null,
      "justify_items": null,
      "left": null,
      "margin": null,
      "max_height": null,
      "max_width": null,
      "min_height": null,
      "min_width": null,
      "object_fit": null,
      "object_position": null,
      "order": null,
      "overflow": null,
      "overflow_x": null,
      "overflow_y": null,
      "padding": null,
      "right": null,
      "top": null,
      "visibility": null,
      "width": null
     }
    },
    "ed40854ab6884dbbaf189ce4e442404c": {
     "model_module": "@jupyter-widgets/controls",
     "model_module_version": "1.5.0",
     "model_name": "ProgressStyleModel",
     "state": {
      "_model_module": "@jupyter-widgets/controls",
      "_model_module_version": "1.5.0",
      "_model_name": "ProgressStyleModel",
      "_view_count": null,
      "_view_module": "@jupyter-widgets/base",
      "_view_module_version": "1.2.0",
      "_view_name": "StyleView",
      "bar_color": null,
      "description_width": ""
     }
    },
    "ee2f0e534d1c4aebb7907a718954803f": {
     "model_module": "@jupyter-widgets/base",
     "model_module_version": "1.2.0",
     "model_name": "LayoutModel",
     "state": {
      "_model_module": "@jupyter-widgets/base",
      "_model_module_version": "1.2.0",
      "_model_name": "LayoutModel",
      "_view_count": null,
      "_view_module": "@jupyter-widgets/base",
      "_view_module_version": "1.2.0",
      "_view_name": "LayoutView",
      "align_content": null,
      "align_items": null,
      "align_self": null,
      "border": null,
      "bottom": null,
      "display": null,
      "flex": null,
      "flex_flow": null,
      "grid_area": null,
      "grid_auto_columns": null,
      "grid_auto_flow": null,
      "grid_auto_rows": null,
      "grid_column": null,
      "grid_gap": null,
      "grid_row": null,
      "grid_template_areas": null,
      "grid_template_columns": null,
      "grid_template_rows": null,
      "height": null,
      "justify_content": null,
      "justify_items": null,
      "left": null,
      "margin": null,
      "max_height": null,
      "max_width": null,
      "min_height": null,
      "min_width": null,
      "object_fit": null,
      "object_position": null,
      "order": null,
      "overflow": null,
      "overflow_x": null,
      "overflow_y": null,
      "padding": null,
      "right": null,
      "top": null,
      "visibility": null,
      "width": null
     }
    },
    "ef462b09644b45ceaf80fc2d0786bf13": {
     "model_module": "@jupyter-widgets/controls",
     "model_module_version": "1.5.0",
     "model_name": "HTMLModel",
     "state": {
      "_dom_classes": [],
      "_model_module": "@jupyter-widgets/controls",
      "_model_module_version": "1.5.0",
      "_model_name": "HTMLModel",
      "_view_count": null,
      "_view_module": "@jupyter-widgets/controls",
      "_view_module_version": "1.5.0",
      "_view_name": "HTMLView",
      "description": "",
      "description_tooltip": null,
      "layout": "IPY_MODEL_b9956b096dfb42fda9057f3a430a04f7",
      "placeholder": "​",
      "style": "IPY_MODEL_cb976717145d43468f0c3488c5b842c1",
      "value": " 500/500 [02:46&lt;00:00,  2.18it/s]"
     }
    },
    "f7277390403245729ae2dadc2b1a05ad": {
     "model_module": "@jupyter-widgets/base",
     "model_module_version": "1.2.0",
     "model_name": "LayoutModel",
     "state": {
      "_model_module": "@jupyter-widgets/base",
      "_model_module_version": "1.2.0",
      "_model_name": "LayoutModel",
      "_view_count": null,
      "_view_module": "@jupyter-widgets/base",
      "_view_module_version": "1.2.0",
      "_view_name": "LayoutView",
      "align_content": null,
      "align_items": null,
      "align_self": null,
      "border": null,
      "bottom": null,
      "display": null,
      "flex": null,
      "flex_flow": null,
      "grid_area": null,
      "grid_auto_columns": null,
      "grid_auto_flow": null,
      "grid_auto_rows": null,
      "grid_column": null,
      "grid_gap": null,
      "grid_row": null,
      "grid_template_areas": null,
      "grid_template_columns": null,
      "grid_template_rows": null,
      "height": null,
      "justify_content": null,
      "justify_items": null,
      "left": null,
      "margin": null,
      "max_height": null,
      "max_width": null,
      "min_height": null,
      "min_width": null,
      "object_fit": null,
      "object_position": null,
      "order": null,
      "overflow": null,
      "overflow_x": null,
      "overflow_y": null,
      "padding": null,
      "right": null,
      "top": null,
      "visibility": null,
      "width": null
     }
    },
    "f93489683849481280912c4df369123e": {
     "model_module": "@jupyter-widgets/controls",
     "model_module_version": "1.5.0",
     "model_name": "HTMLModel",
     "state": {
      "_dom_classes": [],
      "_model_module": "@jupyter-widgets/controls",
      "_model_module_version": "1.5.0",
      "_model_name": "HTMLModel",
      "_view_count": null,
      "_view_module": "@jupyter-widgets/controls",
      "_view_module_version": "1.5.0",
      "_view_name": "HTMLView",
      "description": "",
      "description_tooltip": null,
      "layout": "IPY_MODEL_ea792bd604464de8a8b5cc8c1a356c71",
      "placeholder": "​",
      "style": "IPY_MODEL_83c0aff01c37433bafc87694439995ea",
      "value": "Downloading: 100%"
     }
    },
    "fc7acb8ad9e046a78913348dd415e1e4": {
     "model_module": "@jupyter-widgets/base",
     "model_module_version": "1.2.0",
     "model_name": "LayoutModel",
     "state": {
      "_model_module": "@jupyter-widgets/base",
      "_model_module_version": "1.2.0",
      "_model_name": "LayoutModel",
      "_view_count": null,
      "_view_module": "@jupyter-widgets/base",
      "_view_module_version": "1.2.0",
      "_view_name": "LayoutView",
      "align_content": null,
      "align_items": null,
      "align_self": null,
      "border": null,
      "bottom": null,
      "display": null,
      "flex": null,
      "flex_flow": null,
      "grid_area": null,
      "grid_auto_columns": null,
      "grid_auto_flow": null,
      "grid_auto_rows": null,
      "grid_column": null,
      "grid_gap": null,
      "grid_row": null,
      "grid_template_areas": null,
      "grid_template_columns": null,
      "grid_template_rows": null,
      "height": null,
      "justify_content": null,
      "justify_items": null,
      "left": null,
      "margin": null,
      "max_height": null,
      "max_width": null,
      "min_height": null,
      "min_width": null,
      "object_fit": null,
      "object_position": null,
      "order": null,
      "overflow": null,
      "overflow_x": null,
      "overflow_y": null,
      "padding": null,
      "right": null,
      "top": null,
      "visibility": null,
      "width": null
     }
    },
    "fefcb508b9ba47e8b0bac4a3c08af2f5": {
     "model_module": "@jupyter-widgets/controls",
     "model_module_version": "1.5.0",
     "model_name": "HBoxModel",
     "state": {
      "_dom_classes": [],
      "_model_module": "@jupyter-widgets/controls",
      "_model_module_version": "1.5.0",
      "_model_name": "HBoxModel",
      "_view_count": null,
      "_view_module": "@jupyter-widgets/controls",
      "_view_module_version": "1.5.0",
      "_view_name": "HBoxView",
      "box_style": "",
      "children": [
       "IPY_MODEL_5d48b6542e394c3fb29f0c321098056e",
       "IPY_MODEL_1646eca0254e4e0686850cd4f30dd768",
       "IPY_MODEL_40f08d6ac9a844bd9b6422fce38c0fc6"
      ],
      "layout": "IPY_MODEL_76d88fbd34d14d079bac9243fc41e3cc"
     }
    },
    "fefd3bd8d9174a7bac32cf76c2c1854c": {
     "model_module": "@jupyter-widgets/controls",
     "model_module_version": "1.5.0",
     "model_name": "HBoxModel",
     "state": {
      "_dom_classes": [],
      "_model_module": "@jupyter-widgets/controls",
      "_model_module_version": "1.5.0",
      "_model_name": "HBoxModel",
      "_view_count": null,
      "_view_module": "@jupyter-widgets/controls",
      "_view_module_version": "1.5.0",
      "_view_name": "HBoxView",
      "box_style": "",
      "children": [
       "IPY_MODEL_3d15b835f8c74d7c90c9fb1f134cfa43",
       "IPY_MODEL_e09ea9a2e7794cf7a7f526b6d487fcad",
       "IPY_MODEL_ef462b09644b45ceaf80fc2d0786bf13"
      ],
      "layout": "IPY_MODEL_42d1c9b6df0d4368a92887a4c0fc81e7"
     }
    }
   }
  }
 },
 "nbformat": 4,
 "nbformat_minor": 5
}
