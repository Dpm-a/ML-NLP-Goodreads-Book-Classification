{
  "cells": [
    {
      "cell_type": "code",
      "execution_count": null,
      "id": "NfNcaMpPcGH4",
      "metadata": {
        "colab": {
          "base_uri": "https://localhost:8080/"
        },
        "id": "NfNcaMpPcGH4",
        "outputId": "1e2a5929-d368-45c4-c24b-f4e60126dcb9"
      },
      "outputs": [
        {
          "output_type": "stream",
          "name": "stdout",
          "text": [
            "Mounted at /content/drive\n"
          ]
        }
      ],
      "source": [
        "from google.colab import drive\n",
        "drive.mount('/content/drive')"
      ]
    },
    {
      "cell_type": "code",
      "execution_count": null,
      "id": "839b3ed4-1890-45ae-b101-ff309db00fc1",
      "metadata": {
        "id": "839b3ed4-1890-45ae-b101-ff309db00fc1"
      },
      "outputs": [],
      "source": [
        "# !pip install transformers"
      ]
    },
    {
      "cell_type": "code",
      "execution_count": 4,
      "id": "b73c77c7-a3a6-498b-acc1-585d2217dffb",
      "metadata": {
        "id": "b73c77c7-a3a6-498b-acc1-585d2217dffb"
      },
      "outputs": [],
      "source": [
        "import json\n",
        "import torch\n",
        "import itertools\n",
        "import pandas as pd\n",
        "import numpy as np\n",
        "\n",
        "import warnings\n",
        "warnings.filterwarnings('ignore')\n",
        "warnings.simplefilter('ignore')\n",
        "\n",
        "import matplotlib\n",
        "matplotlib.use('Agg')\n",
        "import matplotlib.pyplot as plt\n",
        "import seaborn as sns\n",
        "sns.set()\n",
        "\n",
        "from tqdm import trange\n",
        "from tqdm.notebook import tqdm\n",
        "from torch.utils.data import (TensorDataset, DataLoader,\n",
        "                              RandomSampler, SequentialSampler)\n",
        "\n",
        "from transformers import BertTokenizer, BertConfig\n",
        "from transformers import BertForSequenceClassification\n",
        "from transformers import AdamW, get_linear_schedule_with_warmup\n",
        "\n",
        "from sklearn.metrics import f1_score as f1\n",
        "from sklearn.model_selection import train_test_split\n",
        "from sklearn.metrics import confusion_matrix, classification_report"
      ]
    },
    {
      "cell_type": "code",
      "execution_count": 5,
      "id": "3f0c3d0f-8942-40bd-b5cd-5c73b47406d0",
      "metadata": {
        "id": "3f0c3d0f-8942-40bd-b5cd-5c73b47406d0"
      },
      "outputs": [],
      "source": [
        "def check_for_gpu():\n",
        "    if torch.cuda.is_available():       \n",
        "        device = torch.device(\"cuda\")\n",
        "        print(f'There are {torch.cuda.device_count()} GPU(s) available.')\n",
        "        print('We will use the GPU:', torch.cuda.get_device_name(0))\n",
        "    else:\n",
        "        print('No GPU available, using the CPU instead.')\n",
        "        device = torch.device(\"cpu\")\n",
        "    return device"
      ]
    },
    {
      "cell_type": "code",
      "execution_count": 6,
      "id": "dfa06d2e-08a5-41fa-879c-b1ba0714a934",
      "metadata": {
        "colab": {
          "base_uri": "https://localhost:8080/"
        },
        "id": "dfa06d2e-08a5-41fa-879c-b1ba0714a934",
        "outputId": "f29f73e7-eb99-4162-ede7-6a8fb852e0c5"
      },
      "outputs": [
        {
          "output_type": "stream",
          "name": "stdout",
          "text": [
            "There are 1 GPU(s) available.\n",
            "We will use the GPU: Tesla T4\n"
          ]
        },
        {
          "output_type": "execute_result",
          "data": {
            "text/plain": [
              "device(type='cuda')"
            ]
          },
          "metadata": {},
          "execution_count": 6
        }
      ],
      "source": [
        "device = check_for_gpu()\n",
        "device"
      ]
    },
    {
      "cell_type": "markdown",
      "id": "b5a8e2d5-efa3-49eb-a397-61d372f1b5aa",
      "metadata": {
        "id": "b5a8e2d5-efa3-49eb-a397-61d372f1b5aa"
      },
      "source": [
        "# Importing Train/Test sets"
      ]
    },
    {
      "cell_type": "code",
      "execution_count": null,
      "id": "a24b21ea-472c-4d96-8ad4-0a93a84e6d7d",
      "metadata": {
        "id": "a24b21ea-472c-4d96-8ad4-0a93a84e6d7d"
      },
      "outputs": [],
      "source": [
        "train_df = pd.read_csv(\"/content/drive/MyDrive/training_set_05_12.csv\", \n",
        "                       usecols=[\"review_text\", \"genre\"]).dropna().reset_index(drop=True)"
      ]
    },
    {
      "cell_type": "code",
      "execution_count": null,
      "id": "TFyi2cc9yi8X",
      "metadata": {
        "colab": {
          "base_uri": "https://localhost:8080/"
        },
        "id": "TFyi2cc9yi8X",
        "outputId": "91f8327d-7e6d-453b-e2fe-d8d140067ad7"
      },
      "outputs": [
        {
          "output_type": "execute_result",
          "data": {
            "text/plain": [
              "Art                2000\n",
              "Fiction            2000\n",
              "Mystery            2000\n",
              "NonFiction         2000\n",
              "Romance            2000\n",
              "Science Fiction    2000\n",
              "Name: genre, dtype: int64"
            ]
          },
          "metadata": {},
          "execution_count": 7
        }
      ],
      "source": [
        "train_df.genre.value_counts()"
      ]
    },
    {
      "cell_type": "code",
      "execution_count": null,
      "id": "uGeKAN0Uv5YH",
      "metadata": {
        "id": "uGeKAN0Uv5YH"
      },
      "outputs": [],
      "source": [
        "test_df = pd.read_csv(\"/content/drive/MyDrive/test_set_preprocessed.csv\", \n",
        "                      usecols=[\"review_text\", \"genre\"]).dropna().reset_index(drop=True)"
      ]
    },
    {
      "cell_type": "code",
      "execution_count": null,
      "id": "3c20d605-78b0-4aff-aaa1-f258ef3f1bd9",
      "metadata": {
        "id": "3c20d605-78b0-4aff-aaa1-f258ef3f1bd9"
      },
      "outputs": [],
      "source": [
        "x_train = [row for row in train_df[\"review_text\"]]\n",
        "y_train = [row for row in train_df[\"genre\"]]\n",
        "\n",
        "x_test = [row for row in test_df[\"review_text\"]]\n",
        "y_test = [row for row in test_df[\"genre\"]]"
      ]
    },
    {
      "cell_type": "code",
      "execution_count": null,
      "id": "ed208c19-2200-49ec-a223-9f3dc93a73bf",
      "metadata": {
        "colab": {
          "base_uri": "https://localhost:8080/"
        },
        "id": "ed208c19-2200-49ec-a223-9f3dc93a73bf",
        "outputId": "39a86c33-d973-4cf2-e0f6-43a55bbd00ae"
      },
      "outputs": [
        {
          "output_type": "execute_result",
          "data": {
            "text/plain": [
              "(12000, 12000, 373300, 373300)"
            ]
          },
          "metadata": {},
          "execution_count": 89
        }
      ],
      "source": [
        "len(x_train),len(y_train),len(x_test),len(y_test)"
      ]
    },
    {
      "cell_type": "code",
      "execution_count": null,
      "id": "ucgmwVk1qGrF",
      "metadata": {
        "colab": {
          "base_uri": "https://localhost:8080/"
        },
        "id": "ucgmwVk1qGrF",
        "outputId": "027803a8-e91d-4624-fb16-c7b4080bee4a"
      },
      "outputs": [
        {
          "output_type": "execute_result",
          "data": {
            "text/plain": [
              "Art                2000\n",
              "Fiction            2000\n",
              "Mystery            2000\n",
              "NonFiction         2000\n",
              "Romance            2000\n",
              "Science Fiction    2000\n",
              "Name: genre, dtype: int64"
            ]
          },
          "metadata": {},
          "execution_count": 90
        }
      ],
      "source": [
        "train_df.genre.value_counts()"
      ]
    },
    {
      "cell_type": "code",
      "execution_count": null,
      "id": "dGhDpxqLrjrR",
      "metadata": {
        "colab": {
          "base_uri": "https://localhost:8080/"
        },
        "id": "dGhDpxqLrjrR",
        "outputId": "ef9cd669-289b-4169-ec21-4d54832f84d7"
      },
      "outputs": [
        {
          "output_type": "execute_result",
          "data": {
            "text/plain": [
              "Fiction            213931\n",
              "Romance             77884\n",
              "Mystery             26909\n",
              "NonFiction          24121\n",
              "Science Fiction     17822\n",
              "Art                 12633\n",
              "Name: genre, dtype: int64"
            ]
          },
          "metadata": {},
          "execution_count": 91
        }
      ],
      "source": [
        "test_df.genre.value_counts()"
      ]
    },
    {
      "cell_type": "markdown",
      "id": "646515e4-3c43-4ef2-a857-8cf51fb2f8b4",
      "metadata": {
        "id": "646515e4-3c43-4ef2-a857-8cf51fb2f8b4"
      },
      "source": [
        "### Labelling y_train/y_test"
      ]
    },
    {
      "cell_type": "code",
      "execution_count": null,
      "id": "691b8bea-7612-4521-96bc-6e67bbdcece3",
      "metadata": {
        "colab": {
          "base_uri": "https://localhost:8080/"
        },
        "id": "691b8bea-7612-4521-96bc-6e67bbdcece3",
        "outputId": "a7d8490b-95dd-4897-96d1-e4bbc65d20bf"
      },
      "outputs": [
        {
          "output_type": "stream",
          "name": "stdout",
          "text": [
            "['Art' 'Fiction' 'Mystery' 'NonFiction' 'Romance' 'Science Fiction']\n"
          ]
        },
        {
          "output_type": "execute_result",
          "data": {
            "text/plain": [
              "array([1, 1, 1, ..., 4, 1, 1])"
            ]
          },
          "metadata": {},
          "execution_count": 92
        }
      ],
      "source": [
        "from sklearn import preprocessing\n",
        "le = preprocessing.LabelEncoder()\n",
        "\n",
        "le.fit(y_train)\n",
        "print(le.classes_)\n",
        "\n",
        "y_train = le.transform(y_train)\n",
        "y_test = le.transform(y_test)\n",
        "\n",
        "y_test"
      ]
    },
    {
      "cell_type": "markdown",
      "id": "5447f4d3-be2a-4f33-a4bf-9d34a0258261",
      "metadata": {
        "id": "5447f4d3-be2a-4f33-a4bf-9d34a0258261"
      },
      "source": [
        "# Transformer Inizialization"
      ]
    },
    {
      "cell_type": "code",
      "execution_count": null,
      "id": "14d307bd-e68a-462d-a512-a515813e2157",
      "metadata": {
        "id": "14d307bd-e68a-462d-a512-a515813e2157"
      },
      "outputs": [],
      "source": [
        "from transformers import BertTokenizer\n",
        "\n",
        "# Load the BERT tokenizer.\n",
        "tokenizer = BertTokenizer.from_pretrained('bert-base-uncased', do_lower_case=True)"
      ]
    },
    {
      "cell_type": "code",
      "execution_count": null,
      "id": "fd7fabd6-e19e-4aaf-937c-fab458572801",
      "metadata": {
        "id": "fd7fabd6-e19e-4aaf-937c-fab458572801"
      },
      "outputs": [],
      "source": [
        "# # Print the original sentence.\n",
        "# print(' Original: \\n', x_train[0],\"\\n\")\n",
        "\n",
        "# # Print the sentence split into tokens.\n",
        "# print('Tokenized: \\n', tokenizer.tokenize(x_train[0]),\"\\n\")\n",
        "\n",
        "# # Print the sentence mapped to token ids.\n",
        "# print('Token IDs: \\n', tokenizer.convert_tokens_to_ids(tokenizer.tokenize(x_train[0])))"
      ]
    },
    {
      "cell_type": "markdown",
      "id": "08fa115c-edce-4fce-b486-d61862936822",
      "metadata": {
        "id": "08fa115c-edce-4fce-b486-d61862936822"
      },
      "source": [
        "#### BERT Requirements:\n",
        "- Add special tokens at the beginning and the end of each Tokenized text: `[CLS]` and `[SEP]`\n",
        "- Set token lenght to a fixed amount\n",
        "- Make artificial token explicit with the attention mask"
      ]
    },
    {
      "cell_type": "code",
      "execution_count": null,
      "id": "56bf5687-43ba-4760-adba-2aa789e83f80",
      "metadata": {
        "id": "56bf5687-43ba-4760-adba-2aa789e83f80"
      },
      "outputs": [],
      "source": [
        "def ids_attention_masks(_input: list, MAX_LEN:int = 100) -> (list,list):\n",
        "    \n",
        "    \"\"\" Tokenizes text with '[CLS]' and '[SEP]' tokens and creates relatives masks \"\"\"\n",
        "    \n",
        "    input_ids = []\n",
        "    attention_masks = []\n",
        "    \n",
        "    for review in tqdm(_input):\n",
        "        encoded_dict = tokenizer.encode_plus(\n",
        "                            review,                        # Review to encode.\n",
        "                            add_special_tokens = True,     # Add '[CLS]' and '[SEP]'\n",
        "                            max_length = MAX_LEN,          # Pad & truncate all sentences.\n",
        "                            pad_to_max_length = True,      # (padding = \"max_length\" dives error later on)\n",
        "                            return_attention_mask = True,  # Construct attention masks.\n",
        "                            return_tensors = 'pt')         # Return pytorch tensors.\n",
        "            \n",
        "        input_ids.append(encoded_dict['input_ids'])\n",
        "        attention_masks.append(encoded_dict['attention_mask'])\n",
        "    return input_ids, attention_masks"
      ]
    },
    {
      "cell_type": "code",
      "execution_count": null,
      "id": "417279e8-1615-4e94-b239-fe49f6ca5574",
      "metadata": {
        "id": "417279e8-1615-4e94-b239-fe49f6ca5574"
      },
      "outputs": [],
      "source": [
        "def splitting_train_val_with_masks(ids_train: list, amasks_train: list, labels_train: list):\n",
        "\n",
        "    \"\"\" Return splitted Train_set and Validation_set with relatives masks\"\"\"\n",
        "    \n",
        "    (train_inputs, validation_inputs,\n",
        "     train_labels, validation_labels) = train_test_split(ids_train, labels_train,\n",
        "                                                         random_state=42,\n",
        "                                                         test_size=0.20)\n",
        "    (train_masks, validation_masks,\n",
        "     _, _) = train_test_split(amasks_train, ids_train,\n",
        "                              random_state=42, test_size=0.20)\n",
        "     \n",
        "    return train_inputs, train_labels, validation_inputs, validation_labels, train_masks, validation_masks"
      ]
    },
    {
      "cell_type": "code",
      "execution_count": null,
      "id": "03862cd7-aad3-4e6b-8953-26ab5b4e95ea",
      "metadata": {
        "id": "03862cd7-aad3-4e6b-8953-26ab5b4e95ea"
      },
      "outputs": [],
      "source": [
        "def to_tensor(*args) -> tuple:\n",
        "    \"\"\" Transforms multiple dim. lists and 1 dim. arrays to tensors \"\"\"\n",
        "    return tuple( torch.cat(el, dim=0) if type(el) == list else torch.tensor(el) for el in args  )"
      ]
    },
    {
      "cell_type": "code",
      "execution_count": null,
      "id": "85b1572d-7d39-4a04-ab20-80e720b50621",
      "metadata": {
        "colab": {
          "base_uri": "https://localhost:8080/",
          "height": 86,
          "referenced_widgets": [
            "c6284a338d8b4404bed5de5ae78d9eba",
            "0efe4266e74b4d38a7accf204d3cf86d",
            "cdac04573c184d2ea154918b1b9b4a2a",
            "eddfc338afdb4e1290ce6637d8cb90b7",
            "1bbb3244ea77445d980d44b88985df8f",
            "1ada4a2d486442d49e6e9356946da409",
            "1ff51863c8fa42d983fde12893b57f27",
            "8eb3b572e48a41db89f453583c646416",
            "edf8e90bdfb44538884941817991426f",
            "4ad3d22a255f48ceb13f55c3058ddbf0",
            "d73b4c24e874402f9a792d11cafe6b9e"
          ]
        },
        "id": "85b1572d-7d39-4a04-ab20-80e720b50621",
        "outputId": "f78ed3fe-5097-4b0e-8dfb-72d0dcbd29da"
      },
      "outputs": [
        {
          "output_type": "display_data",
          "data": {
            "text/plain": [
              "  0%|          | 0/12000 [00:00<?, ?it/s]"
            ],
            "application/vnd.jupyter.widget-view+json": {
              "version_major": 2,
              "version_minor": 0,
              "model_id": "c6284a338d8b4404bed5de5ae78d9eba"
            }
          },
          "metadata": {}
        },
        {
          "output_type": "stream",
          "name": "stderr",
          "text": [
            "Truncation was not explicitly activated but `max_length` is provided a specific value, please use `truncation=True` to explicitly truncate examples to max length. Defaulting to 'longest_first' truncation strategy. If you encode pairs of sequences (GLUE-style) with the tokenizer you can select this strategy more precisely by providing a specific strategy to `truncation`.\n"
          ]
        }
      ],
      "source": [
        "input_ids_train, attention_masks_train = ids_attention_masks(x_train)"
      ]
    },
    {
      "cell_type": "code",
      "execution_count": null,
      "id": "e34f3843-253f-4911-9f4c-966b39ea00f3",
      "metadata": {
        "colab": {
          "base_uri": "https://localhost:8080/",
          "height": 86,
          "referenced_widgets": [
            "88132799da8c4825bf97461ffdff9e33",
            "58d3baa411dd48b9b17286a11d6d374c",
            "563d0c1671e947ef9efe59dad6a3d6d5",
            "f047abbe0d5e41c09f58a520786facdc",
            "b8d4c054f76a4dbeb6ce5bec7f1a549f",
            "ce2a83d504ac4740938ac379656cc2be",
            "4601a4d6abd248bbb2e55c3a2c6dcd6f",
            "fbe55caedd0441d7a0c19c2837265aa2",
            "7e5e76d1452d4dacb1eeddda733ccf6b",
            "d0d6fc9926ff43339b008317a0c575d0",
            "4d861a5395a6453ca5c5c0b44e612a65"
          ]
        },
        "id": "e34f3843-253f-4911-9f4c-966b39ea00f3",
        "outputId": "507e0428-6c92-4397-ee6a-c32a28f4cfc3"
      },
      "outputs": [
        {
          "output_type": "display_data",
          "data": {
            "text/plain": [
              "  0%|          | 0/373300 [00:00<?, ?it/s]"
            ],
            "application/vnd.jupyter.widget-view+json": {
              "version_major": 2,
              "version_minor": 0,
              "model_id": "88132799da8c4825bf97461ffdff9e33"
            }
          },
          "metadata": {}
        },
        {
          "output_type": "stream",
          "name": "stderr",
          "text": [
            "Truncation was not explicitly activated but `max_length` is provided a specific value, please use `truncation=True` to explicitly truncate examples to max length. Defaulting to 'longest_first' truncation strategy. If you encode pairs of sequences (GLUE-style) with the tokenizer you can select this strategy more precisely by providing a specific strategy to `truncation`.\n"
          ]
        }
      ],
      "source": [
        "input_ids_test, attention_masks_test = ids_attention_masks(x_test)"
      ]
    },
    {
      "cell_type": "code",
      "execution_count": null,
      "id": "023a4373-fb70-448e-85f8-e6edf78f73e2",
      "metadata": {
        "colab": {
          "base_uri": "https://localhost:8080/"
        },
        "id": "023a4373-fb70-448e-85f8-e6edf78f73e2",
        "outputId": "f6836f11-ed1d-4d81-8d3f-29457b8ec9ff"
      },
      "outputs": [
        {
          "output_type": "execute_result",
          "data": {
            "text/plain": [
              "(12000, 12000, 12000)"
            ]
          },
          "metadata": {},
          "execution_count": 99
        }
      ],
      "source": [
        "len(input_ids_train), len(attention_masks_train), len(y_train)"
      ]
    },
    {
      "cell_type": "markdown",
      "id": "ca735b64-1bc3-4be2-ae3e-a780e3fbc34e",
      "metadata": {
        "id": "ca735b64-1bc3-4be2-ae3e-a780e3fbc34e"
      },
      "source": [
        "## Spitting Training to train/Validation"
      ]
    },
    {
      "cell_type": "markdown",
      "id": "150add5f-0dce-4e6b-808e-35c0c6e9e0a9",
      "metadata": {
        "id": "150add5f-0dce-4e6b-808e-35c0c6e9e0a9"
      },
      "source": [
        "***Retrieving Validation Inputs, Masks and Labels***"
      ]
    },
    {
      "cell_type": "code",
      "execution_count": null,
      "id": "2qr4hqmVorMg",
      "metadata": {
        "id": "2qr4hqmVorMg"
      },
      "outputs": [],
      "source": [
        "(train_inputs, \n",
        "train_labels, \n",
        "val_inputs, \n",
        "val_labels, \n",
        "train_masks, \n",
        "val_masks) = splitting_train_val_with_masks(input_ids_train, attention_masks_train, y_train)"
      ]
    },
    {
      "cell_type": "markdown",
      "id": "38b1c79b-16ad-4d0a-b06f-788459aa986f",
      "metadata": {
        "id": "38b1c79b-16ad-4d0a-b06f-788459aa986f"
      },
      "source": [
        "***Converting lists to Tensors***"
      ]
    },
    {
      "cell_type": "code",
      "execution_count": null,
      "id": "d20010d9-10e9-4edf-9a0d-09e36091bb36",
      "metadata": {
        "id": "d20010d9-10e9-4edf-9a0d-09e36091bb36"
      },
      "outputs": [],
      "source": [
        "# Convert the lists into tensors.\n",
        "train_inputs, train_masks, train_labels = to_tensor(train_inputs, train_masks, train_labels)\n",
        "\n",
        "validation_inputs, validation_masks, validation_labels = to_tensor(val_inputs, val_masks, val_labels)\n",
        "\n",
        "test_inputs, test_masks, test_labels = to_tensor(input_ids_test, attention_masks_test, y_test)"
      ]
    },
    {
      "cell_type": "code",
      "execution_count": null,
      "id": "BJC-G1fK1Vmj",
      "metadata": {
        "colab": {
          "base_uri": "https://localhost:8080/"
        },
        "id": "BJC-G1fK1Vmj",
        "outputId": "873f5ffd-bcfb-4e00-e1a7-34ae51a81f9f"
      },
      "outputs": [
        {
          "output_type": "execute_result",
          "data": {
            "text/plain": [
              "(9600, 9600, 9600)"
            ]
          },
          "metadata": {},
          "execution_count": 102
        }
      ],
      "source": [
        "len(train_inputs), len(train_masks), len(train_labels)"
      ]
    },
    {
      "cell_type": "markdown",
      "id": "6c152ac1-12be-46c0-8097-4d38957a3172",
      "metadata": {
        "id": "6c152ac1-12be-46c0-8097-4d38957a3172"
      },
      "source": [
        "# Tensor Dataset"
      ]
    },
    {
      "cell_type": "code",
      "execution_count": null,
      "id": "bfb2ebea-3fa7-449c-b203-dfb4fae32af4",
      "metadata": {
        "id": "bfb2ebea-3fa7-449c-b203-dfb4fae32af4"
      },
      "outputs": [],
      "source": [
        "#creating iterator od the dataset\n",
        "from torch.utils.data import DataLoader, RandomSampler, SequentialSampler\n",
        "batch_size = 32\n",
        "\n",
        "train_data = TensorDataset(train_inputs, train_masks, train_labels)\n",
        "train_sampler = RandomSampler(train_data)\n",
        "train_dataloader = DataLoader(train_data, sampler=train_sampler, batch_size=batch_size) #CPU to GPU\n",
        "\n",
        "validation_data = TensorDataset(validation_inputs, validation_masks, validation_labels)\n",
        "validation_sampler = SequentialSampler(validation_data)\n",
        "validation_dataloader = DataLoader(validation_data, sampler=validation_sampler, batch_size=batch_size)"
      ]
    },
    {
      "cell_type": "code",
      "execution_count": null,
      "id": "5N1mHUjy5uy8",
      "metadata": {
        "colab": {
          "base_uri": "https://localhost:8080/"
        },
        "id": "5N1mHUjy5uy8",
        "outputId": "18128fb8-3a03-4270-f907-58b4d25d0fac"
      },
      "outputs": [
        {
          "output_type": "stream",
          "name": "stdout",
          "text": [
            "Train_set: \t9600 reviews \n",
            "Val_set: \t2400 reviews \n",
            "Test_data: \t373300 reviews\n"
          ]
        }
      ],
      "source": [
        "test_data = TensorDataset(test_inputs, test_masks, test_labels)\n",
        "test_sampler = SequentialSampler(test_data)\n",
        "test_dataloader = DataLoader(test_data, sampler=test_sampler, batch_size=batch_size)\n",
        "\n",
        "\n",
        "print(f\"Train_set: \\t{len(train_data)} reviews \\n\" +\n",
        "      f\"Val_set: \\t{len(validation_data)} reviews \\n\" +\n",
        "      f\"Test_data: \\t{len(test_data)} reviews\")"
      ]
    },
    {
      "cell_type": "markdown",
      "id": "27f8e1fc-e9d2-4a74-b724-5348e8ba7056",
      "metadata": {
        "id": "27f8e1fc-e9d2-4a74-b724-5348e8ba7056"
      },
      "source": [
        "# BERT"
      ]
    },
    {
      "cell_type": "code",
      "execution_count": null,
      "id": "7226f012-9d34-4343-b3fb-d8cb6042a033",
      "metadata": {
        "collapsed": true,
        "id": "7226f012-9d34-4343-b3fb-d8cb6042a033",
        "jupyter": {
          "outputs_hidden": true
        },
        "tags": []
      },
      "outputs": [],
      "source": [
        "from transformers import BertForSequenceClassification, AdamW, BertConfig\n",
        "\n",
        "model_name = \"bert-base-uncased\"\n",
        "bert_BU_model = BertForSequenceClassification.from_pretrained(model_name, num_labels= len(le.classes_))\n",
        "\n",
        "# Make it run on GPU\n",
        "bert_BU_model.cuda()"
      ]
    },
    {
      "cell_type": "markdown",
      "id": "fc26e4e3-156f-44e1-bbc9-279fe9d37497",
      "metadata": {
        "id": "fc26e4e3-156f-44e1-bbc9-279fe9d37497"
      },
      "source": [
        "***Setting up Optimizer and Scheduler***"
      ]
    },
    {
      "cell_type": "code",
      "execution_count": null,
      "id": "fb55e83b-378f-44cf-9152-67a6d98f7d0f",
      "metadata": {
        "id": "fb55e83b-378f-44cf-9152-67a6d98f7d0f"
      },
      "outputs": [],
      "source": [
        "def get_optimizer_scheduler(model, epochs: int, weight_decay: float, learning_rate: float):\n",
        "    \"\"\" Returning optimizer and scheduler of the model for the current input Hyperparameters\"\"\"\n",
        "\n",
        "    warmup_steps = int(0.2*len(train_dataloader))\n",
        "    no_decay = ['bias', 'LayerNorm.weight']\n",
        "    optimizer_grouped_parameters = [\n",
        "                                    {'params': [tensor for parameter, tensor in model.named_parameters()\n",
        "                                                if not any(el in parameter for el in no_decay)],\n",
        "                                     'weight_decay': weight_decay},\n",
        "                                    {'params': [tensor for parameter, tensor in model.named_parameters()\n",
        "                                                if any(el in parameter for el in no_decay)],\n",
        "                                     'weight_decay': 0.0}\n",
        "                                    ]\n",
        "\n",
        "    optimizer = AdamW(optimizer_grouped_parameters, lr= learning_rate, eps= 1e-8, no_deprecation_warning=True)\n",
        "    scheduler = get_linear_schedule_with_warmup(optimizer, num_warmup_steps= warmup_steps,\n",
        "                                     num_training_steps =len(train_dataloader)*epochs)\n",
        "    return optimizer, scheduler"
      ]
    },
    {
      "cell_type": "code",
      "execution_count": null,
      "id": "8148177d-e1fd-4b15-81b0-825683e4a0b7",
      "metadata": {
        "id": "8148177d-e1fd-4b15-81b0-825683e4a0b7"
      },
      "outputs": [],
      "source": [
        "def train(model, optimizer, scheduler, epochs, loss_vector=None, log_interval=200):\n",
        "    # Set model to training mode\n",
        "    model.train()\n",
        "\n",
        "    total_train_loss = 0\n",
        "    # Loop over each batch from the training set\n",
        "    for step, batch in enumerate(train_dataloader):\n",
        "\n",
        "        batch = tuple(t.to(device) for t in batch)         # Copy data to GPU if needed\n",
        "        b_input_ids, b_input_mask, b_labels = batch        # Unpack the inputs from our dataloader\n",
        "        optimizer.zero_grad()                              # Zero gradient buffers\n",
        "\n",
        "        # Forward pass\n",
        "        outputs = model(b_input_ids, token_type_ids=None,\n",
        "                        attention_mask=b_input_mask, labels=b_labels)\n",
        "        \n",
        "        loss = outputs[0]\n",
        "        if loss_vector is not None: loss_vector.append(loss.item())\n",
        "        # total_train_loss += loss.item()\n",
        "\n",
        "        # Backward pass\n",
        "        loss.backward()\n",
        "\n",
        "        # Update weights\n",
        "        optimizer.step()\n",
        "        scheduler.step()\n",
        "\n",
        "        if step % log_interval == 0:\n",
        "            print(f'Train Epoch: {epochs} [{step * len(b_input_ids)}/{len(train_dataloader.dataset)}' +\n",
        "                  f'({100. * step / len(train_dataloader):.0f}%)]\\tLoss: {loss:.6f}')\n",
        "            \n",
        "    # if loss_vector is not None: loss_vector.append(total_train_loss / len(train_dataloader))\n",
        "\n",
        "\n",
        "\n",
        "def evaluate(model, loader, loss_vector=None):\n",
        "    model.eval()\n",
        "    n_correct, n_all = 0, 0\n",
        "    predicted_labels, true_labels = list(), list()\n",
        "    full_predictions, full_labels = np.array([]), np.array([])\n",
        "    \n",
        "    logits_res = []\n",
        "    for batch in loader:\n",
        "        \n",
        "        batch = tuple(t.to(device) for t in batch)\n",
        "        b_input_ids, b_input_mask, b_labels = batch\n",
        "\n",
        "        with torch.no_grad():\n",
        "            outputs = model(b_input_ids, \n",
        "                            token_type_ids=None,\n",
        "                            attention_mask=b_input_mask,\n",
        "                            labels=b_labels)\n",
        "\n",
        "        loss = outputs[0]\n",
        "        if loss_vector is not None: loss_vector.append(loss.item())\n",
        "\n",
        "        logits = outputs[1]\n",
        "        logits = logits.detach().cpu().numpy()\n",
        "        logits_res.append(logits)\n",
        "        predictions = np.argmax(logits, axis=1)\n",
        "\n",
        "        labels = b_labels.to('cpu').numpy()\n",
        "        n_correct += np.sum(predictions == labels)\n",
        "\n",
        "        true_labels.extend(labels)\n",
        "        predicted_labels.extend(predictions)\n",
        "\n",
        "        full_predictions = np.concatenate((full_predictions, predictions), axis=0)\n",
        "        full_labels = np.concatenate((full_labels, labels), axis=0)\n",
        "        n_all += len(labels)\n",
        "    \n",
        "    logits_res = [array for el in logits_res for array in el.tolist()]\n",
        "    f1_score = f1(full_labels, full_predictions, average=\"macro\")\n",
        "    # print(f'F1 Score: {f1_score:.4f}')\n",
        "    # print(f'Accuracy: [{n_correct}/{n_all}] {(n_correct/n_all):.4f}')\n",
        "    # print('Classification report:')\n",
        "    # print(classification_report(true_labels, predicted_labels))\n",
        "    # print('Confusion matrix:')\n",
        "    # cm = confusion_matrix(true_labels, predicted_labels)\n",
        "    # print(cm)\n",
        "    return f1_score, true_labels, predicted_labels, logits_res"
      ]
    },
    {
      "cell_type": "markdown",
      "id": "GiXjy6kLst9G",
      "metadata": {
        "id": "GiXjy6kLst9G"
      },
      "source": [
        "# Tuning"
      ]
    },
    {
      "cell_type": "code",
      "execution_count": null,
      "id": "9fc4881c-0a2a-46df-be22-3fcc8d84b650",
      "metadata": {
        "id": "9fc4881c-0a2a-46df-be22-3fcc8d84b650"
      },
      "outputs": [],
      "source": [
        "def hypter_param_selection(input_params: list, n_classes: int, validation_dataloader, model_name):\n",
        "    \n",
        "    \"\"\" \n",
        "    Hyper parameters tuning on Validation/Test set.\n",
        "    Returns a dict of best params\n",
        "    \"\"\"\n",
        "    \n",
        "    epochs = 4\n",
        "    params_list = input_params.keys()\n",
        "    res = dict()\n",
        "    \n",
        "    #cartesian product of the params\n",
        "    for param in itertools.product(*[param for param in input_params.values()]):\n",
        "        current_params_dict = dict(zip(params_list, param))\n",
        "        print(f\"Hyperparameters --> {current_params_dict}\")\n",
        "        \n",
        "        #initialize the model, retrieving Optimizer and Scheduler\n",
        "        model = BertForSequenceClassification.from_pretrained(model_name, num_labels = n_classes)   \n",
        "        model.cuda()\n",
        "        optimizer, scheduler = get_optimizer_scheduler(model, epochs, *current_params_dict.values())\n",
        "        \n",
        "        #training on validation\n",
        "        f1_mean = float(0)\n",
        "        for epoch in range(1, epochs + 1):\n",
        "            train(model, optimizer, scheduler, epoch)\n",
        "            f1_score, _, _, _  = evaluate(model, validation_dataloader)\n",
        "            f1_mean += f1_score\n",
        "        f1_mean /= epochs\n",
        "\n",
        "        res.update({str(current_params_dict) : f1_mean})          \n",
        "    return res"
      ]
    },
    {
      "cell_type": "code",
      "execution_count": null,
      "id": "e1a4b03a-e757-4598-a5b0-e0935961af17",
      "metadata": {
        "colab": {
          "base_uri": "https://localhost:8080/"
        },
        "id": "e1a4b03a-e757-4598-a5b0-e0935961af17",
        "jupyter": {
          "outputs_hidden": true
        },
        "outputId": "9cc22ea3-7f52-4de6-8e87-29995bcf7c0d",
        "tags": []
      },
      "outputs": [
        {
          "name": "stdout",
          "output_type": "stream",
          "text": [
            "Hyperparameters --> {'weight_decay': 0.01, 'lr': 2e-05}\n"
          ]
        },
        {
          "name": "stderr",
          "output_type": "stream",
          "text": [
            "Some weights of the model checkpoint at bert-base-uncased were not used when initializing BertForSequenceClassification: ['cls.predictions.transform.dense.bias', 'cls.seq_relationship.weight', 'cls.seq_relationship.bias', 'cls.predictions.decoder.weight', 'cls.predictions.bias', 'cls.predictions.transform.LayerNorm.weight', 'cls.predictions.transform.dense.weight', 'cls.predictions.transform.LayerNorm.bias']\n",
            "- This IS expected if you are initializing BertForSequenceClassification from the checkpoint of a model trained on another task or with another architecture (e.g. initializing a BertForSequenceClassification model from a BertForPreTraining model).\n",
            "- This IS NOT expected if you are initializing BertForSequenceClassification from the checkpoint of a model that you expect to be exactly identical (initializing a BertForSequenceClassification model from a BertForSequenceClassification model).\n",
            "Some weights of BertForSequenceClassification were not initialized from the model checkpoint at bert-base-uncased and are newly initialized: ['classifier.weight', 'classifier.bias']\n",
            "You should probably TRAIN this model on a down-stream task to be able to use it for predictions and inference.\n"
          ]
        },
        {
          "name": "stdout",
          "output_type": "stream",
          "text": [
            "Train Epoch: 1 [0/9600(0%)]\tLoss: 2.232619\n",
            "Train Epoch: 1 [6400/9600(67%)]\tLoss: 1.177053\n",
            "Train Epoch: 2 [0/9600(0%)]\tLoss: 1.087307\n",
            "Train Epoch: 2 [6400/9600(67%)]\tLoss: 0.695333\n",
            "Train Epoch: 3 [0/9600(0%)]\tLoss: 0.826209\n",
            "Train Epoch: 3 [6400/9600(67%)]\tLoss: 0.456161\n",
            "Train Epoch: 4 [0/9600(0%)]\tLoss: 0.598634\n",
            "Train Epoch: 4 [6400/9600(67%)]\tLoss: 0.302404\n",
            "Hyperparameters --> {'weight_decay': 0.01, 'lr': 3e-05}\n"
          ]
        },
        {
          "name": "stderr",
          "output_type": "stream",
          "text": [
            "Some weights of the model checkpoint at bert-base-uncased were not used when initializing BertForSequenceClassification: ['cls.predictions.transform.dense.bias', 'cls.seq_relationship.weight', 'cls.seq_relationship.bias', 'cls.predictions.decoder.weight', 'cls.predictions.bias', 'cls.predictions.transform.LayerNorm.weight', 'cls.predictions.transform.dense.weight', 'cls.predictions.transform.LayerNorm.bias']\n",
            "- This IS expected if you are initializing BertForSequenceClassification from the checkpoint of a model trained on another task or with another architecture (e.g. initializing a BertForSequenceClassification model from a BertForPreTraining model).\n",
            "- This IS NOT expected if you are initializing BertForSequenceClassification from the checkpoint of a model that you expect to be exactly identical (initializing a BertForSequenceClassification model from a BertForSequenceClassification model).\n",
            "Some weights of BertForSequenceClassification were not initialized from the model checkpoint at bert-base-uncased and are newly initialized: ['classifier.weight', 'classifier.bias']\n",
            "You should probably TRAIN this model on a down-stream task to be able to use it for predictions and inference.\n"
          ]
        },
        {
          "name": "stdout",
          "output_type": "stream",
          "text": [
            "Train Epoch: 1 [0/9600(0%)]\tLoss: 2.355973\n",
            "Train Epoch: 1 [6400/9600(67%)]\tLoss: 1.059198\n",
            "Train Epoch: 2 [0/9600(0%)]\tLoss: 0.722096\n",
            "Train Epoch: 2 [6400/9600(67%)]\tLoss: 0.547901\n",
            "Train Epoch: 3 [0/9600(0%)]\tLoss: 0.436388\n",
            "Train Epoch: 3 [6400/9600(67%)]\tLoss: 0.417493\n",
            "Train Epoch: 4 [0/9600(0%)]\tLoss: 0.304804\n",
            "Train Epoch: 4 [6400/9600(67%)]\tLoss: 0.303873\n",
            "Hyperparameters --> {'weight_decay': 0.01, 'lr': 4e-05}\n"
          ]
        },
        {
          "name": "stderr",
          "output_type": "stream",
          "text": [
            "Some weights of the model checkpoint at bert-base-uncased were not used when initializing BertForSequenceClassification: ['cls.predictions.transform.dense.bias', 'cls.seq_relationship.weight', 'cls.seq_relationship.bias', 'cls.predictions.decoder.weight', 'cls.predictions.bias', 'cls.predictions.transform.LayerNorm.weight', 'cls.predictions.transform.dense.weight', 'cls.predictions.transform.LayerNorm.bias']\n",
            "- This IS expected if you are initializing BertForSequenceClassification from the checkpoint of a model trained on another task or with another architecture (e.g. initializing a BertForSequenceClassification model from a BertForPreTraining model).\n",
            "- This IS NOT expected if you are initializing BertForSequenceClassification from the checkpoint of a model that you expect to be exactly identical (initializing a BertForSequenceClassification model from a BertForSequenceClassification model).\n",
            "Some weights of BertForSequenceClassification were not initialized from the model checkpoint at bert-base-uncased and are newly initialized: ['classifier.weight', 'classifier.bias']\n",
            "You should probably TRAIN this model on a down-stream task to be able to use it for predictions and inference.\n"
          ]
        },
        {
          "name": "stdout",
          "output_type": "stream",
          "text": [
            "Train Epoch: 1 [0/9600(0%)]\tLoss: 2.544617\n",
            "Train Epoch: 1 [6400/9600(67%)]\tLoss: 1.027846\n",
            "Train Epoch: 2 [0/9600(0%)]\tLoss: 1.053838\n",
            "Train Epoch: 2 [6400/9600(67%)]\tLoss: 0.889036\n",
            "Train Epoch: 3 [0/9600(0%)]\tLoss: 0.367705\n",
            "Train Epoch: 3 [6400/9600(67%)]\tLoss: 0.204132\n",
            "Train Epoch: 4 [0/9600(0%)]\tLoss: 0.464941\n",
            "Train Epoch: 4 [6400/9600(67%)]\tLoss: 0.077920\n",
            "Hyperparameters --> {'weight_decay': 0.1, 'lr': 2e-05}\n"
          ]
        },
        {
          "name": "stderr",
          "output_type": "stream",
          "text": [
            "Some weights of the model checkpoint at bert-base-uncased were not used when initializing BertForSequenceClassification: ['cls.predictions.transform.dense.bias', 'cls.seq_relationship.weight', 'cls.seq_relationship.bias', 'cls.predictions.decoder.weight', 'cls.predictions.bias', 'cls.predictions.transform.LayerNorm.weight', 'cls.predictions.transform.dense.weight', 'cls.predictions.transform.LayerNorm.bias']\n",
            "- This IS expected if you are initializing BertForSequenceClassification from the checkpoint of a model trained on another task or with another architecture (e.g. initializing a BertForSequenceClassification model from a BertForPreTraining model).\n",
            "- This IS NOT expected if you are initializing BertForSequenceClassification from the checkpoint of a model that you expect to be exactly identical (initializing a BertForSequenceClassification model from a BertForSequenceClassification model).\n",
            "Some weights of BertForSequenceClassification were not initialized from the model checkpoint at bert-base-uncased and are newly initialized: ['classifier.weight', 'classifier.bias']\n",
            "You should probably TRAIN this model on a down-stream task to be able to use it for predictions and inference.\n"
          ]
        },
        {
          "name": "stdout",
          "output_type": "stream",
          "text": [
            "Train Epoch: 1 [0/9600(0%)]\tLoss: 2.425396\n",
            "Train Epoch: 1 [6400/9600(67%)]\tLoss: 1.149930\n",
            "Train Epoch: 2 [0/9600(0%)]\tLoss: 1.186842\n",
            "Train Epoch: 2 [6400/9600(67%)]\tLoss: 0.917086\n",
            "Train Epoch: 3 [0/9600(0%)]\tLoss: 0.642818\n",
            "Train Epoch: 3 [6400/9600(67%)]\tLoss: 0.819371\n",
            "Train Epoch: 4 [0/9600(0%)]\tLoss: 0.340987\n",
            "Train Epoch: 4 [6400/9600(67%)]\tLoss: 0.648629\n",
            "Hyperparameters --> {'weight_decay': 0.1, 'lr': 3e-05}\n"
          ]
        },
        {
          "name": "stderr",
          "output_type": "stream",
          "text": [
            "Some weights of the model checkpoint at bert-base-uncased were not used when initializing BertForSequenceClassification: ['cls.predictions.transform.dense.bias', 'cls.seq_relationship.weight', 'cls.seq_relationship.bias', 'cls.predictions.decoder.weight', 'cls.predictions.bias', 'cls.predictions.transform.LayerNorm.weight', 'cls.predictions.transform.dense.weight', 'cls.predictions.transform.LayerNorm.bias']\n",
            "- This IS expected if you are initializing BertForSequenceClassification from the checkpoint of a model trained on another task or with another architecture (e.g. initializing a BertForSequenceClassification model from a BertForPreTraining model).\n",
            "- This IS NOT expected if you are initializing BertForSequenceClassification from the checkpoint of a model that you expect to be exactly identical (initializing a BertForSequenceClassification model from a BertForSequenceClassification model).\n",
            "Some weights of BertForSequenceClassification were not initialized from the model checkpoint at bert-base-uncased and are newly initialized: ['classifier.weight', 'classifier.bias']\n",
            "You should probably TRAIN this model on a down-stream task to be able to use it for predictions and inference.\n"
          ]
        },
        {
          "name": "stdout",
          "output_type": "stream",
          "text": [
            "Train Epoch: 1 [0/9600(0%)]\tLoss: 2.283876\n",
            "Train Epoch: 1 [6400/9600(67%)]\tLoss: 1.076296\n",
            "Train Epoch: 2 [0/9600(0%)]\tLoss: 0.729796\n",
            "Train Epoch: 2 [6400/9600(67%)]\tLoss: 0.584997\n",
            "Train Epoch: 3 [0/9600(0%)]\tLoss: 0.580153\n",
            "Train Epoch: 3 [6400/9600(67%)]\tLoss: 0.288256\n",
            "Train Epoch: 4 [0/9600(0%)]\tLoss: 0.250516\n",
            "Train Epoch: 4 [6400/9600(67%)]\tLoss: 0.603794\n",
            "Hyperparameters --> {'weight_decay': 0.1, 'lr': 4e-05}\n"
          ]
        },
        {
          "name": "stderr",
          "output_type": "stream",
          "text": [
            "Some weights of the model checkpoint at bert-base-uncased were not used when initializing BertForSequenceClassification: ['cls.predictions.transform.dense.bias', 'cls.seq_relationship.weight', 'cls.seq_relationship.bias', 'cls.predictions.decoder.weight', 'cls.predictions.bias', 'cls.predictions.transform.LayerNorm.weight', 'cls.predictions.transform.dense.weight', 'cls.predictions.transform.LayerNorm.bias']\n",
            "- This IS expected if you are initializing BertForSequenceClassification from the checkpoint of a model trained on another task or with another architecture (e.g. initializing a BertForSequenceClassification model from a BertForPreTraining model).\n",
            "- This IS NOT expected if you are initializing BertForSequenceClassification from the checkpoint of a model that you expect to be exactly identical (initializing a BertForSequenceClassification model from a BertForSequenceClassification model).\n",
            "Some weights of BertForSequenceClassification were not initialized from the model checkpoint at bert-base-uncased and are newly initialized: ['classifier.weight', 'classifier.bias']\n",
            "You should probably TRAIN this model on a down-stream task to be able to use it for predictions and inference.\n"
          ]
        },
        {
          "name": "stdout",
          "output_type": "stream",
          "text": [
            "Train Epoch: 1 [0/9600(0%)]\tLoss: 2.457422\n",
            "Train Epoch: 1 [6400/9600(67%)]\tLoss: 0.877852\n",
            "Train Epoch: 2 [0/9600(0%)]\tLoss: 0.726300\n",
            "Train Epoch: 2 [6400/9600(67%)]\tLoss: 0.657920\n",
            "Train Epoch: 3 [0/9600(0%)]\tLoss: 0.373791\n",
            "Train Epoch: 3 [6400/9600(67%)]\tLoss: 0.405170\n",
            "Train Epoch: 4 [0/9600(0%)]\tLoss: 0.414205\n",
            "Train Epoch: 4 [6400/9600(67%)]\tLoss: 0.348936\n",
            "Hyperparameters --> {'weight_decay': 0.001, 'lr': 2e-05}\n"
          ]
        },
        {
          "name": "stderr",
          "output_type": "stream",
          "text": [
            "Some weights of the model checkpoint at bert-base-uncased were not used when initializing BertForSequenceClassification: ['cls.predictions.transform.dense.bias', 'cls.seq_relationship.weight', 'cls.seq_relationship.bias', 'cls.predictions.decoder.weight', 'cls.predictions.bias', 'cls.predictions.transform.LayerNorm.weight', 'cls.predictions.transform.dense.weight', 'cls.predictions.transform.LayerNorm.bias']\n",
            "- This IS expected if you are initializing BertForSequenceClassification from the checkpoint of a model trained on another task or with another architecture (e.g. initializing a BertForSequenceClassification model from a BertForPreTraining model).\n",
            "- This IS NOT expected if you are initializing BertForSequenceClassification from the checkpoint of a model that you expect to be exactly identical (initializing a BertForSequenceClassification model from a BertForSequenceClassification model).\n",
            "Some weights of BertForSequenceClassification were not initialized from the model checkpoint at bert-base-uncased and are newly initialized: ['classifier.weight', 'classifier.bias']\n",
            "You should probably TRAIN this model on a down-stream task to be able to use it for predictions and inference.\n"
          ]
        },
        {
          "name": "stdout",
          "output_type": "stream",
          "text": [
            "Train Epoch: 1 [0/9600(0%)]\tLoss: 2.435024\n",
            "Train Epoch: 1 [6400/9600(67%)]\tLoss: 1.238826\n",
            "Train Epoch: 2 [0/9600(0%)]\tLoss: 1.015798\n",
            "Train Epoch: 2 [6400/9600(67%)]\tLoss: 0.826245\n",
            "Train Epoch: 3 [0/9600(0%)]\tLoss: 0.526537\n",
            "Train Epoch: 3 [6400/9600(67%)]\tLoss: 0.573387\n",
            "Train Epoch: 4 [0/9600(0%)]\tLoss: 0.513496\n",
            "Train Epoch: 4 [6400/9600(67%)]\tLoss: 0.263481\n",
            "Hyperparameters --> {'weight_decay': 0.001, 'lr': 3e-05}\n"
          ]
        },
        {
          "name": "stderr",
          "output_type": "stream",
          "text": [
            "Some weights of the model checkpoint at bert-base-uncased were not used when initializing BertForSequenceClassification: ['cls.predictions.transform.dense.bias', 'cls.seq_relationship.weight', 'cls.seq_relationship.bias', 'cls.predictions.decoder.weight', 'cls.predictions.bias', 'cls.predictions.transform.LayerNorm.weight', 'cls.predictions.transform.dense.weight', 'cls.predictions.transform.LayerNorm.bias']\n",
            "- This IS expected if you are initializing BertForSequenceClassification from the checkpoint of a model trained on another task or with another architecture (e.g. initializing a BertForSequenceClassification model from a BertForPreTraining model).\n",
            "- This IS NOT expected if you are initializing BertForSequenceClassification from the checkpoint of a model that you expect to be exactly identical (initializing a BertForSequenceClassification model from a BertForSequenceClassification model).\n",
            "Some weights of BertForSequenceClassification were not initialized from the model checkpoint at bert-base-uncased and are newly initialized: ['classifier.weight', 'classifier.bias']\n",
            "You should probably TRAIN this model on a down-stream task to be able to use it for predictions and inference.\n"
          ]
        },
        {
          "name": "stdout",
          "output_type": "stream",
          "text": [
            "Train Epoch: 1 [0/9600(0%)]\tLoss: 2.318721\n",
            "Train Epoch: 1 [6400/9600(67%)]\tLoss: 1.090254\n",
            "Train Epoch: 2 [0/9600(0%)]\tLoss: 0.891193\n",
            "Train Epoch: 2 [6400/9600(67%)]\tLoss: 0.677954\n",
            "Train Epoch: 3 [0/9600(0%)]\tLoss: 0.489326\n",
            "Train Epoch: 3 [6400/9600(67%)]\tLoss: 0.653357\n",
            "Train Epoch: 4 [0/9600(0%)]\tLoss: 0.319318\n",
            "Train Epoch: 4 [6400/9600(67%)]\tLoss: 0.143199\n",
            "Hyperparameters --> {'weight_decay': 0.001, 'lr': 4e-05}\n"
          ]
        },
        {
          "name": "stderr",
          "output_type": "stream",
          "text": [
            "Some weights of the model checkpoint at bert-base-uncased were not used when initializing BertForSequenceClassification: ['cls.predictions.transform.dense.bias', 'cls.seq_relationship.weight', 'cls.seq_relationship.bias', 'cls.predictions.decoder.weight', 'cls.predictions.bias', 'cls.predictions.transform.LayerNorm.weight', 'cls.predictions.transform.dense.weight', 'cls.predictions.transform.LayerNorm.bias']\n",
            "- This IS expected if you are initializing BertForSequenceClassification from the checkpoint of a model trained on another task or with another architecture (e.g. initializing a BertForSequenceClassification model from a BertForPreTraining model).\n",
            "- This IS NOT expected if you are initializing BertForSequenceClassification from the checkpoint of a model that you expect to be exactly identical (initializing a BertForSequenceClassification model from a BertForSequenceClassification model).\n",
            "Some weights of BertForSequenceClassification were not initialized from the model checkpoint at bert-base-uncased and are newly initialized: ['classifier.weight', 'classifier.bias']\n",
            "You should probably TRAIN this model on a down-stream task to be able to use it for predictions and inference.\n"
          ]
        },
        {
          "name": "stdout",
          "output_type": "stream",
          "text": [
            "Train Epoch: 1 [0/9600(0%)]\tLoss: 2.362069\n",
            "Train Epoch: 1 [6400/9600(67%)]\tLoss: 1.168229\n",
            "Train Epoch: 2 [0/9600(0%)]\tLoss: 1.069485\n",
            "Train Epoch: 2 [6400/9600(67%)]\tLoss: 0.894516\n",
            "Train Epoch: 3 [0/9600(0%)]\tLoss: 0.334540\n",
            "Train Epoch: 3 [6400/9600(67%)]\tLoss: 0.417141\n",
            "Train Epoch: 4 [0/9600(0%)]\tLoss: 0.084332\n",
            "Train Epoch: 4 [6400/9600(67%)]\tLoss: 0.185453\n"
          ]
        }
      ],
      "source": [
        "param_grid = {\n",
        "              'weight_decay': [0.01, 0.1, 0.001], \n",
        "              'lr': [2e-5, 3e-5, 4e-5]\n",
        "             }\n",
        "\n",
        "res = hypter_param_selection(param_grid, 10, validation_dataloader, model_name)"
      ]
    },
    {
      "cell_type": "code",
      "execution_count": null,
      "id": "Oaggrd4Torg4",
      "metadata": {
        "colab": {
          "base_uri": "https://localhost:8080/"
        },
        "id": "Oaggrd4Torg4",
        "outputId": "110582d7-6e2e-4649-abfc-eb5b9c711265"
      },
      "outputs": [
        {
          "output_type": "execute_result",
          "data": {
            "text/plain": [
              "{\"{'weight_decay': 0.01, 'lr': 2e-05}\": 0.6699045175009564,\n",
              " \"{'weight_decay': 0.01, 'lr': 3e-05}\": 0.6759502158421645,\n",
              " \"{'weight_decay': 0.01, 'lr': 4e-05}\": 0.67737765261448,\n",
              " \"{'weight_decay': 0.1, 'lr': 2e-05}\": 0.6704321267648828,\n",
              " \"{'weight_decay': 0.1, 'lr': 3e-05}\": 0.6756271467629933,\n",
              " \"{'weight_decay': 0.1, 'lr': 4e-05}\": 0.6624165687540219,\n",
              " \"{'weight_decay': 0.001, 'lr': 2e-05}\": 0.6692461138570338,\n",
              " \"{'weight_decay': 0.001, 'lr': 3e-05}\": 0.6769361258048985,\n",
              " \"{'weight_decay': 0.001, 'lr': 4e-05}\": 0.6738437604599368}"
            ]
          },
          "metadata": {},
          "execution_count": 36
        }
      ],
      "source": [
        "res"
      ]
    },
    {
      "cell_type": "code",
      "execution_count": null,
      "id": "WanOhivaVaGI",
      "metadata": {
        "colab": {
          "base_uri": "https://localhost:8080/"
        },
        "id": "WanOhivaVaGI",
        "outputId": "e951d6c2-ae63-4dac-e6b3-6a3f62d8f381"
      },
      "outputs": [
        {
          "output_type": "execute_result",
          "data": {
            "text/plain": [
              "{'epoch': 3, 'weight_decay': 0.01, 'lr': 4e-05}"
            ]
          },
          "metadata": {},
          "execution_count": 105
        }
      ],
      "source": [
        "# retrieving a dictionary of best params, adding 3 epochs as last\n",
        "import ast\n",
        "\n",
        "best_parameters_str = max(res, key=res.get)\n",
        "best_params = ast.literal_eval(\"{\" + \"'epoch': 3, \" + best_parameters_str[1:])\n",
        "\n",
        "best_params"
      ]
    },
    {
      "cell_type": "code",
      "execution_count": null,
      "id": "ZISe49tPqzcK",
      "metadata": {
        "colab": {
          "base_uri": "https://localhost:8080/"
        },
        "id": "ZISe49tPqzcK",
        "outputId": "98ce0764-a57c-4d55-d774-0b921acc31f9"
      },
      "outputs": [
        {
          "output_type": "stream",
          "name": "stderr",
          "text": [
            "Some weights of the model checkpoint at bert-base-uncased were not used when initializing BertForSequenceClassification: ['cls.predictions.transform.dense.weight', 'cls.predictions.decoder.weight', 'cls.predictions.transform.LayerNorm.bias', 'cls.predictions.transform.LayerNorm.weight', 'cls.seq_relationship.bias', 'cls.predictions.bias', 'cls.predictions.transform.dense.bias', 'cls.seq_relationship.weight']\n",
            "- This IS expected if you are initializing BertForSequenceClassification from the checkpoint of a model trained on another task or with another architecture (e.g. initializing a BertForSequenceClassification model from a BertForPreTraining model).\n",
            "- This IS NOT expected if you are initializing BertForSequenceClassification from the checkpoint of a model that you expect to be exactly identical (initializing a BertForSequenceClassification model from a BertForSequenceClassification model).\n",
            "Some weights of BertForSequenceClassification were not initialized from the model checkpoint at bert-base-uncased and are newly initialized: ['classifier.weight', 'classifier.bias']\n",
            "You should probably TRAIN this model on a down-stream task to be able to use it for predictions and inference.\n"
          ]
        },
        {
          "output_type": "stream",
          "name": "stdout",
          "text": [
            "\n",
            "Train Epoch: 1 [0/9600(0%)]\tLoss: 1.734190\n",
            "Train Epoch: 1 [6400/9600(67%)]\tLoss: 1.061995\n",
            "\n",
            "Train Epoch: 2 [0/9600(0%)]\tLoss: 0.770429\n",
            "Train Epoch: 2 [6400/9600(67%)]\tLoss: 0.790559\n",
            "\n",
            "Train Epoch: 3 [0/9600(0%)]\tLoss: 0.429820\n",
            "Train Epoch: 3 [6400/9600(67%)]\tLoss: 0.314664\n"
          ]
        }
      ],
      "source": [
        "bert_BU_model = BertForSequenceClassification.from_pretrained(model_name, num_labels= len(le.classes_))   \n",
        "bert_BU_model.cuda()\n",
        "optimizer, scheduler= get_optimizer_scheduler(bert_BU_model, *best_params.values())\n",
        "\n",
        "#evaluating on test\n",
        "train_lossv = list()\n",
        "for epoch in range(1, best_params[\"epoch\"] + 1):\n",
        "    print()\n",
        "    train(bert_BU_model, optimizer, scheduler, epoch, train_lossv)\n",
        "    f1_score, _, _, _ = evaluate(bert_BU_model, test_dataloader)   #true_labels, predicted_labels, logits"
      ]
    },
    {
      "cell_type": "code",
      "execution_count": null,
      "id": "GDeVF_e2CAkt",
      "metadata": {
        "colab": {
          "base_uri": "https://localhost:8080/"
        },
        "id": "GDeVF_e2CAkt",
        "outputId": "36479590-c4b3-476f-c11c-8913254fdba4"
      },
      "outputs": [
        {
          "output_type": "execute_result",
          "data": {
            "text/plain": [
              "0.9291664500031699"
            ]
          },
          "metadata": {},
          "execution_count": 107
        }
      ],
      "source": [
        "f1_score_train, _, _, _ = evaluate(bert_BU_model, train_dataloader)\n",
        "f1_score_train"
      ]
    },
    {
      "cell_type": "code",
      "execution_count": null,
      "id": "3jqTbgdZaAUa",
      "metadata": {
        "colab": {
          "base_uri": "https://localhost:8080/"
        },
        "id": "3jqTbgdZaAUa",
        "outputId": "8424e2ac-4828-4818-d658-db0f34aa5f85"
      },
      "outputs": [
        {
          "output_type": "execute_result",
          "data": {
            "text/plain": [
              "0.4847160975625509"
            ]
          },
          "metadata": {},
          "execution_count": 108
        }
      ],
      "source": [
        "f1_score_test, true_labels, predicted_labels, logits = evaluate(bert_BU_model, test_dataloader)\n",
        "f1_score_test"
      ]
    },
    {
      "cell_type": "code",
      "execution_count": null,
      "id": "QkjATLsECAml",
      "metadata": {
        "colab": {
          "base_uri": "https://localhost:8080/"
        },
        "id": "QkjATLsECAml",
        "outputId": "db9a4cfe-2a73-43b2-e54c-16436fc783f6"
      },
      "outputs": [
        {
          "output_type": "execute_result",
          "data": {
            "text/plain": [
              "(373300, 373300, 373300)"
            ]
          },
          "metadata": {},
          "execution_count": 109
        }
      ],
      "source": [
        "len(logits), len(true_labels), len(predicted_labels)"
      ]
    },
    {
      "cell_type": "code",
      "execution_count": null,
      "id": "8ICJGDlzCAsR",
      "metadata": {
        "colab": {
          "base_uri": "https://localhost:8080/"
        },
        "id": "8ICJGDlzCAsR",
        "outputId": "259a89a5-ad7e-41cc-9533-36e6e6aa0b2b"
      },
      "outputs": [
        {
          "output_type": "stream",
          "name": "stdout",
          "text": [
            "Classification report:\n",
            "              precision    recall  f1-score   support\n",
            "\n",
            "           0       0.47      0.71      0.57     12633\n",
            "           1       0.81      0.44      0.57    213931\n",
            "           2       0.29      0.57      0.39     26909\n",
            "           3       0.29      0.65      0.40     24121\n",
            "           4       0.55      0.65      0.60     77884\n",
            "           5       0.28      0.62      0.38     17822\n",
            "\n",
            "    accuracy                           0.53    373300\n",
            "   macro avg       0.45      0.61      0.48    373300\n",
            "weighted avg       0.65      0.53      0.54    373300\n",
            "\n",
            "Confusion matrix:\n",
            "[[ 9009   862   611   801   727   623]\n",
            " [ 7397 95020 26789 27793 34349 22583]\n",
            " [  721  3740 15261  2782  2763  1642]\n",
            " [  446  3174  1715 15743  1915  1128]\n",
            " [ 1219 11857  6395  5447 50442  2524]\n",
            " [  453  2560  1315  1417  1093 10984]]\n"
          ]
        }
      ],
      "source": [
        "print('Classification report:')\n",
        "print(classification_report(true_labels, predicted_labels))\n",
        "print('Confusion matrix:')\n",
        "cm = confusion_matrix(true_labels, predicted_labels)\n",
        "print(cm)"
      ]
    },
    {
      "cell_type": "code",
      "execution_count": null,
      "id": "aK0oefaDdiFF",
      "metadata": {
        "colab": {
          "base_uri": "https://localhost:8080/",
          "height": 518
        },
        "id": "aK0oefaDdiFF",
        "outputId": "e2472e1a-4cb9-4c71-fc32-7dbaed2dcacb"
      },
      "outputs": [
        {
          "output_type": "display_data",
          "data": {
            "text/plain": [
              "<Figure size 1080x576 with 1 Axes>"
            ],
            "image/png": "[encoded data removed]"
          },
          "metadata": {
            "needs_background": "light"
          }
        }
      ],
      "source": [
        "%matplotlib inline\n",
        "plt.figure(figsize=(15,8))\n",
        "plt.title(\"Training loss\")\n",
        "plt.xlabel(\"Batch\")\n",
        "plt.ylabel(\"Loss\")\n",
        "plt.plot(train_lossv, label='original')\n",
        "plt.plot(np.convolve(train_lossv, np.ones(101), 'same') / 101,\n",
        "         label='averaged')\n",
        "plt.legend(loc='best')\n",
        "plt.show()"
      ]
    }
  ],
  "metadata": {
    "accelerator": "GPU",
    "colab": {
      "provenance": [],
      "machine_shape": "hm"
    },
    "gpuClass": "premium",
    "kernelspec": {
      "display_name": "Python 3 (ipykernel)",
      "language": "python",
      "name": "python3"
    },
    "language_info": {
      "codemirror_mode": {
        "name": "ipython",
        "version": 3
      },
      "file_extension": ".py",
      "mimetype": "text/x-python",
      "name": "python",
      "nbconvert_exporter": "python",
      "pygments_lexer": "ipython3",
      "version": "3.9.7"
    },
    "widgets": {
      "application/vnd.jupyter.widget-state+json": {
        "c6284a338d8b4404bed5de5ae78d9eba": {
          "model_module": "@jupyter-widgets/controls",
          "model_name": "HBoxModel",
          "model_module_version": "1.5.0",
          "state": {
            "_dom_classes": [],
            "_model_module": "@jupyter-widgets/controls",
            "_model_module_version": "1.5.0",
            "_model_name": "HBoxModel",
            "_view_count": null,
            "_view_module": "@jupyter-widgets/controls",
            "_view_module_version": "1.5.0",
            "_view_name": "HBoxView",
            "box_style": "",
            "children": [
              "IPY_MODEL_0efe4266e74b4d38a7accf204d3cf86d",
              "IPY_MODEL_cdac04573c184d2ea154918b1b9b4a2a",
              "IPY_MODEL_eddfc338afdb4e1290ce6637d8cb90b7"
            ],
            "layout": "IPY_MODEL_1bbb3244ea77445d980d44b88985df8f"
          }
        },
        "0efe4266e74b4d38a7accf204d3cf86d": {
          "model_module": "@jupyter-widgets/controls",
          "model_name": "HTMLModel",
          "model_module_version": "1.5.0",
          "state": {
            "_dom_classes": [],
            "_model_module": "@jupyter-widgets/controls",
            "_model_module_version": "1.5.0",
            "_model_name": "HTMLModel",
            "_view_count": null,
            "_view_module": "@jupyter-widgets/controls",
            "_view_module_version": "1.5.0",
            "_view_name": "HTMLView",
            "description": "",
            "description_tooltip": null,
            "layout": "IPY_MODEL_1ada4a2d486442d49e6e9356946da409",
            "placeholder": "​",
            "style": "IPY_MODEL_1ff51863c8fa42d983fde12893b57f27",
            "value": "100%"
          }
        },
        "cdac04573c184d2ea154918b1b9b4a2a": {
          "model_module": "@jupyter-widgets/controls",
          "model_name": "FloatProgressModel",
          "model_module_version": "1.5.0",
          "state": {
            "_dom_classes": [],
            "_model_module": "@jupyter-widgets/controls",
            "_model_module_version": "1.5.0",
            "_model_name": "FloatProgressModel",
            "_view_count": null,
            "_view_module": "@jupyter-widgets/controls",
            "_view_module_version": "1.5.0",
            "_view_name": "ProgressView",
            "bar_style": "success",
            "description": "",
            "description_tooltip": null,
            "layout": "IPY_MODEL_8eb3b572e48a41db89f453583c646416",
            "max": 12000,
            "min": 0,
            "orientation": "horizontal",
            "style": "IPY_MODEL_edf8e90bdfb44538884941817991426f",
            "value": 12000
          }
        },
        "eddfc338afdb4e1290ce6637d8cb90b7": {
          "model_module": "@jupyter-widgets/controls",
          "model_name": "HTMLModel",
          "model_module_version": "1.5.0",
          "state": {
            "_dom_classes": [],
            "_model_module": "@jupyter-widgets/controls",
            "_model_module_version": "1.5.0",
            "_model_name": "HTMLModel",
            "_view_count": null,
            "_view_module": "@jupyter-widgets/controls",
            "_view_module_version": "1.5.0",
            "_view_name": "HTMLView",
            "description": "",
            "description_tooltip": null,
            "layout": "IPY_MODEL_4ad3d22a255f48ceb13f55c3058ddbf0",
            "placeholder": "​",
            "style": "IPY_MODEL_d73b4c24e874402f9a792d11cafe6b9e",
            "value": " 12000/12000 [00:52&lt;00:00, 236.12it/s]"
          }
        },
        "1bbb3244ea77445d980d44b88985df8f": {
          "model_module": "@jupyter-widgets/base",
          "model_name": "LayoutModel",
          "model_module_version": "1.2.0",
          "state": {
            "_model_module": "@jupyter-widgets/base",
            "_model_module_version": "1.2.0",
            "_model_name": "LayoutModel",
            "_view_count": null,
            "_view_module": "@jupyter-widgets/base",
            "_view_module_version": "1.2.0",
            "_view_name": "LayoutView",
            "align_content": null,
            "align_items": null,
            "align_self": null,
            "border": null,
            "bottom": null,
            "display": null,
            "flex": null,
            "flex_flow": null,
            "grid_area": null,
            "grid_auto_columns": null,
            "grid_auto_flow": null,
            "grid_auto_rows": null,
            "grid_column": null,
            "grid_gap": null,
            "grid_row": null,
            "grid_template_areas": null,
            "grid_template_columns": null,
            "grid_template_rows": null,
            "height": null,
            "justify_content": null,
            "justify_items": null,
            "left": null,
            "margin": null,
            "max_height": null,
            "max_width": null,
            "min_height": null,
            "min_width": null,
            "object_fit": null,
            "object_position": null,
            "order": null,
            "overflow": null,
            "overflow_x": null,
            "overflow_y": null,
            "padding": null,
            "right": null,
            "top": null,
            "visibility": null,
            "width": null
          }
        },
        "1ada4a2d486442d49e6e9356946da409": {
          "model_module": "@jupyter-widgets/base",
          "model_name": "LayoutModel",
          "model_module_version": "1.2.0",
          "state": {
            "_model_module": "@jupyter-widgets/base",
            "_model_module_version": "1.2.0",
            "_model_name": "LayoutModel",
            "_view_count": null,
            "_view_module": "@jupyter-widgets/base",
            "_view_module_version": "1.2.0",
            "_view_name": "LayoutView",
            "align_content": null,
            "align_items": null,
            "align_self": null,
            "border": null,
            "bottom": null,
            "display": null,
            "flex": null,
            "flex_flow": null,
            "grid_area": null,
            "grid_auto_columns": null,
            "grid_auto_flow": null,
            "grid_auto_rows": null,
            "grid_column": null,
            "grid_gap": null,
            "grid_row": null,
            "grid_template_areas": null,
            "grid_template_columns": null,
            "grid_template_rows": null,
            "height": null,
            "justify_content": null,
            "justify_items": null,
            "left": null,
            "margin": null,
            "max_height": null,
            "max_width": null,
            "min_height": null,
            "min_width": null,
            "object_fit": null,
            "object_position": null,
            "order": null,
            "overflow": null,
            "overflow_x": null,
            "overflow_y": null,
            "padding": null,
            "right": null,
            "top": null,
            "visibility": null,
            "width": null
          }
        },
        "1ff51863c8fa42d983fde12893b57f27": {
          "model_module": "@jupyter-widgets/controls",
          "model_name": "DescriptionStyleModel",
          "model_module_version": "1.5.0",
          "state": {
            "_model_module": "@jupyter-widgets/controls",
            "_model_module_version": "1.5.0",
            "_model_name": "DescriptionStyleModel",
            "_view_count": null,
            "_view_module": "@jupyter-widgets/base",
            "_view_module_version": "1.2.0",
            "_view_name": "StyleView",
            "description_width": ""
          }
        },
        "8eb3b572e48a41db89f453583c646416": {
          "model_module": "@jupyter-widgets/base",
          "model_name": "LayoutModel",
          "model_module_version": "1.2.0",
          "state": {
            "_model_module": "@jupyter-widgets/base",
            "_model_module_version": "1.2.0",
            "_model_name": "LayoutModel",
            "_view_count": null,
            "_view_module": "@jupyter-widgets/base",
            "_view_module_version": "1.2.0",
            "_view_name": "LayoutView",
            "align_content": null,
            "align_items": null,
            "align_self": null,
            "border": null,
            "bottom": null,
            "display": null,
            "flex": null,
            "flex_flow": null,
            "grid_area": null,
            "grid_auto_columns": null,
            "grid_auto_flow": null,
            "grid_auto_rows": null,
            "grid_column": null,
            "grid_gap": null,
            "grid_row": null,
            "grid_template_areas": null,
            "grid_template_columns": null,
            "grid_template_rows": null,
            "height": null,
            "justify_content": null,
            "justify_items": null,
            "left": null,
            "margin": null,
            "max_height": null,
            "max_width": null,
            "min_height": null,
            "min_width": null,
            "object_fit": null,
            "object_position": null,
            "order": null,
            "overflow": null,
            "overflow_x": null,
            "overflow_y": null,
            "padding": null,
            "right": null,
            "top": null,
            "visibility": null,
            "width": null
          }
        },
        "edf8e90bdfb44538884941817991426f": {
          "model_module": "@jupyter-widgets/controls",
          "model_name": "ProgressStyleModel",
          "model_module_version": "1.5.0",
          "state": {
            "_model_module": "@jupyter-widgets/controls",
            "_model_module_version": "1.5.0",
            "_model_name": "ProgressStyleModel",
            "_view_count": null,
            "_view_module": "@jupyter-widgets/base",
            "_view_module_version": "1.2.0",
            "_view_name": "StyleView",
            "bar_color": null,
            "description_width": ""
          }
        },
        "4ad3d22a255f48ceb13f55c3058ddbf0": {
          "model_module": "@jupyter-widgets/base",
          "model_name": "LayoutModel",
          "model_module_version": "1.2.0",
          "state": {
            "_model_module": "@jupyter-widgets/base",
            "_model_module_version": "1.2.0",
            "_model_name": "LayoutModel",
            "_view_count": null,
            "_view_module": "@jupyter-widgets/base",
            "_view_module_version": "1.2.0",
            "_view_name": "LayoutView",
            "align_content": null,
            "align_items": null,
            "align_self": null,
            "border": null,
            "bottom": null,
            "display": null,
            "flex": null,
            "flex_flow": null,
            "grid_area": null,
            "grid_auto_columns": null,
            "grid_auto_flow": null,
            "grid_auto_rows": null,
            "grid_column": null,
            "grid_gap": null,
            "grid_row": null,
            "grid_template_areas": null,
            "grid_template_columns": null,
            "grid_template_rows": null,
            "height": null,
            "justify_content": null,
            "justify_items": null,
            "left": null,
            "margin": null,
            "max_height": null,
            "max_width": null,
            "min_height": null,
            "min_width": null,
            "object_fit": null,
            "object_position": null,
            "order": null,
            "overflow": null,
            "overflow_x": null,
            "overflow_y": null,
            "padding": null,
            "right": null,
            "top": null,
            "visibility": null,
            "width": null
          }
        },
        "d73b4c24e874402f9a792d11cafe6b9e": {
          "model_module": "@jupyter-widgets/controls",
          "model_name": "DescriptionStyleModel",
          "model_module_version": "1.5.0",
          "state": {
            "_model_module": "@jupyter-widgets/controls",
            "_model_module_version": "1.5.0",
            "_model_name": "DescriptionStyleModel",
            "_view_count": null,
            "_view_module": "@jupyter-widgets/base",
            "_view_module_version": "1.2.0",
            "_view_name": "StyleView",
            "description_width": ""
          }
        },
        "88132799da8c4825bf97461ffdff9e33": {
          "model_module": "@jupyter-widgets/controls",
          "model_name": "HBoxModel",
          "model_module_version": "1.5.0",
          "state": {
            "_dom_classes": [],
            "_model_module": "@jupyter-widgets/controls",
            "_model_module_version": "1.5.0",
            "_model_name": "HBoxModel",
            "_view_count": null,
            "_view_module": "@jupyter-widgets/controls",
            "_view_module_version": "1.5.0",
            "_view_name": "HBoxView",
            "box_style": "",
            "children": [
              "IPY_MODEL_58d3baa411dd48b9b17286a11d6d374c",
              "IPY_MODEL_563d0c1671e947ef9efe59dad6a3d6d5",
              "IPY_MODEL_f047abbe0d5e41c09f58a520786facdc"
            ],
            "layout": "IPY_MODEL_b8d4c054f76a4dbeb6ce5bec7f1a549f"
          }
        },
        "58d3baa411dd48b9b17286a11d6d374c": {
          "model_module": "@jupyter-widgets/controls",
          "model_name": "HTMLModel",
          "model_module_version": "1.5.0",
          "state": {
            "_dom_classes": [],
            "_model_module": "@jupyter-widgets/controls",
            "_model_module_version": "1.5.0",
            "_model_name": "HTMLModel",
            "_view_count": null,
            "_view_module": "@jupyter-widgets/controls",
            "_view_module_version": "1.5.0",
            "_view_name": "HTMLView",
            "description": "",
            "description_tooltip": null,
            "layout": "IPY_MODEL_ce2a83d504ac4740938ac379656cc2be",
            "placeholder": "​",
            "style": "IPY_MODEL_4601a4d6abd248bbb2e55c3a2c6dcd6f",
            "value": "100%"
          }
        },
        "563d0c1671e947ef9efe59dad6a3d6d5": {
          "model_module": "@jupyter-widgets/controls",
          "model_name": "FloatProgressModel",
          "model_module_version": "1.5.0",
          "state": {
            "_dom_classes": [],
            "_model_module": "@jupyter-widgets/controls",
            "_model_module_version": "1.5.0",
            "_model_name": "FloatProgressModel",
            "_view_count": null,
            "_view_module": "@jupyter-widgets/controls",
            "_view_module_version": "1.5.0",
            "_view_name": "ProgressView",
            "bar_style": "success",
            "description": "",
            "description_tooltip": null,
            "layout": "IPY_MODEL_fbe55caedd0441d7a0c19c2837265aa2",
            "max": 373300,
            "min": 0,
            "orientation": "horizontal",
            "style": "IPY_MODEL_7e5e76d1452d4dacb1eeddda733ccf6b",
            "value": 373300
          }
        },
        "f047abbe0d5e41c09f58a520786facdc": {
          "model_module": "@jupyter-widgets/controls",
          "model_name": "HTMLModel",
          "model_module_version": "1.5.0",
          "state": {
            "_dom_classes": [],
            "_model_module": "@jupyter-widgets/controls",
            "_model_module_version": "1.5.0",
            "_model_name": "HTMLModel",
            "_view_count": null,
            "_view_module": "@jupyter-widgets/controls",
            "_view_module_version": "1.5.0",
            "_view_name": "HTMLView",
            "description": "",
            "description_tooltip": null,
            "layout": "IPY_MODEL_d0d6fc9926ff43339b008317a0c575d0",
            "placeholder": "​",
            "style": "IPY_MODEL_4d861a5395a6453ca5c5c0b44e612a65",
            "value": " 373300/373300 [26:47&lt;00:00, 293.62it/s]"
          }
        },
        "b8d4c054f76a4dbeb6ce5bec7f1a549f": {
          "model_module": "@jupyter-widgets/base",
          "model_name": "LayoutModel",
          "model_module_version": "1.2.0",
          "state": {
            "_model_module": "@jupyter-widgets/base",
            "_model_module_version": "1.2.0",
            "_model_name": "LayoutModel",
            "_view_count": null,
            "_view_module": "@jupyter-widgets/base",
            "_view_module_version": "1.2.0",
            "_view_name": "LayoutView",
            "align_content": null,
            "align_items": null,
            "align_self": null,
            "border": null,
            "bottom": null,
            "display": null,
            "flex": null,
            "flex_flow": null,
            "grid_area": null,
            "grid_auto_columns": null,
            "grid_auto_flow": null,
            "grid_auto_rows": null,
            "grid_column": null,
            "grid_gap": null,
            "grid_row": null,
            "grid_template_areas": null,
            "grid_template_columns": null,
            "grid_template_rows": null,
            "height": null,
            "justify_content": null,
            "justify_items": null,
            "left": null,
            "margin": null,
            "max_height": null,
            "max_width": null,
            "min_height": null,
            "min_width": null,
            "object_fit": null,
            "object_position": null,
            "order": null,
            "overflow": null,
            "overflow_x": null,
            "overflow_y": null,
            "padding": null,
            "right": null,
            "top": null,
            "visibility": null,
            "width": null
          }
        },
        "ce2a83d504ac4740938ac379656cc2be": {
          "model_module": "@jupyter-widgets/base",
          "model_name": "LayoutModel",
          "model_module_version": "1.2.0",
          "state": {
            "_model_module": "@jupyter-widgets/base",
            "_model_module_version": "1.2.0",
            "_model_name": "LayoutModel",
            "_view_count": null,
            "_view_module": "@jupyter-widgets/base",
            "_view_module_version": "1.2.0",
            "_view_name": "LayoutView",
            "align_content": null,
            "align_items": null,
            "align_self": null,
            "border": null,
            "bottom": null,
            "display": null,
            "flex": null,
            "flex_flow": null,
            "grid_area": null,
            "grid_auto_columns": null,
            "grid_auto_flow": null,
            "grid_auto_rows": null,
            "grid_column": null,
            "grid_gap": null,
            "grid_row": null,
            "grid_template_areas": null,
            "grid_template_columns": null,
            "grid_template_rows": null,
            "height": null,
            "justify_content": null,
            "justify_items": null,
            "left": null,
            "margin": null,
            "max_height": null,
            "max_width": null,
            "min_height": null,
            "min_width": null,
            "object_fit": null,
            "object_position": null,
            "order": null,
            "overflow": null,
            "overflow_x": null,
            "overflow_y": null,
            "padding": null,
            "right": null,
            "top": null,
            "visibility": null,
            "width": null
          }
        },
        "4601a4d6abd248bbb2e55c3a2c6dcd6f": {
          "model_module": "@jupyter-widgets/controls",
          "model_name": "DescriptionStyleModel",
          "model_module_version": "1.5.0",
          "state": {
            "_model_module": "@jupyter-widgets/controls",
            "_model_module_version": "1.5.0",
            "_model_name": "DescriptionStyleModel",
            "_view_count": null,
            "_view_module": "@jupyter-widgets/base",
            "_view_module_version": "1.2.0",
            "_view_name": "StyleView",
            "description_width": ""
          }
        },
        "fbe55caedd0441d7a0c19c2837265aa2": {
          "model_module": "@jupyter-widgets/base",
          "model_name": "LayoutModel",
          "model_module_version": "1.2.0",
          "state": {
            "_model_module": "@jupyter-widgets/base",
            "_model_module_version": "1.2.0",
            "_model_name": "LayoutModel",
            "_view_count": null,
            "_view_module": "@jupyter-widgets/base",
            "_view_module_version": "1.2.0",
            "_view_name": "LayoutView",
            "align_content": null,
            "align_items": null,
            "align_self": null,
            "border": null,
            "bottom": null,
            "display": null,
            "flex": null,
            "flex_flow": null,
            "grid_area": null,
            "grid_auto_columns": null,
            "grid_auto_flow": null,
            "grid_auto_rows": null,
            "grid_column": null,
            "grid_gap": null,
            "grid_row": null,
            "grid_template_areas": null,
            "grid_template_columns": null,
            "grid_template_rows": null,
            "height": null,
            "justify_content": null,
            "justify_items": null,
            "left": null,
            "margin": null,
            "max_height": null,
            "max_width": null,
            "min_height": null,
            "min_width": null,
            "object_fit": null,
            "object_position": null,
            "order": null,
            "overflow": null,
            "overflow_x": null,
            "overflow_y": null,
            "padding": null,
            "right": null,
            "top": null,
            "visibility": null,
            "width": null
          }
        },
        "7e5e76d1452d4dacb1eeddda733ccf6b": {
          "model_module": "@jupyter-widgets/controls",
          "model_name": "ProgressStyleModel",
          "model_module_version": "1.5.0",
          "state": {
            "_model_module": "@jupyter-widgets/controls",
            "_model_module_version": "1.5.0",
            "_model_name": "ProgressStyleModel",
            "_view_count": null,
            "_view_module": "@jupyter-widgets/base",
            "_view_module_version": "1.2.0",
            "_view_name": "StyleView",
            "bar_color": null,
            "description_width": ""
          }
        },
        "d0d6fc9926ff43339b008317a0c575d0": {
          "model_module": "@jupyter-widgets/base",
          "model_name": "LayoutModel",
          "model_module_version": "1.2.0",
          "state": {
            "_model_module": "@jupyter-widgets/base",
            "_model_module_version": "1.2.0",
            "_model_name": "LayoutModel",
            "_view_count": null,
            "_view_module": "@jupyter-widgets/base",
            "_view_module_version": "1.2.0",
            "_view_name": "LayoutView",
            "align_content": null,
            "align_items": null,
            "align_self": null,
            "border": null,
            "bottom": null,
            "display": null,
            "flex": null,
            "flex_flow": null,
            "grid_area": null,
            "grid_auto_columns": null,
            "grid_auto_flow": null,
            "grid_auto_rows": null,
            "grid_column": null,
            "grid_gap": null,
            "grid_row": null,
            "grid_template_areas": null,
            "grid_template_columns": null,
            "grid_template_rows": null,
            "height": null,
            "justify_content": null,
            "justify_items": null,
            "left": null,
            "margin": null,
            "max_height": null,
            "max_width": null,
            "min_height": null,
            "min_width": null,
            "object_fit": null,
            "object_position": null,
            "order": null,
            "overflow": null,
            "overflow_x": null,
            "overflow_y": null,
            "padding": null,
            "right": null,
            "top": null,
            "visibility": null,
            "width": null
          }
        },
        "4d861a5395a6453ca5c5c0b44e612a65": {
          "model_module": "@jupyter-widgets/controls",
          "model_name": "DescriptionStyleModel",
          "model_module_version": "1.5.0",
          "state": {
            "_model_module": "@jupyter-widgets/controls",
            "_model_module_version": "1.5.0",
            "_model_name": "DescriptionStyleModel",
            "_view_count": null,
            "_view_module": "@jupyter-widgets/base",
            "_view_module_version": "1.2.0",
            "_view_name": "StyleView",
            "description_width": ""
          }
        }
      }
    }
  },
  "nbformat": 4,
  "nbformat_minor": 5
}